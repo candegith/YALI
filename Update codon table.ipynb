{
 "cells": [
  {
   "cell_type": "markdown",
   "metadata": {},
   "source": [
    "# Updating the codon table"
   ]
  },
  {
   "attachments": {},
   "cell_type": "markdown",
   "metadata": {},
   "source": [
    "I want a script that takes an amino acid sequence as input (FASTA format), and creates a codon optimized DNA sequence as output (FASTA). It should be optimized based on an excel file specifying the codon usage. In this notebook, we will go through all the steps needed to create a Yarrowia-specific codon table and save it in an excel file:\n",
    "\n",
    "1. Read excel input\n",
    "\n",
    "2. Remove codons with < 5% frequency\n",
    "\n",
    "3. Recalculate the frequency for each codon (all codons left for each aa should sum 100)\n",
    "\n",
    "4. Assign codon values based on their frequencies - set upper and lower bounds in two different columns in an excel\n",
    "\n",
    "5. Create a new excel file with the updated codon table"
   ]
  },
  {
   "cell_type": "code",
   "execution_count": 4,
   "metadata": {},
   "outputs": [],
   "source": [
    "import pandas as pd #organise and process codon table data\n",
    "from Bio import SeqIO #reading a FASTA file\n",
    "from Bio.Seq import Seq #manipulating genetic sequences, translating them...\n",
    "from Bio.SeqRecord import SeqRecord #manage a sequence and its metadata\n",
    "import random #random number generator, needed for the last function"
   ]
  },
  {
   "cell_type": "code",
   "execution_count": 5,
   "metadata": {},
   "outputs": [],
   "source": [
    "# Read the Excel file into a DataFrame\n",
    "codon_table = pd.read_excel(r'C:\\Users\\Candela\\OneDrive - Danmarks Tekniske Universitet\\Codopti\\codon_table.xlsx', sheet_name=0)"
   ]
  },
  {
   "cell_type": "markdown",
   "metadata": {},
   "source": [
    "Visualise the end of the codon table to check that all the amino acid codons possible appear. "
   ]
  },
  {
   "cell_type": "code",
   "execution_count": 6,
   "metadata": {},
   "outputs": [
    {
     "name": "stdout",
     "output_type": "stream",
     "text": [
      "   Amino Acid Codon  Frequency\n",
      "0           -   TAA       83.0\n",
      "1           -   TAG       10.0\n",
      "2           -   TGA        7.0\n",
      "3           A   GCA        2.2\n",
      "4           A   GCC       59.1\n",
      "..        ...   ...        ...\n",
      "59          V   GTG        8.5\n",
      "60          V   GTT       33.9\n",
      "61          W   TGG      100.0\n",
      "62          Y   TAC       95.1\n",
      "63          Y   TAT        4.9\n",
      "\n",
      "[64 rows x 3 columns]\n"
     ]
    }
   ],
   "source": [
    "print(codon_table) "
   ]
  },
  {
   "cell_type": "markdown",
   "metadata": {},
   "source": [
    "First, find codons with <5% frequency in Yarrowia and remove them. Then, recalculate the frequency of the codons for each amino acid and add it to a new column called \"New Frequency\""
   ]
  },
  {
   "cell_type": "code",
   "execution_count": 7,
   "metadata": {},
   "outputs": [],
   "source": [
    "def updated_table(codon_table, output_excel_path):\n",
    "    # Filter out codons with a frequency less than 5.0\n",
    "    codon_table = codon_table[codon_table['Frequency'] >= 5.0].copy()\n",
    "\n",
    "    # Group the DataFrame by Amino Acid\n",
    "    grouped = codon_table.groupby('Amino Acid')\n",
    "\n",
    "    # Calculate the total frequency for each amino acid\n",
    "    amino_acid_totals = grouped['Frequency'].transform('sum')\n",
    "\n",
    "    # Calculate the new frequencies for each codon based on the rule of three (if 83% (sum of freq(aa) with Freq > 5%) is now 100%, what is the new individual freq of each aa)\n",
    "    codon_table['New Frequency'] = (\n",
    "        codon_table['Frequency'] / amino_acid_totals * 100\n",
    "    )\n",
    "\n",
    "    # Write the updated DataFrame to a new Excel file\n",
    "    codon_table.to_excel(output_excel_path, index=False)\n"
   ]
  },
  {
   "cell_type": "code",
   "execution_count": 8,
   "metadata": {},
   "outputs": [],
   "source": [
    "opt_codon_table = r'C:\\Users\\Candela\\OneDrive - Danmarks Tekniske Universitet\\Codopti\\opt_codon_table.xlsx' \n",
    "updated_table(codon_table, opt_codon_table)"
   ]
  },
  {
   "cell_type": "markdown",
   "metadata": {},
   "source": [
    "Now we can check if the opt_codon_table has less rows and a new frequency column:"
   ]
  },
  {
   "cell_type": "code",
   "execution_count": 9,
   "metadata": {},
   "outputs": [
    {
     "name": "stdout",
     "output_type": "stream",
     "text": [
      "   Amino Acid Codon  Frequency  New Frequency\n",
      "0           -   TAA       83.0      83.000000\n",
      "1           -   TAG       10.0      10.000000\n",
      "2           -   TGA        7.0       7.000000\n",
      "3           A   GCC       59.1      60.927835\n",
      "4           A   GCT       37.9      39.072165\n",
      "5           C   TGC       65.6      65.600000\n",
      "6           C   TGT       34.4      34.400000\n",
      "7           D   GAC       70.0      70.000000\n",
      "8           D   GAT       30.0      30.000000\n",
      "9           E   GAA        6.4       6.400000\n",
      "10          E   GAG       93.6      93.600000\n",
      "11          F   TTC       80.7      80.700000\n",
      "12          F   TTT       19.3      19.300000\n",
      "13          G   GGA       16.2      16.413374\n",
      "14          G   GGC       30.6      31.003040\n",
      "15          G   GGT       51.9      52.583587\n",
      "16          H   CAC       85.2      85.200000\n",
      "17          H   CAT       14.8      14.800000\n",
      "18          I   ATC       65.0      65.789474\n",
      "19          I   ATT       33.8      34.210526\n",
      "20          K   AAG       97.3     100.000000\n",
      "21          L   CTC       46.7      48.343685\n",
      "22          L   CTG       25.4      26.293996\n",
      "23          L   CTT       24.5      25.362319\n",
      "24          M   ATG      100.0     100.000000\n",
      "25          N   AAC       95.8     100.000000\n",
      "26          P   CCC       74.0      76.210093\n",
      "27          P   CCT       23.1      23.789907\n",
      "28          Q   CAG       95.1     100.000000\n",
      "29          R   CGA       86.1     100.000000\n",
      "30          S   TCC       51.1      57.031250\n",
      "31          S   TCT       38.5      42.968750\n",
      "32          T   ACC       73.6      75.720165\n",
      "33          T   ACT       23.6      24.279835\n",
      "34          V   GTC       56.4      57.085020\n",
      "35          V   GTG        8.5       8.603239\n",
      "36          V   GTT       33.9      34.311741\n",
      "37          W   TGG      100.0     100.000000\n",
      "38          Y   TAC       95.1     100.000000\n"
     ]
    }
   ],
   "source": [
    "print(pd.read_excel(opt_codon_table)) #we need the pd.read_excel because this excel has not been saved as a dataframe yet"
   ]
  },
  {
   "cell_type": "markdown",
   "metadata": {},
   "source": [
    "Now, we have to add two more columns to the table which correspond to the lower and upper bounds for each amino acid. This is because we want the choice of codon to be random but still determined by its natural frequency. Therefore, we must assign an interval (two values) for each codon. The random number generator, should respect the natural frequency, but assign the codons randomly. This will avoid repetitive sequences and will give us more flexibility, since a new sequence will be generated every time the code is run:"
   ]
  },
  {
   "cell_type": "code",
   "execution_count": 10,
   "metadata": {},
   "outputs": [],
   "source": [
    "def bounds(codon_table, output_excel_path):\n",
    "    for amino_acid, group in codon_table.groupby(\"Amino Acid\"):\n",
    "        # Select codons for the current amino acid:\n",
    "        amino_acid_codons = group\n",
    "        # Assign upper and lower bounds based on their frequencies\n",
    "        value_ranges = []\n",
    "        lower_bound = 0\n",
    "        for _, row in amino_acid_codons.iterrows():\n",
    "            upper_bound = lower_bound + row['New Frequency']\n",
    "            value_ranges.append((row['Codon'], round(lower_bound, 2), round(upper_bound, 2)))\n",
    "            lower_bound = upper_bound # Update the lower bound for the next iteration \n",
    "        for val_range in value_ranges:\n",
    "            # Update the DataFrame with lower and upper bounds for each codon\n",
    "            codon_table.loc[(codon_table['Amino Acid'] == amino_acid) & (codon_table['Codon'] == val_range[0]), 'Lower_Bound'] = val_range[1]\n",
    "            codon_table.loc[(codon_table['Amino Acid'] == amino_acid) & (codon_table['Codon'] == val_range[0]), 'Upper_Bound'] = val_range[2]\n",
    "    # Save the DataFrame with bounds to a new Excel file\n",
    "    codon_table.round({'New Frequency': 2, 'Lower_Bound': 2, 'Upper_Bound': 2}).to_excel(output_excel_path, index=False)"
   ]
  },
  {
   "cell_type": "code",
   "execution_count": 11,
   "metadata": {},
   "outputs": [],
   "source": [
    "bounds_codon_table = r'C:\\Users\\Candela\\OneDrive - Danmarks Tekniske Universitet\\Codopti\\bounds_codon_table.xlsx' \n",
    "bounds(pd.read_excel(opt_codon_table), bounds_codon_table)"
   ]
  },
  {
   "cell_type": "markdown",
   "metadata": {},
   "source": [
    "Check if the new columns were created:"
   ]
  },
  {
   "cell_type": "code",
   "execution_count": 12,
   "metadata": {},
   "outputs": [
    {
     "name": "stdout",
     "output_type": "stream",
     "text": [
      "   Amino Acid Codon  Frequency  New Frequency  Lower_Bound  Upper_Bound\n",
      "0           -   TAA       83.0          83.00         0.00        83.00\n",
      "1           -   TAG       10.0          10.00        83.00        93.00\n",
      "2           -   TGA        7.0           7.00        93.00       100.00\n",
      "3           A   GCC       59.1          60.93         0.00        60.93\n",
      "4           A   GCT       37.9          39.07        60.93       100.00\n",
      "5           C   TGC       65.6          65.60         0.00        65.60\n",
      "6           C   TGT       34.4          34.40        65.60       100.00\n",
      "7           D   GAC       70.0          70.00         0.00        70.00\n",
      "8           D   GAT       30.0          30.00        70.00       100.00\n",
      "9           E   GAA        6.4           6.40         0.00         6.40\n",
      "10          E   GAG       93.6          93.60         6.40       100.00\n",
      "11          F   TTC       80.7          80.70         0.00        80.70\n",
      "12          F   TTT       19.3          19.30        80.70       100.00\n",
      "13          G   GGA       16.2          16.41         0.00        16.41\n",
      "14          G   GGC       30.6          31.00        16.41        47.42\n",
      "15          G   GGT       51.9          52.58        47.42       100.00\n",
      "16          H   CAC       85.2          85.20         0.00        85.20\n",
      "17          H   CAT       14.8          14.80        85.20       100.00\n",
      "18          I   ATC       65.0          65.79         0.00        65.79\n",
      "19          I   ATT       33.8          34.21        65.79       100.00\n",
      "20          K   AAG       97.3         100.00         0.00       100.00\n",
      "21          L   CTC       46.7          48.34         0.00        48.34\n",
      "22          L   CTG       25.4          26.29        48.34        74.64\n",
      "23          L   CTT       24.5          25.36        74.64       100.00\n",
      "24          M   ATG      100.0         100.00         0.00       100.00\n",
      "25          N   AAC       95.8         100.00         0.00       100.00\n",
      "26          P   CCC       74.0          76.21         0.00        76.21\n",
      "27          P   CCT       23.1          23.79        76.21       100.00\n",
      "28          Q   CAG       95.1         100.00         0.00       100.00\n",
      "29          R   CGA       86.1         100.00         0.00       100.00\n",
      "30          S   TCC       51.1          57.03         0.00        57.03\n",
      "31          S   TCT       38.5          42.97        57.03       100.00\n",
      "32          T   ACC       73.6          75.72         0.00        75.72\n",
      "33          T   ACT       23.6          24.28        75.72       100.00\n",
      "34          V   GTC       56.4          57.09         0.00        57.09\n",
      "35          V   GTG        8.5           8.60        57.09        65.69\n",
      "36          V   GTT       33.9          34.31        65.69       100.00\n",
      "37          W   TGG      100.0         100.00         0.00       100.00\n",
      "38          Y   TAC       95.1         100.00         0.00       100.00\n"
     ]
    }
   ],
   "source": [
    "print(pd.read_excel(bounds_codon_table))"
   ]
  },
  {
   "cell_type": "markdown",
   "metadata": {},
   "source": [
    "--------------------------------"
   ]
  }
 ],
 "metadata": {
  "kernelspec": {
   "display_name": "base",
   "language": "python",
   "name": "python3"
  },
  "language_info": {
   "codemirror_mode": {
    "name": "ipython",
    "version": 3
   },
   "file_extension": ".py",
   "mimetype": "text/x-python",
   "name": "python",
   "nbconvert_exporter": "python",
   "pygments_lexer": "ipython3",
   "version": "3.9.13"
  },
  "orig_nbformat": 4
 },
 "nbformat": 4,
 "nbformat_minor": 2
}
