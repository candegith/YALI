{
 "cells": [
  {
   "cell_type": "markdown",
   "metadata": {},
   "source": [
    "# Sequence optimisation"
   ]
  },
  {
   "cell_type": "markdown",
   "metadata": {},
   "source": [
    "The user should be able to specify forbidden sequences (e.g. restriction sites, polynucleotides) that the script avoids, should keep the sequence within an acceptable GC content (30-80%), both locally (specified window size, e.g. 15 bp) and globally (whole sequence). In the end the script should double check that the DNA generated translates to the AA sequence provided as input. The steps are:\n",
    "\n",
    "1. Download a fasta sequence from FungiDB and visualise it using biopython\n",
    "\n",
    "2. Create a dictionary of forbidden sequences: SapI (7nt), BsaI, NotI, no stretches of the same nucleotide max 8, GC content. 12nt of both the forward and reverse sequences should be checked every time a new codon is added.\n",
    "\n",
    "3. Run the sequence through the code - check that a new sequence is generated every time.\n",
    "\n",
    "4. Translate the sequence and check if it matches the original one.\n",
    "\n"
   ]
  },
  {
   "cell_type": "code",
   "execution_count": 1,
   "metadata": {},
   "outputs": [],
   "source": [
    "import pandas as pd\n",
    "from Bio import SeqIO\n",
    "from Bio.Seq import Seq\n",
    "from Bio.SeqRecord import SeqRecord\n",
    "import random"
   ]
  },
  {
   "cell_type": "markdown",
   "metadata": {},
   "source": [
    "In rare cases you might need rare codons - if restriction site is present in code - let it proceed but flag - say that it needs to be changed by hand - THE AIM OF THIS NOTEBOOK IS TO AVOID THIS"
   ]
  },
  {
   "cell_type": "markdown",
   "metadata": {},
   "source": [
    "Downloaded a random fasta sequence that we will codon optimise."
   ]
  },
  {
   "cell_type": "code",
   "execution_count": 2,
   "metadata": {},
   "outputs": [],
   "source": [
    "my_fasta = r'C:\\Users\\Candela\\OneDrive - Danmarks Tekniske Universitet\\Codopti\\YALI2.txt' "
   ]
  },
  {
   "cell_type": "markdown",
   "metadata": {},
   "source": [
    "Visualise your amino acid fasta sequence:"
   ]
  },
  {
   "cell_type": "code",
   "execution_count": 4,
   "metadata": {},
   "outputs": [
    {
     "name": "stdout",
     "output_type": "stream",
     "text": [
      "YALI0_D05621g\n",
      "592\n",
      "SeqRecord(seq=Seq('MAHDSELELSDEKVVPSINQEKHSFFQRHLDNHPRMAQYNSQLQRFLKWIEVPT...IIS'), id='YALI0_D05621g', name='YALI0_D05621g', description='YALI0_D05621g  | Yarrowia lipolytica CLIB122 | YALI0D05621p | protein | length=592', dbxrefs=[])\n"
     ]
    }
   ],
   "source": [
    "for seq_record in SeqIO.parse(my_fasta, \"fasta\"):\n",
    "    print(seq_record.id)\n",
    "    print(len(seq_record))\n",
    "    print(repr(seq_record))\n",
    "    name = seq_record.id\n",
    "    AA_seq = seq_record.seq"
   ]
  },
  {
   "cell_type": "markdown",
   "metadata": {},
   "source": [
    "Use the updated_opt_codon_table to reverse translate the amino acid sequence. First open the excel file with the new codon table including the upper and lower bounds:"
   ]
  },
  {
   "cell_type": "code",
   "execution_count": 7,
   "metadata": {},
   "outputs": [],
   "source": [
    "   # Read the Excel file into a DataFrame\n",
    "#updated_codon_table = pd.read_excel(r'C:\\Users\\Candela\\OneDrive - Danmarks Tekniske Universitet\\Codopti\\PATH', sheet_name=0)"
   ]
  },
  {
   "cell_type": "markdown",
   "metadata": {},
   "source": [
    "---------------------------------"
   ]
  },
  {
   "cell_type": "code",
   "execution_count": null,
   "metadata": {},
   "outputs": [],
   "source": [
    "\n",
    "def reverse_translate_amino_acids_fasta(AA_seq, codon_table):\n",
    "    # Initialize an empty DNA sequence\n",
    "    dna_sequence = Seq(\"\")\n",
    "    \n",
    "    # Remove the header line from the FASTA format\n",
    "    amino_acid_sequence = AA_seq\n",
    "    \n",
    "    print(amino_acid_sequence)\n",
    "\n",
    "    for amino_acid in amino_acid_sequence:\n",
    "        # Filter the codon table for the current amino acid\n",
    "        amino_acid_codons = codon_table[codon_table['Amino Acid'] == amino_acid]\n",
    "\n",
    "        if not amino_acid_codons.empty:\n",
    "            # Assign codon value ranges based on their frequencies\n",
    "            value_ranges = []\n",
    "            lower_bound = 0\n",
    "            for _, row in amino_acid_codons.iterrows():\n",
    "                upper_bound = lower_bound + row['New Frequency']\n",
    "                value_ranges.append((row['Codon'], lower_bound, upper_bound))\n",
    "                lower_bound = upper_bound\n",
    "\n",
    "            # Generate a random value within the specified range\n",
    "            random_value = random.uniform(0, 100)\n",
    "\n",
    "            # Map the random value to the corresponding codon\n",
    "            for codon, lower, upper in value_ranges:\n",
    "                if lower <= random_value <= upper:\n",
    "                    dna_sequence += Seq(codon)\n",
    "                    break\n",
    "\n",
    "    return dna_sequence\n",
    "\n",
    "# Call the function to reverse translate the amino acid sequence\n",
    "reverse_translated_dna = reverse_translate_amino_acids_fasta(AA_seq, updated_opt_codon_table)\n",
    "\n",
    "# Create a SeqRecord object for the DNA sequence\n",
    "dna_record = SeqRecord(reverse_translated_dna, id=\"reverse_translated_sequence\")\n",
    "\n",
    "# Print the SeqRecord or save it to a FASTA file\n",
    "print(dna_record.format(\"fasta\"))\n"
   ]
  },
  {
   "cell_type": "markdown",
   "metadata": {},
   "source": [
    "Check for forbidden sequences:\n",
    "\n"
   ]
  },
  {
   "cell_type": "code",
   "execution_count": null,
   "metadata": {},
   "outputs": [],
   "source": [
    "from Bio.SeqUtils import GC\n",
    "GC(dna_record.seq)"
   ]
  },
  {
   "cell_type": "markdown",
   "metadata": {},
   "source": [
    "Translate the sequence to check if it's the same as the input one:"
   ]
  },
  {
   "cell_type": "code",
   "execution_count": null,
   "metadata": {},
   "outputs": [],
   "source": [
    "dna_record_new = dna_record.translate() \n",
    "print(dna_record_new)"
   ]
  },
  {
   "cell_type": "code",
   "execution_count": null,
   "metadata": {},
   "outputs": [],
   "source": [
    "dna_record_new.seq == AA_seq"
   ]
  }
 ],
 "metadata": {
  "kernelspec": {
   "display_name": "base",
   "language": "python",
   "name": "python3"
  },
  "language_info": {
   "codemirror_mode": {
    "name": "ipython",
    "version": 3
   },
   "file_extension": ".py",
   "mimetype": "text/x-python",
   "name": "python",
   "nbconvert_exporter": "python",
   "pygments_lexer": "ipython3",
   "version": "3.9.13"
  },
  "orig_nbformat": 4
 },
 "nbformat": 4,
 "nbformat_minor": 2
}
