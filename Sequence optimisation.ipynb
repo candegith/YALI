{
 "cells": [
  {
   "cell_type": "markdown",
   "metadata": {},
   "source": [
    "# Sequence optimisation"
   ]
  },
  {
   "cell_type": "markdown",
   "metadata": {},
   "source": [
    "The user should be able to specify forbidden sequences (e.g. restriction sites, polynucleotides) that the script avoids, should keep the sequence within an acceptable GC content (30-80%), both locally (specified window size, e.g. 15 bp) and globally (whole sequence). In the end the script should double check that the DNA generated translates to the AA sequence provided as input. The steps are:\n",
    "\n",
    "1. Download your fasta sequence from FungiDB and visualise it using biopython\n",
    "\n",
    "2. Create a dictionary of forbidden sequences: SapI (7nt), BsaI, NotI, no stretches of the same nucleotide max 8, GC content. 12nt of both the forward and reverse sequences should be checked every time a new codon is added.\n",
    "\n",
    "3. Run the sequence through the code - check that a new sequence is generated every time.\n",
    "\n",
    "4. Translate the sequence and check if it matches the original one.\n",
    "\n",
    "5. Find a way to collect all optimised sequences in a multifasta (bloc)\n"
   ]
  },
  {
   "cell_type": "code",
   "execution_count": 1,
   "metadata": {},
   "outputs": [],
   "source": [
    "import pandas as pd\n",
    "from Bio import SeqIO\n",
    "from Bio.Seq import Seq\n",
    "from Bio.SeqRecord import SeqRecord\n",
    "import random\n",
    "from Bio.SeqUtils import GC"
   ]
  },
  {
   "cell_type": "markdown",
   "metadata": {},
   "source": [
    "Downloaded a random fasta sequence that we will codon optimise."
   ]
  },
  {
   "cell_type": "code",
   "execution_count": 6,
   "metadata": {},
   "outputs": [],
   "source": [
    "my_fasta = r'C:\\Users\\Candela\\OneDrive - Danmarks Tekniske Universitet\\Codopti\\YALI2.txt' \n",
    "codon_table = pd.read_excel(r'C:\\Users\\Candela\\OneDrive - Danmarks Tekniske Universitet\\Codopti\\bounds_codon_table.xlsx')"
   ]
  },
  {
   "cell_type": "markdown",
   "metadata": {},
   "source": [
    "        \"add_stop (bool, optional): Adds final stop codon (TAA) if True. Defaults to True.\n",
    "        GC_limit_upper (int, optional): Upper limit for local GC content. Defaults to 80.\n",
    "        GC_limit_lower (int, optional): Lower limit for local GC content. Defaults to 20.\n",
    "        window_size_gc (int, optional): Window size for local GC content. Defaults to 12.\n",
    "        window_size_poly (int, optional): Shortest stretch of polynucleotides not allowed. Defaults to 8.\n",
    "        lenient_GC (bool, optional): Tries to stay within GC constraints, but may proceed for with high local GC content is unavoidable. Defaults to False.\n",
    "        quiet (bool, optional): Silences print comments during the script. Defaults to True.\""
   ]
  },
  {
   "cell_type": "markdown",
   "metadata": {},
   "source": [
    "Let's now reverse translate the sequence using the upper and lower bounds and a random number generator:"
   ]
  },
  {
   "cell_type": "code",
   "execution_count": 21,
   "metadata": {},
   "outputs": [],
   "source": [
    "def codon_opt(AA_seq, codon_table):\n",
    "    \"\"\" Script to convert an AA sequence into a Yarrowia lipolytica codon optimized DNA sequence.\n",
    " \n",
    "    Args:\n",
    "        AA_seq (str): Amino acid sequence\n",
    "        codon_table (excel file): Optimised codon table \n",
    "        GC_limit_upper (int, optional): Upper limit for local GC content. Defaults to 80.\n",
    "        GC_limit_lower (int, optional): Lower limit for local GC content. Defaults to 20.\n",
    "    Returns:\n",
    "        DNA_seq (str): Codon optimized DNA sequence\n",
    "    \"\"\"\n",
    "    # Initialize an empty DNA sequence\n",
    "    dna_sequence = Seq(\"\")\n",
    "\n",
    "    for amino_acid in AA_seq:\n",
    "        # Filter the codon table for the current amino acid\n",
    "        amino_acid_codons = codon_table[codon_table['Amino Acid'] == amino_acid]\n",
    "\n",
    "        if not amino_acid_codons.empty:\n",
    "            # Generate a random value within the specified range\n",
    "            random_value = random.uniform(0, 100)\n",
    "\n",
    "            # Map the random value to the corresponding codon using the bounds from the table\n",
    "            for _, row in amino_acid_codons.iterrows():\n",
    "                if row['Lower_Bound'] <= random_value < row['Upper_Bound']: #If the  random number generated is exactly the boundary between codons, the code will select the codon that appears first in the DataFrame.\n",
    "                    dna_sequence += Seq(row['Codon'])\n",
    "                    break\n",
    "\n",
    "    return dna_sequence"
   ]
  },
  {
   "cell_type": "code",
   "execution_count": 22,
   "metadata": {},
   "outputs": [
    {
     "name": "stdout",
     "output_type": "stream",
     "text": [
      "YALI0_D05621g\n",
      "592\n",
      "SeqRecord(seq=Seq('MAHDSELELSDEKVVPSINQEKHSFFQRHLDNHPRMAQYNSQLQRFLKWIEVPT...IIS'), id='YALI0_D05621g', name='YALI0_D05621g', description='YALI0_D05621g  | Yarrowia lipolytica CLIB122 | YALI0D05621p | protein | length=592', dbxrefs=[])\n",
      ">YALI0_D05621g_opti\n",
      "ATGGCCCACGACTCCGAGCTTGAGCTCTCCGACGAGAAGGTCGTGCCTTCTATCAACCAG\n",
      "GAGAAGCACTCCTTTTTCCAGCGACACCTCGACAACCACCCCCGAATGGCTCAGTACAAC\n",
      "TCCCAGCTCCAGCGATTCCTCAAGTGGATCGAGGTTCCTACCAAGGAGGGTGAGATCAAC\n",
      "ACTTTCCTCAACAACGAGGATCTGAAGCCCGTCGAGGTCGCTCGACAGACCTGGGGCTGG\n",
      "AAGAACTTTGTCTCCTTCTGGATCGCTGACTCCTTTAACATCAACACCTGGGAGATCGCT\n",
      "GCCACCGGCATCCAGCTCGGCCTCACCTGGTGGCAGGTCTGGCTCTGCGTTTGGATCGGC\n",
      "TACTTCTTCTGTGGTGTCTTCGTTGTCCTCTCTGGCCGAATCGGTGCCATTTACCATGTC\n",
      "TCCTTCCCCGTTGCTGGACGATCCACTTTTGGCATCTTCGGCTCCATTTGGCCCGTCATC\n",
      "AACCGAGTTGTCATGGCCTGTGTCTGGTACGGTGTCCAGGGTTGGCTTGGCGGCCAGTGC\n",
      "ATCCAGGTCTGCCTCCTTGCCATTTGGCCCTCCGCCCGACACATGAAGAACGGTATCCCC\n",
      "GGCTCCGGTACTACTACCTTCGAGTTCCTGTCCTACTTCCTGTTTTGGCTTTTCTCCCTG\n",
      "CCCTTCATCTACATCCGACCCCATAACCTCCGACACCTCTTCATGGTCAAGGCTGCTATT\n",
      "GTTCCTGTTGCTGGAATCTCTTTCCTCGTCTGGACCTGCGTCAAGGCTCACGGAATTGGA\n",
      "CCCATTATGAAGCAGCCCGCTACCGTCCACGGTTCCGTTATGGGTTGGGCCTTCATGACC\n",
      "GCCATCATGAACTCCCTTTCCAACTTCGCTACTATCATTGTTAACGCCCCCGACTTTACC\n",
      "CGATTCGCCAAGGAGCCCAACGCTATCGTGCTTTCTCAGCTCATCGCTGTCCCCACCGCT\n",
      "TTCTCTCTTACCTCTTTTATCGGAATCATCGTTTCTTCCTCTGCCACCGTCCTGTACGAT\n",
      "GAAAACATTTGGAACCCCCTCGACGTCCTGCACAAGTTCCTCGAGGGCAACAAGTCTGGC\n",
      "TCTCGAGCCGGCGTCTTCTTCCTGGGATTCGCCTTCGCTGTTGCCCAGCTCGGCACCAAC\n",
      "ATCGCCGCTAACTCCCTGTCCGCTGGCACTGACATGACCGCTCTTCTTCCCAAGTACATC\n",
      "AACATCCGACGAGGAGGTTTCATTTGCGCCGGAATCGCCCTGTGTATCTGTCCCTGGCAC\n",
      "CTTCTGTCCTCCTCCTCCAACTTCACCACCTACCTCTCTGCCTACGCCACCTTCCTCTCC\n",
      "GCCATTGCCGGTTGCTCCTTCTCTGACTACTACCTGGTCCGAAAGGGCTACATCTACGTT\n",
      "GGTGACCTCTACAACGCCTCTAAGGGTTCCACTTACATGTACCGATACGGAGTCAACTGG\n",
      "CGAGCCTTCGCCGCTTACTTCTGCGGAATCGCCATCAACGTGGTTGGTTTCGCCGACGCT\n",
      "GTTTCCGACGGTGGTGTCAACGAGACCGCCCGAAAGATGTACCAGCTTAACTTCTTTCTT\n",
      "GGCTTCCTGGTCTCTGCTATCTCTTACTACGGTTTTAACTGGCTCTCTCCCGTTGTTGGC\n",
      "GCCCGAGAAACCTGGTCCGAGGACCCCAACGCCTCCGCCATGTACGATGAGATTACTACC\n",
      "GACGAGCTCTCCCAGGACTCCCAGTCCTACGATCCTGAGGAGTGGGATCGAAAGATCGCC\n",
      "AACGACGACCCTGTTAAGACCACTGCCATCATTTCC\n",
      "\n"
     ]
    }
   ],
   "source": [
    "for seq_record in SeqIO.parse(my_fasta, \"fasta\"):\n",
    "    print(seq_record.id)\n",
    "    print(len(seq_record))\n",
    "    print(repr(seq_record))\n",
    "    # Call the function to reverse translate the amino acid sequence\n",
    "    reverse_translated_dna = codon_opt(seq_record.seq, codon_table)\n",
    "    # Create a SeqRecord object for the DNA sequence\n",
    "    dna_record = SeqRecord(reverse_translated_dna, id=(seq_record.id+\"_opti\"), description=\"\")\n",
    "    # Print the SeqRecord or save it to a FASTA file\n",
    "    print(dna_record.format(\"fasta\"))"
   ]
  },
  {
   "cell_type": "markdown",
   "metadata": {},
   "source": [
    "-----------------------------------"
   ]
  },
  {
   "cell_type": "markdown",
   "metadata": {},
   "source": [
    "flag GC content:"
   ]
  },
  {
   "cell_type": "code",
   "execution_count": null,
   "metadata": {},
   "outputs": [],
   "source": [
    "def reverse_translate_amino_acids_fasta(AA_seq, codon_table):\n",
    "    # Define the forbidden sequences\n",
    "    forbidden_sequences = [\"GCTCTTCN\", \"GCGGCCGC\", \"GGTCTCNNNNN\"]\n",
    "    \n",
    "    # Initialize an empty DNA sequence\n",
    "    dna_sequence = Seq(\"\")\n",
    "    \n",
    "    # Since we have previously defined AA_seq as seq_record.seq, we do not have the header line from the FASTA format\n",
    "    amino_acid_sequence = AA_seq \n",
    "\n",
    "    while True:\n",
    "        # Initialize a list to keep track of added codons\n",
    "        added_codons = []\n",
    "        \n",
    "        for amino_acid in amino_acid_sequence:\n",
    "            # Filter the codon table for the current amino acid\n",
    "            amino_acid_codons = codon_table[codon_table['Amino Acid'] == amino_acid]\n",
    "\n",
    "            if not amino_acid_codons.empty:\n",
    "                # Generate a random value within the specified range\n",
    "                random_value = random.uniform(0, 100)\n",
    "\n",
    "                # Map the random value to the corresponding codon using the bounds from the table\n",
    "                selected_codon = None\n",
    "                for _, row in amino_acid_codons.iterrows():\n",
    "                    if row['Lower_Bound'] <= random_value <= row['Upper_Bound']:\n",
    "                        selected_codon = row['Codon']\n",
    "                        break\n",
    "                    \n",
    "                # Check if the selected codon contains any forbidden sequences\n",
    "                contains_forbidden_sequence = any(seq in selected_codon for seq in forbidden_sequences)\n",
    "                \n",
    "                if not contains_forbidden_sequence:\n",
    "                    # Add the selected codon to the DNA sequence\n",
    "                    dna_sequence += Seq(selected_codon)\n",
    "                    added_codons.append(selected_codon)\n",
    "        \n",
    "        # Check if the generated sequence contains any forbidden sequences\n",
    "        contains_forbidden_sequence = any(seq in dna_sequence for seq in forbidden_sequences)\n",
    "        \n",
    "        if not contains_forbidden_sequence:\n",
    "            break  # Exit the loop if the sequence is valid\n",
    "    \n",
    "    return dna_sequence\n"
   ]
  },
  {
   "cell_type": "code",
   "execution_count": null,
   "metadata": {},
   "outputs": [],
   "source": [
    "# Call the function to reverse translate the amino acid sequence\n",
    "reverse_translated_dna = reverse_translate_amino_acids_fasta(AA_seq, pd.read_excel(bounds_codon_table))\n",
    "\n",
    "# Create a SeqRecord object for the DNA sequence\n",
    "dna_record = SeqRecord(reverse_translated_dna, id=\"reverse_translated_sequence\")\n",
    "\n",
    "# Print the SeqRecord or save it to a FASTA file\n",
    "print(dna_record.format(\"fasta\"))"
   ]
  },
  {
   "cell_type": "markdown",
   "metadata": {},
   "source": [
    "Check for forbidden sequences:\n",
    "\n",
    "GC, then RE, then polynucleotide\n",
    "\n"
   ]
  },
  {
   "cell_type": "markdown",
   "metadata": {},
   "source": [
    "First flag, then remove."
   ]
  },
  {
   "cell_type": "code",
   "execution_count": null,
   "metadata": {},
   "outputs": [],
   "source": [
    "if forbidden sequence in dna..."
   ]
  },
  {
   "cell_type": "code",
   "execution_count": null,
   "metadata": {},
   "outputs": [],
   "source": [
    "GC(dna_record.seq)"
   ]
  }
 ],
 "metadata": {
  "kernelspec": {
   "display_name": "base",
   "language": "python",
   "name": "python3"
  },
  "language_info": {
   "codemirror_mode": {
    "name": "ipython",
    "version": 3
   },
   "file_extension": ".py",
   "mimetype": "text/x-python",
   "name": "python",
   "nbconvert_exporter": "python",
   "pygments_lexer": "ipython3",
   "version": "3.9.13"
  },
  "orig_nbformat": 4
 },
 "nbformat": 4,
 "nbformat_minor": 2
}
