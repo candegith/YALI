{
 "cells": [
  {
   "cell_type": "markdown",
   "metadata": {},
   "source": [
    "# Updating the codon table"
   ]
  },
  {
   "attachments": {},
   "cell_type": "markdown",
   "metadata": {},
   "source": [
    "I want a script that takes an amino acid sequence as input (FASTA format), and creates a codon optimized DNA sequence as output (FASTA). It should be optimized based on an excel file specifying the codon usage. In this notebook, we will go through all the steps needed to create a Yarrowia-specific codon table and save it in an excel file:\n",
    "\n",
    "1. Read excel input\n",
    "\n",
    "2. Remove codons with < 5% frequency\n",
    "\n",
    "3. Recalculate the frequency for each codon (all codons left for each aa should sum 100)\n",
    "\n",
    "4. Assign codon values based on their frequencies - set upper and lower bounds in two different columns in an excel\n",
    "\n",
    "5. Create a new excel file with the updated codon table"
   ]
  },
  {
   "cell_type": "code",
   "execution_count": 1,
   "metadata": {},
   "outputs": [],
   "source": [
    "import pandas as pd #organise and process codon table data\n",
    "from Bio import SeqIO #reading a FASTA file\n",
    "from Bio.Seq import Seq #manipulating genetic sequences, translating them...\n",
    "from Bio.SeqRecord import SeqRecord #manage a sequence and its metadata\n",
    "import random #random number generator, needed for the last function"
   ]
  },
  {
   "cell_type": "code",
   "execution_count": 2,
   "metadata": {},
   "outputs": [],
   "source": [
    "# Read the Excel file into a DataFrame\n",
    "codon_table = pd.read_excel(r'C:\\Users\\Candela\\OneDrive - Danmarks Tekniske Universitet\\Codopti\\codon_table.xlsx', sheet_name=0)"
   ]
  },
  {
   "cell_type": "markdown",
   "metadata": {},
   "source": [
    "Visualise the end of the codon table to check that all the amino acid codons possible appear. "
   ]
  },
  {
   "cell_type": "code",
   "execution_count": 11,
   "metadata": {},
   "outputs": [
    {
     "name": "stdout",
     "output_type": "stream",
     "text": [
      "   Amino Acid Codon  Frequency\n",
      "0           -   TAA       83.0\n",
      "1           -   TAG       10.0\n",
      "2           -   TGA        7.0\n",
      "3           A   GCA        2.2\n",
      "4           A   GCC       59.1\n",
      "..        ...   ...        ...\n",
      "59          V   GTG        8.5\n",
      "60          V   GTT       33.9\n",
      "61          W   TGG      100.0\n",
      "62          Y   TAC       95.1\n",
      "63          Y   TAT        4.9\n",
      "\n",
      "[64 rows x 3 columns]\n"
     ]
    }
   ],
   "source": [
    "print(codon_table) "
   ]
  },
  {
   "cell_type": "markdown",
   "metadata": {},
   "source": [
    "First, find codons with <5% frequency in Yarrowia and remove them. Then, recalculate the frequency of the codons for each amino acid and add it to a new column called \"New Frequency\""
   ]
  },
  {
   "cell_type": "code",
   "execution_count": 32,
   "metadata": {},
   "outputs": [],
   "source": [
    "def updated_table(codon_table, output_excel_path):\n",
    "    # Filter out codons with a frequency less than 5.0\n",
    "    codon_table = codon_table[codon_table['Frequency'] >= 5.0].copy()\n",
    "\n",
    "    # Group the DataFrame by Amino Acid\n",
    "    grouped = codon_table.groupby('Amino Acid')\n",
    "\n",
    "    # Calculate the total frequency for each amino acid\n",
    "    amino_acid_totals = grouped['Frequency'].transform('sum')\n",
    "\n",
    "    # Calculate the new frequencies for each codon based on the rule of three (if 83% (sum of freq(aa) with Freq > 5%) is now 100%, what is the new individual freq of each aa)\n",
    "    codon_table['New Frequency'] = (\n",
    "        codon_table['Frequency'] / amino_acid_totals * 100\n",
    "    )\n",
    "\n",
    "    # Write the updated DataFrame to a new Excel file\n",
    "    codon_table.to_excel(output_excel_path, index=False)\n"
   ]
  },
  {
   "cell_type": "code",
   "execution_count": 33,
   "metadata": {},
   "outputs": [],
   "source": [
    "opt_codon_table = r'C:\\Users\\Candela\\OneDrive - Danmarks Tekniske Universitet\\Codopti\\opt_codon_table.xlsx' \n",
    "updated_table(codon_table, opt_codon_table)"
   ]
  },
  {
   "cell_type": "markdown",
   "metadata": {},
   "source": [
    "Now we can check if the opt_codon_table has less rows and a new frequency column:"
   ]
  },
  {
   "cell_type": "code",
   "execution_count": 35,
   "metadata": {},
   "outputs": [
    {
     "name": "stdout",
     "output_type": "stream",
     "text": [
      "   Amino Acid Codon  Frequency  New Frequency\n",
      "0           -   TAA       83.0      83.000000\n",
      "1           -   TAG       10.0      10.000000\n",
      "2           -   TGA        7.0       7.000000\n",
      "3           A   GCC       59.1      60.927835\n",
      "4           A   GCT       37.9      39.072165\n",
      "5           C   TGC       65.6      65.600000\n",
      "6           C   TGT       34.4      34.400000\n",
      "7           D   GAC       70.0      70.000000\n",
      "8           D   GAT       30.0      30.000000\n",
      "9           E   GAA        6.4       6.400000\n",
      "10          E   GAG       93.6      93.600000\n",
      "11          F   TTC       80.7      80.700000\n",
      "12          F   TTT       19.3      19.300000\n",
      "13          G   GGA       16.2      16.413374\n",
      "14          G   GGC       30.6      31.003040\n",
      "15          G   GGT       51.9      52.583587\n",
      "16          H   CAC       85.2      85.200000\n",
      "17          H   CAT       14.8      14.800000\n",
      "18          I   ATC       65.0      65.789474\n",
      "19          I   ATT       33.8      34.210526\n",
      "20          K   AAG       97.3     100.000000\n",
      "21          L   CTC       46.7      48.343685\n",
      "22          L   CTG       25.4      26.293996\n",
      "23          L   CTT       24.5      25.362319\n",
      "24          M   ATG      100.0     100.000000\n",
      "25          N   AAC       95.8     100.000000\n",
      "26          P   CCC       74.0      76.210093\n",
      "27          P   CCT       23.1      23.789907\n",
      "28          Q   CAG       95.1     100.000000\n",
      "29          R   CGA       86.1     100.000000\n",
      "30          S   TCC       51.1      57.031250\n",
      "31          S   TCT       38.5      42.968750\n",
      "32          T   ACC       73.6      75.720165\n",
      "33          T   ACT       23.6      24.279835\n",
      "34          V   GTC       56.4      57.085020\n",
      "35          V   GTG        8.5       8.603239\n",
      "36          V   GTT       33.9      34.311741\n",
      "37          W   TGG      100.0     100.000000\n",
      "38          Y   TAC       95.1     100.000000\n"
     ]
    }
   ],
   "source": [
    "print(pd.read_excel(opt_codon_table)) #we need the pd.read_excel because this excel has not been saved as a dataframe yet"
   ]
  },
  {
   "cell_type": "markdown",
   "metadata": {},
   "source": [
    "Now, we have to add two more columns to the table which correspond to the lower and upper bounds for each amino acid. This is because we want the choice of codon to be random but still determined by its natural frequency. Therefore, we must assign an interval (two values) for each codon. The random number generator, should respect the natural frequency, but assign the codons randomly. This will avoid repetitive sequences and will give us more flexibility, since a new sequence will be generated every time the code is run:"
   ]
  },
  {
   "cell_type": "code",
   "execution_count": 51,
   "metadata": {},
   "outputs": [],
   "source": [
    "def bounds(codon_table, output_excel_path):\n",
    "    for amino_acid, group in codon_table.groupby(\"Amino Acid\"):\n",
    "        # Select codons for the current amino acid:\n",
    "        amino_acid_codons = group\n",
    "        # Assign upper and lower bounds based on their frequencies\n",
    "        value_ranges = []\n",
    "        lower_bound = 0\n",
    "        for _, row in amino_acid_codons.iterrows():\n",
    "            upper_bound = lower_bound + row['New Frequency']\n",
    "            value_ranges.append((row['Codon'], round(lower_bound, 2), round(upper_bound, 2)))\n",
    "            lower_bound = upper_bound + 0.01 # Update the lower bound for the next iteration #+0.01?\n",
    "        for val_range in value_ranges:\n",
    "            # Update the DataFrame with lower and upper bounds for each codon\n",
    "            codon_table.loc[(codon_table['Amino Acid'] == amino_acid) & (codon_table['Codon'] == val_range[0]), 'Lower_Bound'] = val_range[1]\n",
    "            codon_table.loc[(codon_table['Amino Acid'] == amino_acid) & (codon_table['Codon'] == val_range[0]), 'Upper_Bound'] = val_range[2]\n",
    "    # Save the DataFrame with bounds to a new Excel file\n",
    "    codon_table.round({'New Frequency': 2, 'Lower_Bound': 2, 'Upper_Bound': 2}).to_excel(output_excel_path, index=False)"
   ]
  },
  {
   "cell_type": "code",
   "execution_count": 52,
   "metadata": {},
   "outputs": [],
   "source": [
    "bounds_codon_table = r'C:\\Users\\Candela\\OneDrive - Danmarks Tekniske Universitet\\Codopti\\bounds_codon_table.xlsx' \n",
    "bounds(pd.read_excel(opt_codon_table), bounds_codon_table)"
   ]
  },
  {
   "cell_type": "markdown",
   "metadata": {},
   "source": [
    "Check if the new columns were created:"
   ]
  },
  {
   "cell_type": "code",
   "execution_count": 54,
   "metadata": {},
   "outputs": [
    {
     "name": "stdout",
     "output_type": "stream",
     "text": [
      "   Amino Acid Codon  Frequency  New Frequency  Lower_Bound  Upper_Bound\n",
      "0           -   TAA       83.0          83.00         0.00        83.00\n",
      "1           -   TAG       10.0          10.00        83.01        93.01\n",
      "2           -   TGA        7.0           7.00        93.02       100.02\n",
      "3           A   GCC       59.1          60.93         0.00        60.93\n",
      "4           A   GCT       37.9          39.07        60.94       100.01\n",
      "5           C   TGC       65.6          65.60         0.00        65.60\n",
      "6           C   TGT       34.4          34.40        65.61       100.01\n",
      "7           D   GAC       70.0          70.00         0.00        70.00\n",
      "8           D   GAT       30.0          30.00        70.01       100.01\n",
      "9           E   GAA        6.4           6.40         0.00         6.40\n",
      "10          E   GAG       93.6          93.60         6.41       100.01\n",
      "11          F   TTC       80.7          80.70         0.00        80.70\n",
      "12          F   TTT       19.3          19.30        80.71       100.01\n",
      "13          G   GGA       16.2          16.41         0.00        16.41\n",
      "14          G   GGC       30.6          31.00        16.42        47.43\n",
      "15          G   GGT       51.9          52.58        47.44       100.02\n",
      "16          H   CAC       85.2          85.20         0.00        85.20\n",
      "17          H   CAT       14.8          14.80        85.21       100.01\n",
      "18          I   ATC       65.0          65.79         0.00        65.79\n",
      "19          I   ATT       33.8          34.21        65.80       100.01\n",
      "20          K   AAG       97.3         100.00         0.00       100.00\n",
      "21          L   CTC       46.7          48.34         0.00        48.34\n",
      "22          L   CTG       25.4          26.29        48.35        74.65\n",
      "23          L   CTT       24.5          25.36        74.66       100.02\n",
      "24          M   ATG      100.0         100.00         0.00       100.00\n",
      "25          N   AAC       95.8         100.00         0.00       100.00\n",
      "26          P   CCC       74.0          76.21         0.00        76.21\n",
      "27          P   CCT       23.1          23.79        76.22       100.01\n",
      "28          Q   CAG       95.1         100.00         0.00       100.00\n",
      "29          R   CGA       86.1         100.00         0.00       100.00\n",
      "30          S   TCC       51.1          57.03         0.00        57.03\n",
      "31          S   TCT       38.5          42.97        57.04       100.01\n",
      "32          T   ACC       73.6          75.72         0.00        75.72\n",
      "33          T   ACT       23.6          24.28        75.73       100.01\n",
      "34          V   GTC       56.4          57.09         0.00        57.09\n",
      "35          V   GTG        8.5           8.60        57.10        65.70\n",
      "36          V   GTT       33.9          34.31        65.71       100.02\n",
      "37          W   TGG      100.0         100.00         0.00       100.00\n",
      "38          Y   TAC       95.1         100.00         0.00       100.00\n"
     ]
    }
   ],
   "source": [
    "print(pd.read_excel(bounds_codon_table))"
   ]
  },
  {
   "cell_type": "markdown",
   "metadata": {},
   "source": [
    "*FROM HERE IT SHOULD BE IN THE NEXT NOTEBOOK*\n",
    "\n",
    "Let's now try to reverse translate the sequence using the upper and lower bounds and a random number generator:"
   ]
  },
  {
   "cell_type": "code",
   "execution_count": 56,
   "metadata": {},
   "outputs": [
    {
     "name": "stdout",
     "output_type": "stream",
     "text": [
      "YALI0_D05621g\n",
      "592\n",
      "SeqRecord(seq=Seq('MAHDSELELSDEKVVPSINQEKHSFFQRHLDNHPRMAQYNSQLQRFLKWIEVPT...IIS'), id='YALI0_D05621g', name='YALI0_D05621g', description='YALI0_D05621g  | Yarrowia lipolytica CLIB122 | YALI0D05621p | protein | length=592', dbxrefs=[])\n"
     ]
    }
   ],
   "source": [
    "#should be in the next notebook\n",
    "my_fasta = r'C:\\Users\\Candela\\OneDrive - Danmarks Tekniske Universitet\\Codopti\\YALI2.txt' \n",
    "for seq_record in SeqIO.parse(my_fasta, \"fasta\"):\n",
    "    print(seq_record.id)\n",
    "    print(len(seq_record))\n",
    "    print(repr(seq_record))\n",
    "    name = seq_record.id\n",
    "    AA_seq = seq_record.seq"
   ]
  },
  {
   "cell_type": "code",
   "execution_count": 55,
   "metadata": {},
   "outputs": [],
   "source": [
    "def reverse_translate_amino_acids_fasta(AA_seq, codon_table):\n",
    "    # Initialize an empty DNA sequence\n",
    "    dna_sequence = Seq(\"\")\n",
    "\n",
    "    # Since we have previously defined AA_seq as seq_record.seq, we do not have the header line from the FASTA format\n",
    "    amino_acid_sequence = AA_seq \n",
    "\n",
    "    for amino_acid in amino_acid_sequence:\n",
    "        # Filter the codon table for the current amino acid\n",
    "        amino_acid_codons = codon_table[codon_table['Amino Acid'] == amino_acid]\n",
    "\n",
    "        if not amino_acid_codons.empty:\n",
    "            # Generate a random value within the specified range\n",
    "            random_value = random.uniform(0, 100)\n",
    "\n",
    "            # Map the random value to the corresponding codon using the bounds from the table\n",
    "            for _, row in amino_acid_codons.iterrows():\n",
    "                if row['Lower_Bound'] <= random_value <= row['Upper_Bound']:\n",
    "                    dna_sequence += Seq(row['Codon'])\n",
    "                    break\n",
    "\n",
    "    return dna_sequence"
   ]
  },
  {
   "cell_type": "code",
   "execution_count": 61,
   "metadata": {},
   "outputs": [
    {
     "name": "stdout",
     "output_type": "stream",
     "text": [
      ">reverse_translated_sequence <unknown description>\n",
      "ATGGCCCACGATTCCGAACTCGAGCTCTCCGACGAAAAGGTCGTTCCTTCCATCAACCAG\n",
      "GAGAAGCACTCCTTCTTCCAGCGACACCTTGACAACCACCCCCGAATGGCTCAGTACAAC\n",
      "TCTCAGCTTCAGCGATTCCTGAAGTGGATCGAGGTCCCCACCAAGGAGGGCGAGATTAAC\n",
      "ACCTTCCTCAACAACGAGGACCTGAAGCCCGTCGAGGTTGCTCGACAGACTTGGGGTTGG\n",
      "AAGAACTTCGTGTCTTTCTGGATCGCTGACTCCTTCAACATTAACACCTGGGAGATCGCT\n",
      "GCCACCGGCATTCAGCTTGGACTCACCTGGTGGCAGGTTTGGCTTTGCGTCTGGATCGGT\n",
      "TACTTCTTCTGCGGTGTTTTCGTTGTTCTTTCCGGACGAATTGGTGCTATCTACCACGTT\n",
      "TCCTTTCCCGTCGCCGGTCGATCTACTTTTGGAATCTTCGGTTCTATCTGGCCCGTCATC\n",
      "AACCGAGTCGTCATGGCTTGCGTTTGGTACGGAGTTCAGGGCTGGCTGGGTGGCCAGTGC\n",
      "ATTCAGGTCTGCCTTCTTGCTATCTGGCCCTCCGCCCGACACATGAAGAACGGTATCCCT\n",
      "GGTTCCGGCACCACTACTTTCGAGTTCCTTTCCTACTTCCTTTTCTGGCTGTTTTCCCTC\n",
      "CCCTTCATCTACATTCGACCTCACAACCTGCGACACCTGTTCATGGTCAAGGCTGCCATT\n",
      "GTTCCCGTCGCCGGTATCTCTTTCCTCGTCTGGACCTGCGTCAAGGCCCACGGCATCGGT\n",
      "CCCATCATGAAGCAGCCTGCCACCGTTCACGGATCTGTTATGGGTTGGGCTTTCATGACC\n",
      "GCTATCATGAACTCCCTGTCCAACTTCGCCACCATCATTGTCAACGCTCCCGATTTTACC\n",
      "CGATTCGCTAAGGAGCCCAACGCCATCGTTCTCTCTCAGCTGATCGCCGTCCCTACCGCT\n",
      "TTCTCCCTGACCTCCTTCATCGGAATCATCGTCTCCTCTTCCGCTACCGTGCTCTACGAT\n",
      "GAGAACATCTGGAACCCCCTTGACGTCCTCCACAAGTTCCTTGAGGGTAACAAGTCCGGT\n",
      "TCTCGAGCTGGTGTCTTCTTCCTCGGTTTCGCCTTTGCTGTCGCTCAGCTCGGCACCAAC\n",
      "ATTGCTGCTAACTCCCTTTCCGCCGGTACCGATATGACCGCCCTGCTTCCCAAGTACATC\n",
      "AACATTCGACGAGGTGGATTCATCTGCGCCGGCATTGCCCTCTGCATTTGTCCCTGGCAC\n",
      "CTCCTTTCCTCTTCTTCCAACTTCACTACCTACCTGTCTGCTTACGCTACCTTCCTTTCC\n",
      "GCTATCGCTGGTTGCTCCTTTTCTGACTACTACCTCGTCCGAAAGGGTTACATCTACGTC\n",
      "GGTGATCTTTACAACGCCTCCAAGGGATCTACTTACATGTACCGATACGGTGTTAACTGG\n",
      "CGAGCCTTCGCCGCCTACTTCTGCGGAATTGCCATCAACGTCGTCGGTTTTGCTGATGCT\n",
      "GTCTCTGATGGTGGCGTCAACGAGACTGCTCGAAAGATGTACCAGCTTAACTTCTTCCTC\n",
      "GGCTTCCTGGTCTCCGCCATTTCCTACTACGGCTTTAACTGGCTCTCTCCCGTCGTTGGC\n",
      "GCTCGAGAGACCTGGTCTGAGGACCCCAACGCCTCCGCTATGTACGACGAGATCACCACC\n",
      "GACGAGCTCTCTCAGGATTCTCAGTCTTACGATCCCGAGGAGTGGGATCGAAAGATCGCT\n",
      "AACGACGATCCTGTCAAGACCACTGCTATCATTTCC\n",
      "\n"
     ]
    }
   ],
   "source": [
    "# Call the function to reverse translate the amino acid sequence\n",
    "reverse_translated_dna = reverse_translate_amino_acids_fasta(AA_seq, pd.read_excel(bounds_codon_table))\n",
    "\n",
    "# Create a SeqRecord object for the DNA sequence\n",
    "dna_record = SeqRecord(reverse_translated_dna, id=\"reverse_translated_sequence\")\n",
    "\n",
    "# Print the SeqRecord or save it to a FASTA file\n",
    "print(dna_record.format(\"fasta\"))"
   ]
  },
  {
   "cell_type": "markdown",
   "metadata": {},
   "source": [
    "--------------------------------------\n"
   ]
  },
  {
   "cell_type": "code",
   "execution_count": 66,
   "metadata": {},
   "outputs": [],
   "source": [
    "def reverse_translate_amino_acids_fasta(AA_seq, codon_table):\n",
    "    # Define the forbidden sequences\n",
    "    forbidden_sequences = [\"GCTCTTCN\", \"GCGGCCGC\", \"GGTCTCNNNNN\"]\n",
    "    \n",
    "    # Initialize an empty DNA sequence\n",
    "    dna_sequence = Seq(\"\")\n",
    "    \n",
    "    # Since we have previously defined AA_seq as seq_record.seq, we do not have the header line from the FASTA format\n",
    "    amino_acid_sequence = AA_seq \n",
    "\n",
    "    while True:\n",
    "        # Initialize a list to keep track of added codons\n",
    "        added_codons = []\n",
    "        \n",
    "        for amino_acid in amino_acid_sequence:\n",
    "            # Filter the codon table for the current amino acid\n",
    "            amino_acid_codons = codon_table[codon_table['Amino Acid'] == amino_acid]\n",
    "\n",
    "            if not amino_acid_codons.empty:\n",
    "                # Generate a random value within the specified range\n",
    "                random_value = random.uniform(0, 100)\n",
    "\n",
    "                # Map the random value to the corresponding codon using the bounds from the table\n",
    "                selected_codon = None\n",
    "                for _, row in amino_acid_codons.iterrows():\n",
    "                    if row['Lower_Bound'] <= random_value <= row['Upper_Bound']:\n",
    "                        selected_codon = row['Codon']\n",
    "                        break\n",
    "                    \n",
    "                # Check if the selected codon contains any forbidden sequences\n",
    "                contains_forbidden_sequence = any(seq in selected_codon for seq in forbidden_sequences)\n",
    "                \n",
    "                if not contains_forbidden_sequence:\n",
    "                    # Add the selected codon to the DNA sequence\n",
    "                    dna_sequence += Seq(selected_codon)\n",
    "                    added_codons.append(selected_codon)\n",
    "        \n",
    "        # Check if the generated sequence contains any forbidden sequences\n",
    "        contains_forbidden_sequence = any(seq in dna_sequence for seq in forbidden_sequences)\n",
    "        \n",
    "        if not contains_forbidden_sequence:\n",
    "            break  # Exit the loop if the sequence is valid\n",
    "    \n",
    "    return dna_sequence\n"
   ]
  },
  {
   "cell_type": "code",
   "execution_count": 68,
   "metadata": {},
   "outputs": [
    {
     "name": "stdout",
     "output_type": "stream",
     "text": [
      ">reverse_translated_sequence <unknown description>\n",
      "ATGGCCCACGATTCTGAGCTGGAGCTCTCCGATGAGAAGGTCGTCCCCTCCATCAACCAG\n",
      "GAGAAGCACTCTTTCTTCCAGCGACACCTGGACAACCATCCCCGAATGGCTCAGTACAAC\n",
      "TCCCAGCTCCAGCGATTTCTTAAGTGGATTGAGGTCCCTACCAAGGAGGGTGAGATCAAC\n",
      "ACCTTCCTCAACAACGAGGACCTCAAGCCCGTCGAGGTCGCCCGACAGACCTGGGGTTGG\n",
      "AAGAACTTCGTCTCTTTCTGGATTGCCGACTCCTTCAACATTAACACCTGGGAGATCGCT\n",
      "GCTACCGGTATCCAGCTCGGCCTGACCTGGTGGCAGGTCTGGCTCTGCGTCTGGATCGGA\n",
      "TACTTCTTCTGCGGTGTCTTCGTGGTTCTCTCCGGCCGAATCGGTGCCATTTACCACGTC\n",
      "TCCTTCCCCGTCGCTGGTCGATCCACCTTTGGTATCTTCGGTTCCATCTGGCCCGTCATC\n",
      "AACCGAGTCGTTATGGCTTGTGTCTGGTACGGTGTCCAGGGCTGGCTCGGTGGACAGTGT\n",
      "ATCCAGGTTTGTCTTCTGGCTATTTGGCCCTCCGCCCGACACATGAAGAACGGAATCCCT\n",
      "GGCTCCGGAACCACCACCTTCGAGTTCCTCTCTTACTTCCTGTTCTGGCTGTTCTCTCTG\n",
      "CCCTTTATCTACATCCGACCCCACAACCTTCGACACCTCTTCATGGTCAAGGCCGCCATC\n",
      "GTTCCCGTTGCTGGTATCTCCTTCCTCGTCTGGACCTGTGTTAAGGCCCACGGTATTGGT\n",
      "CCCATTATGAAGCAGCCCGCTACTGTCCACGGATCTGTGATGGGCTGGGCCTTTATGACC\n",
      "GCTATTATGAACTCTCTGTCTAACTTCGCCACCATTATTGTGAACGCTCCTGACTTCACC\n",
      "CGATTTGCCAAGGAGCCCAACGCTATTGTCCTCTCTCAGCTCATCGCTGTCCCCACTGCT\n",
      "TTCTCTCTTACCTCTTTCATCGGCATCATCGTCTCTTCTTCCGCCACCGTTCTCTACGAT\n",
      "GAGAACATTTGGAACCCCCTTGATGTTCTTCACAAGTTCCTGGAGGGTAACAAGTCCGGA\n",
      "TCCCGAGCCGGAGTCTTCTTCCTTGGCTTCGCTTTCGCTGTGGCCCAGCTCGGTACCAAC\n",
      "ATCGCCGCTAACTCCCTCTCCGCCGGCACCGATATGACCGCCCTGCTGCCCAAGTACATT\n",
      "AACATCCGACGAGGTGGTTTCATCTGCGCTGGCATCGCTCTCTGCATCTGCCCCTGGCAC\n",
      "CTCCTGTCCTCCTCTTCCAACTTCACCACCTACCTTTCCGCTTACGCTACCTTCCTGTCC\n",
      "GCCATCGCCGGTTGCTCCTTCTCCGACTACTACCTTGTCCGAAAGGGTTACATTTACGTG\n",
      "GGTGACCTGTACAACGCTTCTAAGGGTTCTACTTACATGTACCGATACGGTGTCAACTGG\n",
      "CGAGCTTTCGCCGCTTACTTCTGTGGAATTGCCATTAACGTCGTCGGCTTCGCTGATGCC\n",
      "GTTTCCGACGGTGGTGTCAACGAGACCGCCCGAAAGATGTACCAGCTGAACTTTTTCCTG\n",
      "GGCTTCCTGGTCTCCGCCATCTCCTACTACGGTTTCAACTGGCTCTCTCCCGTTGTCGGT\n",
      "GCCCGAGAGACTTGGTCTGAGGATCCCAACGCCTCCGCCATGTACGATGAGATTACTACC\n",
      "GACGAGCTCTCTCAGGATTCCCAGTCTTACGATCCTGAGGAGTGGGATCGAAAGATTGCC\n",
      "AACGATGATCCCGTCAAGACCACCGCTATCATTTCC\n",
      "\n"
     ]
    }
   ],
   "source": [
    "# Call the function to reverse translate the amino acid sequence\n",
    "reverse_translated_dna = reverse_translate_amino_acids_fasta(AA_seq, pd.read_excel(bounds_codon_table))\n",
    "\n",
    "# Create a SeqRecord object for the DNA sequence\n",
    "dna_record = SeqRecord(reverse_translated_dna, id=\"reverse_translated_sequence\")\n",
    "\n",
    "# Print the SeqRecord or save it to a FASTA file\n",
    "print(dna_record.format(\"fasta\"))"
   ]
  },
  {
   "cell_type": "markdown",
   "metadata": {},
   "source": [
    "--------------------------------"
   ]
  },
  {
   "cell_type": "markdown",
   "metadata": {},
   "source": [
    "OLD FUNCTIONS:\n",
    "1st AVOIDS the sequences of the three restriction enzymes but still contains the nd lower bounds"
   ]
  },
  {
   "cell_type": "code",
   "execution_count": 63,
   "metadata": {},
   "outputs": [],
   "source": [
    "def reverse_translate_amino_acids_fasta(AA_seq, codon_table):\n",
    "    # Define the forbidden sequences\n",
    "    forbidden_sequences = [\"GCTCTTCN\", \"GCGGCCGC\", \"GGTCTCNNNNN\"]\n",
    "    \n",
    "    # Initialize an empty DNA sequence\n",
    "    dna_sequence = Seq(\"\")\n",
    "    \n",
    "    # Remove the header line from the FASTA format\n",
    "    amino_acid_sequence = AA_seq\n",
    "    \n",
    "    print(amino_acid_sequence)\n",
    "\n",
    "    while True:\n",
    "        # Initialize a list to keep track of added codons\n",
    "        added_codons = []\n",
    "        \n",
    "        for amino_acid in amino_acid_sequence:\n",
    "            # Filter the codon table for the current amino acid\n",
    "            amino_acid_codons = codon_table[codon_table['Amino Acid'] == amino_acid]\n",
    "\n",
    "            if not amino_acid_codons.empty:\n",
    "                # Assign codon value ranges based on their frequencies\n",
    "                value_ranges = []\n",
    "                lower_bound = 0\n",
    "                for _, row in amino_acid_codons.iterrows():\n",
    "                    upper_bound = lower_bound + row['New Frequency']\n",
    "                    value_ranges.append((row['Codon'], lower_bound, upper_bound))\n",
    "                    lower_bound = upper_bound\n",
    "\n",
    "                while True:\n",
    "                    # Generate a random value within the specified range\n",
    "                    random_value = random.uniform(0, 100)\n",
    "\n",
    "                    # Map the random value to the corresponding codon\n",
    "                    selected_codon = None\n",
    "                    for codon, lower, upper in value_ranges:\n",
    "                        if lower <= random_value <= upper:\n",
    "                            selected_codon = codon\n",
    "                            break\n",
    "                    \n",
    "                    # Check if the selected codon contains any forbidden sequences\n",
    "                    contains_forbidden_sequence = any(seq in selected_codon for seq in forbidden_sequences)\n",
    "                    \n",
    "                    if not contains_forbidden_sequence:\n",
    "                        # Add the selected codon to the DNA sequence\n",
    "                        dna_sequence += Seq(selected_codon)\n",
    "                        added_codons.append(selected_codon)\n",
    "                        break\n",
    "        \n",
    "        # Check if the generated sequence contains any forbidden sequences\n",
    "        contains_forbidden_sequence = any(seq in dna_sequence for seq in forbidden_sequences)\n",
    "        \n",
    "        if not contains_forbidden_sequence:\n",
    "            break  # Exit the loop if the sequence is valid\n",
    "    \n",
    "    return dna_sequence\n"
   ]
  },
  {
   "cell_type": "markdown",
   "metadata": {},
   "source": [
    "--------------------------------"
   ]
  },
  {
   "cell_type": "code",
   "execution_count": 16,
   "metadata": {},
   "outputs": [],
   "source": [
    "def reverse_translate_amino_acids(amino_acid_sequence, codon_table):\n",
    "    dna_sequence = Seq(\"\")\n",
    "    for amino_acid in amino_acid_sequence:\n",
    "        # Filter the codon table for the current amino acid\n",
    "        amino_acid_codons = codon_table[codon_table['Amino Acid'] == amino_acid]\n",
    "\n",
    "        if not amino_acid_codons.empty:\n",
    "            # Assign codon value ranges based on their frequencies\n",
    "            value_ranges = []\n",
    "            lower_bound = 0\n",
    "            for _, row in amino_acid_codons.iterrows():\n",
    "                upper_bound = lower_bound + row['New Frequency']\n",
    "                value_ranges.append((row['Codon'], lower_bound, upper_bound))\n",
    "                lower_bound = upper_bound #+0.1?\n",
    "\n",
    "            # Generate a random value within the specified range\n",
    "            random_value = random.uniform(0, 100)\n",
    "\n",
    "            # Map the random value to the corresponding codon\n",
    "            for codon, lower, upper in value_ranges:\n",
    "                if lower <= random_value <= upper:\n",
    "                    dna_sequence += Seq(codon)\n",
    "                    break\n",
    "\n",
    "    # Ensure that the DNA sequence matches the length of the amino acid sequence\n",
    "    while len(dna_sequence) < len(amino_acid_sequence) * 3:\n",
    "        # If it's shorter, add random codons (you can customize this part)\n",
    "        random_codon = random.choice(codon_table['Codon'])\n",
    "        dna_sequence += random_codon\n",
    "\n",
    "    # Trim the sequence to match the desired length\n",
    "    dna_sequence = dna_sequence[:len(amino_acid_sequence) * 3]\n",
    "\n",
    "    return dna_sequence"
   ]
  },
  {
   "cell_type": "markdown",
   "metadata": {},
   "source": [
    "--------------------------------"
   ]
  },
  {
   "attachments": {},
   "cell_type": "markdown",
   "metadata": {},
   "source": [
    "\n",
    "The table contains three columns:\n",
    "\n",
    "Amino acid: The amino acid encoded by a given codon (“-“ is for stop codon)\n",
    "\n",
    "Codon: The codon in question\n",
    "\n",
    "Frequency: The frequency of a given codon when a specific AA in encoded. \n",
    "\n",
    "(If the following is too confusing/complicated then just get started with the other things first, and then get back to this later.)\n",
    "\n",
    "For example alanine (A), can be encoded by 4 codons (GCA, GCC, GCG, GCT). GCC and GCT occur frequently (59% and 38%), whereas GCA and GCG are very rarely used (2% and 1%). So we can see that Yarrowia has a preference GCC and GCT in regards to alanine.\n",
    "Biologically speaking this also correlates with the number of tRNA genes Yarrowia has for a given codon.\n",
    "\n",
    "When doing codon optimization, we don’t want to use the rare codons at all, and we would like to frequent codons to be selected according to their occurrence by using a random number generator.\n",
    "\n",
    "I would remove the rare codons, and recalculate the frequency for the common codons. You can then proceed in slightly different ways, but you could assign the codons values from 0-100 based on their frequency.\n",
    "\n",
    "In the case of alanine it might look like this:\n",
    "After removing the rare codons, the new frequency is:\n",
    "            GCC = 60.9 %\n",
    "\n",
    "GCT = 39.1 %\n",
    "\n",
    "So lets assign GCC the values 0-60.9, and GCT 61.0-100.\n",
    "\n",
    "We input the sequence AAA, and iterate through it, randomizing a number from 0-100 each time.\n",
    "\n",
    "We might get the numbers 12, 89, and 35. This would then correspond to the sequence GCC + GCT + GCC."
   ]
  }
 ],
 "metadata": {
  "kernelspec": {
   "display_name": "base",
   "language": "python",
   "name": "python3"
  },
  "language_info": {
   "codemirror_mode": {
    "name": "ipython",
    "version": 3
   },
   "file_extension": ".py",
   "mimetype": "text/x-python",
   "name": "python",
   "nbconvert_exporter": "python",
   "pygments_lexer": "ipython3",
   "version": "3.9.13"
  },
  "orig_nbformat": 4
 },
 "nbformat": 4,
 "nbformat_minor": 2
}
