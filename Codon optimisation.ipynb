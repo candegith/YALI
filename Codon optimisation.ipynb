{
 "cells": [
  {
   "attachments": {},
   "cell_type": "markdown",
   "metadata": {},
   "source": [
    "I want a script that takes an amino acid sequence as input (FASTA format), and creates a codon optimized DNA sequence as output (FASTA). \n",
    "\n",
    "It should be optimized based on an excel file specifying the codon usage, the user should be able to specify forbidden sequences (e.g. restriction sites) that the script avoids, and it should keep the sequence within an acceptable GC content (30-80%), both locally (specified window size, e.g. 15 bp) and globally (whole sequence). \n",
    "\n",
    "In the end the script should double check that the DNA generated translates to the AA sequence provided as input. \n",
    "\n",
    "You will need to use the Pandas package for reading the excel/working with the dataframe.\n",
    "\n",
    "and you will need Biopython for reading FASTA format and doing some DNA-related operations (translate, gc-content, etc.)\n",
    "\n",
    "To break it down in to smaller parts, I would recommend to simply start with reading the FASTA and Excel input. \n",
    "\n",
    "as a next step you can try building the DNA sequence (maybe even without considering codon preference) and verifying that it translates correctly. \n",
    "\n",
    "Then you can continue by considering codon preference.\n",
    "\n",
    "and lastly avoiding the forbidden sequences"
   ]
  },
  {
   "cell_type": "markdown",
   "metadata": {},
   "source": [
    "\n",
    "1. Read FASTA and Excel Input:\n",
    "\n",
    "Read the amino acid sequence from the FASTA file.\n",
    "Read the codon usage information from the Excel file. You can use libraries like pandas to handle Excel files.\n",
    "\n",
    "2. Generate DNA Sequence without Codon Optimization:\n",
    "\n",
    "Create a DNA sequence based on the input amino acid sequence without considering codon preference. This can be done using a simple translation table from amino acids to codons.\n",
    "\n",
    "3. Verify Translation:\n",
    "\n",
    "Translate the generated DNA sequence back to an amino acid sequence.\n",
    "Compare the translated amino acid sequence with the input amino acid sequence to ensure they match.\n",
    "\n",
    "4. Codon Optimization:\n",
    "\n",
    "Implement a codon optimization algorithm based on the codon usage information from the Excel file. You can use optimization techniques such as Genetic Algorithms or other heuristics to find the best codon for each amino acid while avoiding forbidden sequences.\n",
    "\n",
    "5. GC Content Control:\n",
    "\n",
    "Calculate the GC content of the generated DNA sequence in a sliding window of the specified size.\n",
    "If the GC content falls outside the acceptable range (20-80%) for any part of the sequence, make necessary adjustments.\n",
    "\n",
    "6. Avoid Forbidden Sequences:\n",
    "\n",
    "Check the generated DNA sequence for the presence of forbidden sequences (e.g., restriction sites) and make modifications to avoid them. You may need to implement a search and replace mechanism for this.\n",
    "\n",
    "7. Iterate and Optimize:\n",
    "\n",
    "Repeat steps 4-6 until you have a DNA sequence that meets all the criteria.\n",
    "\n",
    "8. Write Output to FASTA:\n",
    "\n",
    "Write the optimized DNA sequence to a FASTA file."
   ]
  },
  {
   "cell_type": "markdown",
   "metadata": {},
   "source": [
    "# Codon as input"
   ]
  },
  {
   "cell_type": "markdown",
   "metadata": {},
   "source": [
    "### 1. Codon table"
   ]
  },
  {
   "cell_type": "code",
   "execution_count": 1,
   "metadata": {},
   "outputs": [],
   "source": [
    "import pandas as pd\n",
    "from Bio import SeqIO\n",
    "from Bio.Seq import Seq\n",
    "from Bio.SeqRecord import SeqRecord\n",
    "import random"
   ]
  },
  {
   "cell_type": "code",
   "execution_count": 2,
   "metadata": {},
   "outputs": [],
   "source": [
    "   # Read the Excel file into a DataFrame\n",
    "codon_table = pd.read_excel(r'C:\\Users\\Candela\\OneDrive - Danmarks Tekniske Universitet\\Codopti\\codon_table.xlsx', sheet_name=0)"
   ]
  },
  {
   "cell_type": "markdown",
   "metadata": {},
   "source": [
    "Visualise the codon table."
   ]
  },
  {
   "cell_type": "code",
   "execution_count": 3,
   "metadata": {},
   "outputs": [
    {
     "name": "stdout",
     "output_type": "stream",
     "text": [
      "   Amino Acid Codon  Frequency\n",
      "59          V   GTG        8.5\n",
      "60          V   GTT       33.9\n",
      "61          W   TGG      100.0\n",
      "62          Y   TAC       95.1\n",
      "63          Y   TAT        4.9\n"
     ]
    }
   ],
   "source": [
    "print(codon_table.tail()) "
   ]
  },
  {
   "cell_type": "markdown",
   "metadata": {},
   "source": [
    "Find codons with <5% frequency in Yarrowia and remove them."
   ]
  },
  {
   "cell_type": "code",
   "execution_count": 4,
   "metadata": {},
   "outputs": [],
   "source": [
    "def cod_opt_table(codon_table, output_excel_path):\n",
    "\n",
    "    # Filter out codons with a frequency less than 5.0\n",
    "    codon_table = codon_table[codon_table['Frequency'] >= 5.0]\n",
    "\n",
    "    # Write the updated DataFrame to a new Excel file\n",
    "    codon_table.to_excel(output_excel_path)\n",
    "\n",
    "# Example usage:\n",
    "opt_codon_table = r'C:\\Users\\Candela\\OneDrive - Danmarks Tekniske Universitet\\Codopti\\opt_codon_table.xlsx'  # Replace with the desired output path\n",
    "\n",
    "cod_opt_table(codon_table, opt_codon_table)"
   ]
  },
  {
   "cell_type": "markdown",
   "metadata": {},
   "source": [
    "Recalculate the frequency of the codons for each amino acid."
   ]
  },
  {
   "cell_type": "code",
   "execution_count": 5,
   "metadata": {},
   "outputs": [],
   "source": [
    "def calculate_new_frequencies(codon_table):\n",
    "    # Group the DataFrame by Amino Acid\n",
    "    grouped = codon_table.groupby('Amino Acid')\n",
    "\n",
    "    # Calculate the total frequency for each amino acid\n",
    "    amino_acid_totals = grouped['Frequency'].transform('sum')\n",
    "\n",
    "    # Calculate the new frequencies for each codon based on the rule of three\n",
    "    codon_table['New Frequency'] = (\n",
    "        codon_table['Frequency'] / amino_acid_totals * 100\n",
    "    )\n",
    "\n",
    "    return codon_table"
   ]
  },
  {
   "cell_type": "markdown",
   "metadata": {},
   "source": [
    "Calculate and add the lower and upper bounds to the excel table:"
   ]
  },
  {
   "cell_type": "code",
   "execution_count": 6,
   "metadata": {},
   "outputs": [
    {
     "name": "stdout",
     "output_type": "stream",
     "text": [
      "    Unnamed: 0 Amino Acid Codon  Frequency  New Frequency\n",
      "0            0          -   TAA       83.0      83.000000\n",
      "1            1          -   TAG       10.0      10.000000\n",
      "2            2          -   TGA        7.0       7.000000\n",
      "3            4          A   GCC       59.1      60.927835\n",
      "4            6          A   GCT       37.9      39.072165\n",
      "5            7          C   TGC       65.6      65.600000\n",
      "6            8          C   TGT       34.4      34.400000\n",
      "7            9          D   GAC       70.0      70.000000\n",
      "8           10          D   GAT       30.0      30.000000\n",
      "9           11          E   GAA        6.4       6.400000\n",
      "10          12          E   GAG       93.6      93.600000\n",
      "11          13          F   TTC       80.7      80.700000\n",
      "12          14          F   TTT       19.3      19.300000\n",
      "13          15          G   GGA       16.2      16.413374\n",
      "14          16          G   GGC       30.6      31.003040\n",
      "15          18          G   GGT       51.9      52.583587\n",
      "16          19          H   CAC       85.2      85.200000\n",
      "17          20          H   CAT       14.8      14.800000\n",
      "18          22          I   ATC       65.0      65.789474\n",
      "19          23          I   ATT       33.8      34.210526\n",
      "20          25          K   AAG       97.3     100.000000\n",
      "21          27          L   CTC       46.7      48.343685\n",
      "22          28          L   CTG       25.4      26.293996\n",
      "23          29          L   CTT       24.5      25.362319\n",
      "24          32          M   ATG      100.0     100.000000\n",
      "25          33          N   AAC       95.8     100.000000\n",
      "26          36          P   CCC       74.0      76.210093\n",
      "27          38          P   CCT       23.1      23.789907\n",
      "28          40          Q   CAG       95.1     100.000000\n",
      "29          43          R   CGA       86.1     100.000000\n",
      "30          50          S   TCC       51.1      57.031250\n",
      "31          52          S   TCT       38.5      42.968750\n",
      "32          54          T   ACC       73.6      75.720165\n",
      "33          56          T   ACT       23.6      24.279835\n",
      "34          58          V   GTC       56.4      57.085020\n",
      "35          59          V   GTG        8.5       8.603239\n",
      "36          60          V   GTT       33.9      34.311741\n",
      "37          61          W   TGG      100.0     100.000000\n",
      "38          62          Y   TAC       95.1     100.000000\n"
     ]
    }
   ],
   "source": [
    "# Calculate the new frequencies\n",
    "updated_opt_codon_table = calculate_new_frequencies(pd.read_excel(opt_codon_table))\n",
    "\n",
    "# Print the updated DataFrame (with new frequencies)\n",
    "print(updated_opt_codon_table)"
   ]
  },
  {
   "cell_type": "markdown",
   "metadata": {},
   "source": [
    "### 2. Sequence\n"
   ]
  },
  {
   "cell_type": "markdown",
   "metadata": {},
   "source": [
    "Downloaded a random fasta sequence that we will codon optimise."
   ]
  },
  {
   "cell_type": "code",
   "execution_count": 53,
   "metadata": {},
   "outputs": [],
   "source": [
    "my_fasta = r'C:\\Users\\Candela\\OneDrive - Danmarks Tekniske Universitet\\Codopti\\YALI2.txt' "
   ]
  },
  {
   "cell_type": "markdown",
   "metadata": {},
   "source": [
    "Visualise your amino acid fasta sequence:"
   ]
  },
  {
   "cell_type": "code",
   "execution_count": 8,
   "metadata": {},
   "outputs": [
    {
     "name": "stdout",
     "output_type": "stream",
     "text": [
      "YALI0_D05621g\n",
      "592\n",
      "SeqRecord(seq=Seq('MAHDSELELSDEKVVPSINQEKHSFFQRHLDNHPRMAQYNSQLQRFLKWIEVPT...IIS'), id='YALI0_D05621g', name='YALI0_D05621g', description='YALI0_D05621g  | Yarrowia lipolytica CLIB122 | YALI0D05621p | protein | length=592', dbxrefs=[])\n"
     ]
    }
   ],
   "source": [
    "for seq_record in SeqIO.parse(my_fasta, \"fasta\"):\n",
    "    print(seq_record.id)\n",
    "    print(len(seq_record))\n",
    "    print(repr(seq_record))\n",
    "    name = seq_record.id\n",
    "    AA_seq = seq_record.seq"
   ]
  },
  {
   "cell_type": "markdown",
   "metadata": {},
   "source": [
    "Use the updated_opt_codon_table to reverse translate the amino acid sequence:"
   ]
  },
  {
   "cell_type": "code",
   "execution_count": 52,
   "metadata": {},
   "outputs": [
    {
     "name": "stdout",
     "output_type": "stream",
     "text": [
      "    Unnamed: 0 Amino Acid Codon  Frequency  New Frequency\n",
      "0            0          -   TAA       83.0      83.000000\n",
      "1            1          -   TAG       10.0      10.000000\n",
      "2            2          -   TGA        7.0       7.000000\n",
      "3            4          A   GCC       59.1      60.927835\n",
      "4            6          A   GCT       37.9      39.072165\n",
      "5            7          C   TGC       65.6      65.600000\n",
      "6            8          C   TGT       34.4      34.400000\n",
      "7            9          D   GAC       70.0      70.000000\n",
      "8           10          D   GAT       30.0      30.000000\n",
      "9           11          E   GAA        6.4       6.400000\n",
      "10          12          E   GAG       93.6      93.600000\n",
      "11          13          F   TTC       80.7      80.700000\n",
      "12          14          F   TTT       19.3      19.300000\n",
      "13          15          G   GGA       16.2      16.413374\n",
      "14          16          G   GGC       30.6      31.003040\n",
      "15          18          G   GGT       51.9      52.583587\n",
      "16          19          H   CAC       85.2      85.200000\n",
      "17          20          H   CAT       14.8      14.800000\n",
      "18          22          I   ATC       65.0      65.789474\n",
      "19          23          I   ATT       33.8      34.210526\n",
      "20          25          K   AAG       97.3     100.000000\n",
      "21          27          L   CTC       46.7      48.343685\n",
      "22          28          L   CTG       25.4      26.293996\n",
      "23          29          L   CTT       24.5      25.362319\n",
      "24          32          M   ATG      100.0     100.000000\n",
      "25          33          N   AAC       95.8     100.000000\n",
      "26          36          P   CCC       74.0      76.210093\n",
      "27          38          P   CCT       23.1      23.789907\n",
      "28          40          Q   CAG       95.1     100.000000\n",
      "29          43          R   CGA       86.1     100.000000\n",
      "30          50          S   TCC       51.1      57.031250\n",
      "31          52          S   TCT       38.5      42.968750\n",
      "32          54          T   ACC       73.6      75.720165\n",
      "33          56          T   ACT       23.6      24.279835\n",
      "34          58          V   GTC       56.4      57.085020\n",
      "35          59          V   GTG        8.5       8.603239\n",
      "36          60          V   GTT       33.9      34.311741\n",
      "37          61          W   TGG      100.0     100.000000\n",
      "38          62          Y   TAC       95.1     100.000000\n"
     ]
    }
   ],
   "source": [
    "print(updated_opt_codon_table)"
   ]
  },
  {
   "cell_type": "code",
   "execution_count": 48,
   "metadata": {},
   "outputs": [
    {
     "name": "stdout",
     "output_type": "stream",
     "text": [
      "MAHDSELELSDEKVVPSINQEKHSFFQRHLDNHPRMAQYNSQLQRFLKWIEVPTKEGEINTFLNNEDLKPVEVARQTWGWKNFVSFWIADSFNINTWEIAATGIQLGLTWWQVWLCVWIGYFFCGVFVVLSGRIGAIYHVSFPVAGRSTFGIFGSIWPVINRVVMACVWYGVQGWLGGQCIQVCLLAIWPSARHMKNGIPGSGTTTFEFLSYFLFWLFSLPFIYIRPHNLRHLFMVKAAIVPVAGISFLVWTCVKAHGIGPIMKQPATVHGSVMGWAFMTAIMNSLSNFATIIVNAPDFTRFAKEPNAIVLSQLIAVPTAFSLTSFIGIIVSSSATVLYDENIWNPLDVLHKFLEGNKSGSRAGVFFLGFAFAVAQLGTNIAANSLSAGTDMTALLPKYINIRRGGFICAGIALCICPWHLLSSSSNFTTYLSAYATFLSAIAGCSFSDYYLVRKGYIYVGDLYNASKGSTYMYRYGVNWRAFAAYFCGIAINVVGFADAVSDGGVNETARKMYQLNFFLGFLVSAISYYGFNWLSPVVGARETWSEDPNASAMYDEITTDELSQDSQSYDPEEWDRKIANDDPVKTTAIIS\n",
      ">reverse_translated_sequence <unknown description>\n",
      "ATGGCTCATGACTCTGAGCTGGAGCTCTCTGACGAGAAGGTCGTCCCCTCTATCAACCAG\n",
      "GAGAAGCACTCTTTTTTTCAGCGACACCTGGACAACCACCCCCGAATGGCCCAGTACAAC\n",
      "TCCCAGCTCCAGCGATTCCTGAAGTGGATCGAGGTCCCCACCAAGGAGGGCGAGATCAAC\n",
      "ACTTTTCTCAACAACGAGGACCTGAAGCCCGTCGAGGTCGCTCGACAGACTTGGGGCTGG\n",
      "AAGAACTTCGTCTCCTTCTGGATCGCCGACTCCTTCAACATTAACACCTGGGAAATCGCT\n",
      "GCCACCGGCATTCAGCTCGGTCTCACCTGGTGGCAGGTCTGGCTCTGCGTTTGGATCGGT\n",
      "TACTTCTTCTGCGGTGTTTTCGTTGTCCTGTCCGGACGAATTGGTGCTATTTACCACGTC\n",
      "TCCTTCCCCGTCGCTGGTCGATCCACCTTCGGCATCTTCGGCTCCATTTGGCCTGTCATT\n",
      "AACCGAGTCGTTATGGCCTGTGTCTGGTACGGTGTCCAGGGTTGGCTCGGTGGTCAGTGT\n",
      "ATCCAGGTTTGCCTTCTCGCCATTTGGCCCTCTGCCCGACATATGAAGAACGGAATTCCT\n",
      "GGTTCTGGCACTACCACCTTCGAGTTTCTCTCTTACTTTCTGTTCTGGCTGTTCTCTCTC\n",
      "CCCTTCATCTACATCCGACCCCACAACCTCCGACACCTGTTCATGGTTAAGGCCGCCATC\n",
      "GTCCCCGTCGCTGGTATTTCTTTCCTCGTTTGGACCTGCGTCAAGGCTCACGGCATTGGT\n",
      "CCCATTATGAAGCAGCCCGCCACTGTCCACGGTTCCGTTATGGGTTGGGCCTTTATGACT\n",
      "GCTATTATGAACTCCCTCTCTAACTTCGCTACCATCATCGTTAACGCTCCCGACTTTACC\n",
      "CGATTCGCTAAGGAGCCCAACGCCATCGTGCTGTCTCAGCTCATCGCCGTGCCCACCGCT\n",
      "TTCTCCCTGACCTCCTTCATTGGTATTATTGTTTCTTCTTCCGCTACTGTCCTTTACGAC\n",
      "GAGAACATTTGGAACCCCCTCGACGTGCTCCACAAGTTCCTGGAGGGAAACAAGTCCGGC\n",
      "TCTCGAGCCGGCGTTTTCTTCCTTGGCTTCGCTTTCGCCGTGGCTCAGCTGGGTACCAAC\n",
      "ATCGCTGCCAACTCTCTGTCCGCCGGAACTGATATGACTGCCCTCCTGCCCAAGTACATT\n",
      "AACATCCGACGAGGTGGTTTCATCTGCGCTGGCATTGCCCTCTGCATCTGTCCCTGGCAT\n",
      "CTCCTCTCCTCTTCCTCTAACTTCACCACCTACCTCTCCGCCTACGCCACCTTCCTCTCT\n",
      "GCCATCGCCGGCTGCTCCTTCTCTGACTACTACCTTGTTCGAAAGGGTTACATCTACGTT\n",
      "GGTGATCTTTACAACGCCTCCAAGGGCTCCACCTACATGTACCGATACGGAGTCAACTGG\n",
      "CGAGCTTTCGCCGCTTACTTCTGCGGCATTGCCATCAACGTCGTTGGTTTCGCTGACGCT\n",
      "GTCTCCGACGGCGGTGTTAACGAGACTGCCCGAAAGATGTACCAGCTCAACTTTTTCCTT\n",
      "GGCTTTCTCGTCTCTGCCATCTCTTACTACGGTTTTAACTGGCTTTCTCCCGTTGTCGGA\n",
      "GCCCGAGAGACCTGGTCTGAGGACCCTAACGCCTCTGCCATGTACGACGAGATCACCACC\n",
      "GACGAGCTTTCTCAGGACTCTCAGTCTTACGACCCCGAGGAGTGGGACCGAAAGATCGCT\n",
      "AACGACGACCCTGTCAAGACCACCGCCATCATTTCC\n",
      "\n"
     ]
    }
   ],
   "source": [
    "\n",
    "def reverse_translate_amino_acids_fasta(AA_seq, codon_table):\n",
    "    # Initialize an empty DNA sequence\n",
    "    dna_sequence = Seq(\"\")\n",
    "    \n",
    "    # Remove the header line from the FASTA format\n",
    "    amino_acid_sequence = AA_seq\n",
    "    \n",
    "    print(amino_acid_sequence)\n",
    "\n",
    "    for amino_acid in amino_acid_sequence:\n",
    "        # Filter the codon table for the current amino acid\n",
    "        amino_acid_codons = codon_table[codon_table['Amino Acid'] == amino_acid]\n",
    "\n",
    "        if not amino_acid_codons.empty:\n",
    "            # Assign codon value ranges based on their frequencies\n",
    "            value_ranges = []\n",
    "            lower_bound = 0\n",
    "            for _, row in amino_acid_codons.iterrows():\n",
    "                upper_bound = lower_bound + row['New Frequency']\n",
    "                value_ranges.append((row['Codon'], lower_bound, upper_bound))\n",
    "                lower_bound = upper_bound\n",
    "\n",
    "            # Generate a random value within the specified range\n",
    "            random_value = random.uniform(0, 100)\n",
    "\n",
    "            # Map the random value to the corresponding codon\n",
    "            for codon, lower, upper in value_ranges:\n",
    "                if lower <= random_value <= upper:\n",
    "                    dna_sequence += Seq(codon)\n",
    "                    break\n",
    "\n",
    "    return dna_sequence\n",
    "\n",
    "# Call the function to reverse translate the amino acid sequence\n",
    "reverse_translated_dna = reverse_translate_amino_acids_fasta(AA_seq, updated_opt_codon_table)\n",
    "\n",
    "# Create a SeqRecord object for the DNA sequence\n",
    "dna_record = SeqRecord(reverse_translated_dna, id=\"reverse_translated_sequence\")\n",
    "\n",
    "# Print the SeqRecord or save it to a FASTA file\n",
    "print(dna_record.format(\"fasta\"))\n"
   ]
  },
  {
   "cell_type": "code",
   "execution_count": 10,
   "metadata": {},
   "outputs": [
    {
     "name": "stdout",
     "output_type": "stream",
     "text": [
      "MAHDSELELSDEKVVPSINQEKHSFFQRHLDNHPRMAQYNSQLQRFLKWIEVPTKEGEINTFLNNEDLKPVEVARQTWGWKNFVSFWIADSFNINTWEIAATGIQLGLTWWQVWLCVWIGYFFCGVFVVLSGRIGAIYHVSFPVAGRSTFGIFGSIWPVINRVVMACVWYGVQGWLGGQCIQVCLLAIWPSARHMKNGIPGSGTTTFEFLSYFLFWLFSLPFIYIRPHNLRHLFMVKAAIVPVAGISFLVWTCVKAHGIGPIMKQPATVHGSVMGWAFMTAIMNSLSNFATIIVNAPDFTRFAKEPNAIVLSQLIAVPTAFSLTSFIGIIVSSSATVLYDENIWNPLDVLHKFLEGNKSGSRAGVFFLGFAFAVAQLGTNIAANSLSAGTDMTALLPKYINIRRGGFICAGIALCICPWHLLSSSSNFTTYLSAYATFLSAIAGCSFSDYYLVRKGYIYVGDLYNASKGSTYMYRYGVNWRAFAAYFCGIAINVVGFADAVSDGGVNETARKMYQLNFFLGFLVSAISYYGFNWLSPVVGARETWSEDPNASAMYDEITTDELSQDSQSYDPEEWDRKIANDDPVKTTAIIS\n",
      ">reverse_translated_sequence <unknown description>\n",
      "ATGGCCCATGACTCTGAGCTCGAACTCTCCGATGAGAAGGTTGTCCCCTCCATCAACCAG\n",
      "GAGAAGCACTCTTTTTTCCAGCGACACCTCGACAACCATCCCCGAATGGCCCAGTACAAC\n",
      "TCCCAGCTCCAGCGATTCCTGAAGTGGATCGAGGTCCCTACCAAGGAGGGAGAGATCAAC\n",
      "ACCTTCCTTAACAACGAGGACCTCAAGCCCGTGGAGGTCGCTCGACAGACCTGGGGTTGG\n",
      "AAGAACTTCGTCTCTTTCTGGATCGCCGACTCCTTTAACATCAACACCTGGGAGATCGCC\n",
      "GCCACTGGTATCCAGCTCGGTCTCACCTGGTGGCAGGTTTGGCTCTGCGTCTGGATCGGT\n",
      "TACTTCTTCTGCGGAGTCTTCGTCGTTCTGTCTGGTCGAATTGGTGCCATCTACCACGTC\n",
      "TCCTTTCCCGTTGCCGGCCGATCTACCTTTGGTATCTTCGGCTCCATCTGGCCCGTCATT\n",
      "AACCGAGTCGTGATGGCCTGCGTGTGGTACGGAGTCCAGGGTTGGCTTGGCGGTCAGTGC\n",
      "ATCCAGGTCTGCCTCCTGGCTATTTGGCCTTCTGCCCGACACATGAAGAACGGTATTCCC\n",
      "GGTTCTGGTACCACTACCTTTGAGTTCCTGTCCTACTTCCTGTTCTGGCTCTTCTCCCTT\n",
      "CCCTTTATCTACATTCGACCCCACAACCTCCGACACCTTTTCATGGTTAAGGCCGCCATC\n",
      "GTCCCCGTTGCCGGTATCTCTTTCCTCGTGTGGACTTGTGTTAAGGCCCACGGAATTGGC\n",
      "CCCATTATGAAGCAGCCCGCCACCGTCCACGGCTCCGTCATGGGATGGGCCTTCATGACC\n",
      "GCTATCATGAACTCTCTCTCTAACTTCGCCACCATTATCGTTAACGCTCCTGACTTCACT\n",
      "CGATTCGCCAAGGAGCCCAACGCTATTGTCCTGTCTCAGCTCATCGCTGTCCCCACCGCC\n",
      "TTCTCTCTCACTTCTTTCATCGGTATCATCGTGTCCTCCTCCGCCACCGTTCTCTACGAC\n",
      "GAGAACATCTGGAACCCTCTCGATGTCCTCCACAAGTTCCTCGAGGGCAACAAGTCCGGT\n",
      "TCTCGAGCCGGTGTGTTTTTCCTCGGATTCGCTTTCGCCGTCGCCCAGCTCGGTACCAAC\n",
      "ATCGCCGCTAACTCTCTCTCCGCCGGTACCGATATGACCGCCCTCCTGCCTAAGTACATC\n",
      "AACATTCGACGAGGAGGTTTTATTTGTGCCGGCATCGCTCTGTGCATCTGTCCCTGGCAC\n",
      "CTGCTCTCTTCTTCTTCCAACTTCACCACCTACCTCTCTGCTTACGCCACCTTCCTGTCC\n",
      "GCCATCGCTGGTTGCTCCTTCTCCGATTACTACCTCGTTCGAAAGGGTTACATCTACGTC\n",
      "GGAGACCTGTACAACGCTTCTAAGGGTTCTACTTACATGTACCGATACGGAGTGAACTGG\n",
      "CGAGCCTTCGCCGCTTACTTCTGTGGCATCGCCATCAACGTTGTCGGCTTTGCTGACGCT\n",
      "GTCTCTGATGGAGGTGTCAACGAGACCGCCCGAAAGATGTACCAGCTCAACTTCTTTCTG\n",
      "GGTTTCCTTGTTTCCGCTATCTCCTACTACGGTTTTAACTGGCTCTCCCCCGTCGTCGGC\n",
      "GCCCGAGAGACCTGGTCCGAGGACCCTAACGCCTCTGCCATGTACGATGAGATCACTACC\n",
      "GACGAGCTGTCCCAGGACTCCCAGTCTTACGACCCTGAGGAGTGGGATCGAAAGATCGCC\n",
      "AACGACGACCCTGTCAAGACCACCGCCATCATCTCT\n",
      "\n"
     ]
    }
   ],
   "source": [
    "def reverse_translate_amino_acids_fasta(AA_seq, codon_table):\n",
    "    # Define the forbidden sequences\n",
    "    forbidden_sequences = [\"GCTCTTCN\", \"GCGGCCGC\", \"GGTCTCNNNNN\"]\n",
    "    \n",
    "    # Initialize an empty DNA sequence\n",
    "    dna_sequence = Seq(\"\")\n",
    "    \n",
    "    # Remove the header line from the FASTA format\n",
    "    amino_acid_sequence = AA_seq\n",
    "    \n",
    "    print(amino_acid_sequence)\n",
    "\n",
    "    while True:\n",
    "        # Initialize a list to keep track of added codons\n",
    "        added_codons = []\n",
    "        \n",
    "        for amino_acid in amino_acid_sequence:\n",
    "            # Filter the codon table for the current amino acid\n",
    "            amino_acid_codons = codon_table[codon_table['Amino Acid'] == amino_acid]\n",
    "\n",
    "            if not amino_acid_codons.empty:\n",
    "                # Assign codon value ranges based on their frequencies\n",
    "                value_ranges = []\n",
    "                lower_bound = 0\n",
    "                for _, row in amino_acid_codons.iterrows():\n",
    "                    upper_bound = lower_bound + row['New Frequency']\n",
    "                    value_ranges.append((row['Codon'], lower_bound, upper_bound))\n",
    "                    lower_bound = upper_bound\n",
    "\n",
    "                while True:\n",
    "                    # Generate a random value within the specified range\n",
    "                    random_value = random.uniform(0, 100)\n",
    "\n",
    "                    # Map the random value to the corresponding codon\n",
    "                    selected_codon = None\n",
    "                    for codon, lower, upper in value_ranges:\n",
    "                        if lower <= random_value <= upper:\n",
    "                            selected_codon = codon\n",
    "                            break\n",
    "                    \n",
    "                    # Check if the selected codon contains any forbidden sequences\n",
    "                    contains_forbidden_sequence = any(seq in selected_codon for seq in forbidden_sequences)\n",
    "                    \n",
    "                    if not contains_forbidden_sequence:\n",
    "                        # Add the selected codon to the DNA sequence\n",
    "                        dna_sequence += Seq(selected_codon)\n",
    "                        added_codons.append(selected_codon)\n",
    "                        break\n",
    "        \n",
    "        # Check if the generated sequence contains any forbidden sequences\n",
    "        contains_forbidden_sequence = any(seq in dna_sequence for seq in forbidden_sequences)\n",
    "        \n",
    "        if not contains_forbidden_sequence:\n",
    "            break  # Exit the loop if the sequence is valid\n",
    "    \n",
    "    return dna_sequence\n",
    "\n",
    "# Call the function to reverse translate the amino acid sequence\n",
    "reverse_translated_dna = reverse_translate_amino_acids_fasta(AA_seq, updated_opt_codon_table)\n",
    "\n",
    "# Create a SeqRecord object for the DNA sequence\n",
    "dna_record = SeqRecord(reverse_translated_dna, id=\"reverse_translated_sequence\")\n",
    "\n",
    "# Print the SeqRecord or save it to a FASTA file\n",
    "print(dna_record.format(\"fasta\"))"
   ]
  },
  {
   "cell_type": "markdown",
   "metadata": {},
   "source": [
    "Check that the sequence changes every time you run it:"
   ]
  },
  {
   "cell_type": "code",
   "execution_count": 11,
   "metadata": {},
   "outputs": [
    {
     "name": "stdout",
     "output_type": "stream",
     "text": [
      "ATGGCCCATGACTCTGAGCTCGAACTCTCCGATGAGAAGGTTGTCCCCTCCATCAACCAGGAGAAGCACTCTTTTTTCCAGCGACACCTCGACAACCATCCCCGAATGGCCCAGTACAACTCCCAGCTCCAGCGATTCCTGAAGTGGATCGAGGTCCCTACCAAGGAGGGAGAGATCAACACCTTCCTTAACAACGAGGACCTCAAGCCCGTGGAGGTCGCTCGACAGACCTGGGGTTGGAAGAACTTCGTCTCTTTCTGGATCGCCGACTCCTTTAACATCAACACCTGGGAGATCGCCGCCACTGGTATCCAGCTCGGTCTCACCTGGTGGCAGGTTTGGCTCTGCGTCTGGATCGGTTACTTCTTCTGCGGAGTCTTCGTCGTTCTGTCTGGTCGAATTGGTGCCATCTACCACGTCTCCTTTCCCGTTGCCGGCCGATCTACCTTTGGTATCTTCGGCTCCATCTGGCCCGTCATTAACCGAGTCGTGATGGCCTGCGTGTGGTACGGAGTCCAGGGTTGGCTTGGCGGTCAGTGCATCCAGGTCTGCCTCCTGGCTATTTGGCCTTCTGCCCGACACATGAAGAACGGTATTCCCGGTTCTGGTACCACTACCTTTGAGTTCCTGTCCTACTTCCTGTTCTGGCTCTTCTCCCTTCCCTTTATCTACATTCGACCCCACAACCTCCGACACCTTTTCATGGTTAAGGCCGCCATCGTCCCCGTTGCCGGTATCTCTTTCCTCGTGTGGACTTGTGTTAAGGCCCACGGAATTGGCCCCATTATGAAGCAGCCCGCCACCGTCCACGGCTCCGTCATGGGATGGGCCTTCATGACCGCTATCATGAACTCTCTCTCTAACTTCGCCACCATTATCGTTAACGCTCCTGACTTCACTCGATTCGCCAAGGAGCCCAACGCTATTGTCCTGTCTCAGCTCATCGCTGTCCCCACCGCCTTCTCTCTCACTTCTTTCATCGGTATCATCGTGTCCTCCTCCGCCACCGTTCTCTACGACGAGAACATCTGGAACCCTCTCGATGTCCTCCACAAGTTCCTCGAGGGCAACAAGTCCGGTTCTCGAGCCGGTGTGTTTTTCCTCGGATTCGCTTTCGCCGTCGCCCAGCTCGGTACCAACATCGCCGCTAACTCTCTCTCCGCCGGTACCGATATGACCGCCCTCCTGCCTAAGTACATCAACATTCGACGAGGAGGTTTTATTTGTGCCGGCATCGCTCTGTGCATCTGTCCCTGGCACCTGCTCTCTTCTTCTTCCAACTTCACCACCTACCTCTCTGCTTACGCCACCTTCCTGTCCGCCATCGCTGGTTGCTCCTTCTCCGATTACTACCTCGTTCGAAAGGGTTACATCTACGTCGGAGACCTGTACAACGCTTCTAAGGGTTCTACTTACATGTACCGATACGGAGTGAACTGGCGAGCCTTCGCCGCTTACTTCTGTGGCATCGCCATCAACGTTGTCGGCTTTGCTGACGCTGTCTCTGATGGAGGTGTCAACGAGACCGCCCGAAAGATGTACCAGCTCAACTTCTTTCTGGGTTTCCTTGTTTCCGCTATCTCCTACTACGGTTTTAACTGGCTCTCCCCCGTCGTCGGCGCCCGAGAGACCTGGTCCGAGGACCCTAACGCCTCTGCCATGTACGATGAGATCACTACCGACGAGCTGTCCCAGGACTCCCAGTCTTACGACCCTGAGGAGTGGGATCGAAAGATCGCCAACGACGACCCTGTCAAGACCACCGCCATCATCTCT\n"
     ]
    }
   ],
   "source": [
    "print(dna_record.seq)"
   ]
  },
  {
   "cell_type": "code",
   "execution_count": 12,
   "metadata": {},
   "outputs": [
    {
     "name": "stdout",
     "output_type": "stream",
     "text": [
      "ATGGCCCATGACTCTGAGCTCGAACTCTCCGATGAGAAGGTTGTCCCCTCCATCAACCAGGAGAAGCACTCTTTTTTCCAGCGACACCTCGACAACCATCCCCGAATGGCCCAGTACAACTCCCAGCTCCAGCGATTCCTGAAGTGGATCGAGGTCCCTACCAAGGAGGGAGAGATCAACACCTTCCTTAACAACGAGGACCTCAAGCCCGTGGAGGTCGCTCGACAGACCTGGGGTTGGAAGAACTTCGTCTCTTTCTGGATCGCCGACTCCTTTAACATCAACACCTGGGAGATCGCCGCCACTGGTATCCAGCTCGGTCTCACCTGGTGGCAGGTTTGGCTCTGCGTCTGGATCGGTTACTTCTTCTGCGGAGTCTTCGTCGTTCTGTCTGGTCGAATTGGTGCCATCTACCACGTCTCCTTTCCCGTTGCCGGCCGATCTACCTTTGGTATCTTCGGCTCCATCTGGCCCGTCATTAACCGAGTCGTGATGGCCTGCGTGTGGTACGGAGTCCAGGGTTGGCTTGGCGGTCAGTGCATCCAGGTCTGCCTCCTGGCTATTTGGCCTTCTGCCCGACACATGAAGAACGGTATTCCCGGTTCTGGTACCACTACCTTTGAGTTCCTGTCCTACTTCCTGTTCTGGCTCTTCTCCCTTCCCTTTATCTACATTCGACCCCACAACCTCCGACACCTTTTCATGGTTAAGGCCGCCATCGTCCCCGTTGCCGGTATCTCTTTCCTCGTGTGGACTTGTGTTAAGGCCCACGGAATTGGCCCCATTATGAAGCAGCCCGCCACCGTCCACGGCTCCGTCATGGGATGGGCCTTCATGACCGCTATCATGAACTCTCTCTCTAACTTCGCCACCATTATCGTTAACGCTCCTGACTTCACTCGATTCGCCAAGGAGCCCAACGCTATTGTCCTGTCTCAGCTCATCGCTGTCCCCACCGCCTTCTCTCTCACTTCTTTCATCGGTATCATCGTGTCCTCCTCCGCCACCGTTCTCTACGACGAGAACATCTGGAACCCTCTCGATGTCCTCCACAAGTTCCTCGAGGGCAACAAGTCCGGTTCTCGAGCCGGTGTGTTTTTCCTCGGATTCGCTTTCGCCGTCGCCCAGCTCGGTACCAACATCGCCGCTAACTCTCTCTCCGCCGGTACCGATATGACCGCCCTCCTGCCTAAGTACATCAACATTCGACGAGGAGGTTTTATTTGTGCCGGCATCGCTCTGTGCATCTGTCCCTGGCACCTGCTCTCTTCTTCTTCCAACTTCACCACCTACCTCTCTGCTTACGCCACCTTCCTGTCCGCCATCGCTGGTTGCTCCTTCTCCGATTACTACCTCGTTCGAAAGGGTTACATCTACGTCGGAGACCTGTACAACGCTTCTAAGGGTTCTACTTACATGTACCGATACGGAGTGAACTGGCGAGCCTTCGCCGCTTACTTCTGTGGCATCGCCATCAACGTTGTCGGCTTTGCTGACGCTGTCTCTGATGGAGGTGTCAACGAGACCGCCCGAAAGATGTACCAGCTCAACTTCTTTCTGGGTTTCCTTGTTTCCGCTATCTCCTACTACGGTTTTAACTGGCTCTCCCCCGTCGTCGGCGCCCGAGAGACCTGGTCCGAGGACCCTAACGCCTCTGCCATGTACGATGAGATCACTACCGACGAGCTGTCCCAGGACTCCCAGTCTTACGACCCTGAGGAGTGGGATCGAAAGATCGCCAACGACGACCCTGTCAAGACCACCGCCATCATCTCT\n"
     ]
    }
   ],
   "source": [
    "print(dna_record.seq)"
   ]
  },
  {
   "cell_type": "markdown",
   "metadata": {},
   "source": [
    "Check for forbidden sequences:\n"
   ]
  },
  {
   "cell_type": "markdown",
   "metadata": {},
   "source": [
    "DIct No sapI (7nt), bsaI, notI, no stretches of the same nucleotide max 8, GC content (check 12 nt every new codon added), also check the reverse"
   ]
  },
  {
   "cell_type": "code",
   "execution_count": 13,
   "metadata": {},
   "outputs": [
    {
     "data": {
      "text/plain": [
       "55.461711711711715"
      ]
     },
     "execution_count": 13,
     "metadata": {},
     "output_type": "execute_result"
    }
   ],
   "source": [
    "from Bio.SeqUtils import GC\n",
    "GC(dna_record.seq)"
   ]
  },
  {
   "cell_type": "markdown",
   "metadata": {},
   "source": [
    "Translate the sequence back:"
   ]
  },
  {
   "cell_type": "code",
   "execution_count": 14,
   "metadata": {},
   "outputs": [
    {
     "name": "stdout",
     "output_type": "stream",
     "text": [
      "ID: <unknown id>\n",
      "Name: <unknown name>\n",
      "Description: <unknown description>\n",
      "Number of features: 0\n",
      "/molecule_type=protein\n",
      "Seq('MAHDSELELSDEKVVPSINQEKHSFFQRHLDNHPRMAQYNSQLQRFLKWIEVPT...IIS')\n"
     ]
    }
   ],
   "source": [
    "dna_record_new = dna_record.translate() \n",
    "print(dna_record_new)"
   ]
  },
  {
   "cell_type": "markdown",
   "metadata": {},
   "source": [
    "Compare two sequences: "
   ]
  },
  {
   "cell_type": "code",
   "execution_count": 15,
   "metadata": {},
   "outputs": [
    {
     "data": {
      "text/plain": [
       "True"
      ]
     },
     "execution_count": 15,
     "metadata": {},
     "output_type": "execute_result"
    }
   ],
   "source": [
    "dna_record_new.seq == AA_seq"
   ]
  },
  {
   "cell_type": "markdown",
   "metadata": {},
   "source": [
    "--------------------------------"
   ]
  },
  {
   "cell_type": "code",
   "execution_count": 16,
   "metadata": {},
   "outputs": [],
   "source": [
    "def reverse_translate_amino_acids(amino_acid_sequence, codon_table):\n",
    "    dna_sequence = Seq(\"\")\n",
    "    for amino_acid in amino_acid_sequence:\n",
    "        # Filter the codon table for the current amino acid\n",
    "        amino_acid_codons = codon_table[codon_table['Amino Acid'] == amino_acid]\n",
    "\n",
    "        if not amino_acid_codons.empty:\n",
    "            # Assign codon value ranges based on their frequencies\n",
    "            value_ranges = []\n",
    "            lower_bound = 0\n",
    "            for _, row in amino_acid_codons.iterrows():\n",
    "                upper_bound = lower_bound + row['New Frequency']\n",
    "                value_ranges.append((row['Codon'], lower_bound, upper_bound))\n",
    "                lower_bound = upper_bound\n",
    "\n",
    "            # Generate a random value within the specified range\n",
    "            random_value = random.uniform(0, 100)\n",
    "\n",
    "            # Map the random value to the corresponding codon\n",
    "            for codon, lower, upper in value_ranges:\n",
    "                if lower <= random_value <= upper:\n",
    "                    dna_sequence += Seq(codon)\n",
    "                    break\n",
    "\n",
    "    # Ensure that the DNA sequence matches the length of the amino acid sequence\n",
    "    while len(dna_sequence) < len(amino_acid_sequence) * 3:\n",
    "        # If it's shorter, add random codons (you can customize this part)\n",
    "        random_codon = random.choice(codon_table['Codon'])\n",
    "        dna_sequence += random_codon\n",
    "\n",
    "    # Trim the sequence to match the desired length\n",
    "    dna_sequence = dna_sequence[:len(amino_acid_sequence) * 3]\n",
    "\n",
    "    return dna_sequence"
   ]
  },
  {
   "cell_type": "markdown",
   "metadata": {},
   "source": [
    "--------------------------------"
   ]
  },
  {
   "attachments": {},
   "cell_type": "markdown",
   "metadata": {},
   "source": [
    "\n",
    "The table contains three columns:\n",
    "\n",
    "Amino acid: The amino acid encoded by a given codon (“-“ is for stop codon)\n",
    "\n",
    "Codon: The codon in question\n",
    "\n",
    "Frequency: The frequency of a given codon when a specific AA in encoded. \n",
    "\n",
    "(If the following is too confusing/complicated then just get started with the other things first, and then get back to this later.)\n",
    "\n",
    "For example alanine (A), can be encoded by 4 codons (GCA, GCC, GCG, GCT). GCC and GCT occur frequently (59% and 38%), whereas GCA and GCG are very rarely used (2% and 1%). So we can see that Yarrowia has a preference GCC and GCT in regards to alanine.\n",
    "Biologically speaking this also correlates with the number of tRNA genes Yarrowia has for a given codon.\n",
    "\n",
    "When doing codon optimization, we don’t want to use the rare codons at all, and we would like to frequent codons to be selected according to their occurrence by using a random number generator.\n",
    "\n",
    "I would remove the rare codons, and recalculate the frequency for the common codons. You can then proceed in slightly different ways, but you could assign the codons values from 0-100 based on their frequency.\n",
    "\n",
    "In the case of alanine it might look like this:\n",
    "After removing the rare codons, the new frequency is:\n",
    "            GCC = 60.9 %\n",
    "\n",
    "GCT = 39.1 %\n",
    "\n",
    "So lets assign GCC the values 0-60.9, and GCT 61.0-100.\n",
    "\n",
    "We input the sequence AAA, and iterate through it, randomizing a number from 0-100 each time.\n",
    "\n",
    "We might get the numbers 12, 89, and 35. This would then correspond to the sequence GCC + GCT + GCC."
   ]
  }
 ],
 "metadata": {
  "kernelspec": {
   "display_name": "base",
   "language": "python",
   "name": "python3"
  },
  "language_info": {
   "codemirror_mode": {
    "name": "ipython",
    "version": 3
   },
   "file_extension": ".py",
   "mimetype": "text/x-python",
   "name": "python",
   "nbconvert_exporter": "python",
   "pygments_lexer": "ipython3",
   "version": "3.9.13"
  },
  "orig_nbformat": 4
 },
 "nbformat": 4,
 "nbformat_minor": 2
}
