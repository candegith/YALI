{
 "cells": [
  {
   "attachments": {},
   "cell_type": "markdown",
   "metadata": {},
   "source": [
    "I want a script that takes an amino acid sequence as input (FASTA format), and creates a codon optimized DNA sequence as output (FASTA). \n",
    "\n",
    "It should be optimized based on an excel file specifying the codon usage, the user should be able to specify forbidden sequences (e.g. restriction sites) that the script avoids, and it should keep the sequence within an acceptable GC content (30-80%), both locally (specified window size, e.g. 15 bp) and globally (whole sequence). \n",
    "\n",
    "In the end the script should double check that the DNA generated translates to the AA sequence provided as input. \n",
    "\n",
    "You will need to use the Pandas package for reading the excel/working with the dataframe.\n",
    "\n",
    "and you will need Biopython for reading FASTA format and doing some DNA-related operations (translate, gc-content, etc.)\n",
    "\n",
    "To break it down in to smaller parts, I would recommend to simply start with reading the FASTA and Excel input. \n",
    "\n",
    "as a next step you can try building the DNA sequence (maybe even without considering codon preference) and verifying that it translates correctly. \n",
    "\n",
    "Then you can continue by considering codon preference.\n",
    "\n",
    "and lastly avoiding the forbidden sequences"
   ]
  },
  {
   "cell_type": "markdown",
   "metadata": {},
   "source": [
    "\n",
    "1. Read FASTA and Excel Input:\n",
    "\n",
    "Read the amino acid sequence from the FASTA file.\n",
    "Read the codon usage information from the Excel file. You can use libraries like pandas to handle Excel files.\n",
    "\n",
    "2. Generate DNA Sequence without Codon Optimization:\n",
    "\n",
    "Create a DNA sequence based on the input amino acid sequence without considering codon preference. This can be done using a simple translation table from amino acids to codons.\n",
    "\n",
    "3. Verify Translation:\n",
    "\n",
    "Translate the generated DNA sequence back to an amino acid sequence.\n",
    "Compare the translated amino acid sequence with the input amino acid sequence to ensure they match.\n",
    "\n",
    "4. Codon Optimization:\n",
    "\n",
    "Implement a codon optimization algorithm based on the codon usage information from the Excel file. You can use optimization techniques such as Genetic Algorithms or other heuristics to find the best codon for each amino acid while avoiding forbidden sequences.\n",
    "\n",
    "5. GC Content Control:\n",
    "\n",
    "Calculate the GC content of the generated DNA sequence in a sliding window of the specified size.\n",
    "If the GC content falls outside the acceptable range (20-80%) for any part of the sequence, make necessary adjustments.\n",
    "\n",
    "6. Avoid Forbidden Sequences:\n",
    "\n",
    "Check the generated DNA sequence for the presence of forbidden sequences (e.g., restriction sites) and make modifications to avoid them. You may need to implement a search and replace mechanism for this.\n",
    "\n",
    "7. Iterate and Optimize:\n",
    "\n",
    "Repeat steps 4-6 until you have a DNA sequence that meets all the criteria.\n",
    "\n",
    "8. Write Output to FASTA:\n",
    "\n",
    "Write the optimized DNA sequence to a FASTA file."
   ]
  },
  {
   "cell_type": "markdown",
   "metadata": {},
   "source": [
    "# Codon as input"
   ]
  },
  {
   "cell_type": "markdown",
   "metadata": {},
   "source": [
    "### 1. Codon table"
   ]
  },
  {
   "cell_type": "code",
   "execution_count": 17,
   "metadata": {},
   "outputs": [],
   "source": [
    "import pandas as pd\n",
    "from Bio import SeqIO\n",
    "from Bio.Seq import Seq\n",
    "from Bio.SeqRecord import SeqRecord\n",
    "import random"
   ]
  },
  {
   "cell_type": "code",
   "execution_count": 2,
   "metadata": {},
   "outputs": [],
   "source": [
    "   # Read the Excel file into a DataFrame\n",
    "codon_table = pd.read_excel(r'C:\\Users\\Candela\\OneDrive - Danmarks Tekniske Universitet\\Codopti\\codon_table.xlsx', sheet_name=0)"
   ]
  },
  {
   "cell_type": "markdown",
   "metadata": {},
   "source": [
    "Visualise the codon table."
   ]
  },
  {
   "cell_type": "code",
   "execution_count": 3,
   "metadata": {},
   "outputs": [
    {
     "name": "stdout",
     "output_type": "stream",
     "text": [
      "   Amino Acid Codon  Frequency\n",
      "59          V   GTG        8.5\n",
      "60          V   GTT       33.9\n",
      "61          W   TGG      100.0\n",
      "62          Y   TAC       95.1\n",
      "63          Y   TAT        4.9\n"
     ]
    }
   ],
   "source": [
    "print(codon_table.tail()) "
   ]
  },
  {
   "cell_type": "markdown",
   "metadata": {},
   "source": [
    "Find codons with <5% frequency in Yarrowia and remove them."
   ]
  },
  {
   "cell_type": "code",
   "execution_count": 4,
   "metadata": {},
   "outputs": [],
   "source": [
    "def cod_opt_table(codon_table, output_excel_path):\n",
    "\n",
    "    # Filter out codons with a frequency less than 5.0\n",
    "    codon_table = codon_table[codon_table['Frequency'] >= 5.0]\n",
    "\n",
    "    # Write the updated DataFrame to a new Excel file\n",
    "    codon_table.to_excel(output_excel_path)\n",
    "\n",
    "# Example usage:\n",
    "opt_codon_table = r'C:\\Users\\Candela\\OneDrive - Danmarks Tekniske Universitet\\Codopti\\opt_codon_table.xlsx'  # Replace with the desired output path\n",
    "\n",
    "cod_opt_table(codon_table, opt_codon_table)"
   ]
  },
  {
   "cell_type": "markdown",
   "metadata": {},
   "source": [
    "Recalculate the frequency of the codons for each amino acid."
   ]
  },
  {
   "cell_type": "code",
   "execution_count": 5,
   "metadata": {},
   "outputs": [],
   "source": [
    "def calculate_new_frequencies(codon_table):\n",
    "    # Group the DataFrame by Amino Acid\n",
    "    grouped = codon_table.groupby('Amino Acid')\n",
    "\n",
    "    # Calculate the total frequency for each amino acid\n",
    "    amino_acid_totals = grouped['Frequency'].transform('sum')\n",
    "\n",
    "    # Calculate the new frequencies for each codon based on the rule of three\n",
    "    codon_table['New Frequency'] = (\n",
    "        codon_table['Frequency'] / amino_acid_totals * 100\n",
    "    )\n",
    "\n",
    "    return codon_table"
   ]
  },
  {
   "cell_type": "code",
   "execution_count": 6,
   "metadata": {},
   "outputs": [
    {
     "name": "stdout",
     "output_type": "stream",
     "text": [
      "    Unnamed: 0 Amino Acid Codon  Frequency  New Frequency\n",
      "0            0          -   TAA       83.0      83.000000\n",
      "1            1          -   TAG       10.0      10.000000\n",
      "2            2          -   TGA        7.0       7.000000\n",
      "3            4          A   GCC       59.1      60.927835\n",
      "4            6          A   GCT       37.9      39.072165\n",
      "5            7          C   TGC       65.6      65.600000\n",
      "6            8          C   TGT       34.4      34.400000\n",
      "7            9          D   GAC       70.0      70.000000\n",
      "8           10          D   GAT       30.0      30.000000\n",
      "9           11          E   GAA        6.4       6.400000\n",
      "10          12          E   GAG       93.6      93.600000\n",
      "11          13          F   TTC       80.7      80.700000\n",
      "12          14          F   TTT       19.3      19.300000\n",
      "13          15          G   GGA       16.2      16.413374\n",
      "14          16          G   GGC       30.6      31.003040\n",
      "15          18          G   GGT       51.9      52.583587\n",
      "16          19          H   CAC       85.2      85.200000\n",
      "17          20          H   CAT       14.8      14.800000\n",
      "18          22          I   ATC       65.0      65.789474\n",
      "19          23          I   ATT       33.8      34.210526\n",
      "20          25          K   AAG       97.3     100.000000\n",
      "21          27          L   CTC       46.7      48.343685\n",
      "22          28          L   CTG       25.4      26.293996\n",
      "23          29          L   CTT       24.5      25.362319\n",
      "24          32          M   ATG      100.0     100.000000\n",
      "25          33          N   AAC       95.8     100.000000\n",
      "26          36          P   CCC       74.0      76.210093\n",
      "27          38          P   CCT       23.1      23.789907\n",
      "28          40          Q   CAG       95.1     100.000000\n",
      "29          43          R   CGA       86.1     100.000000\n",
      "30          50          S   TCC       51.1      57.031250\n",
      "31          52          S   TCT       38.5      42.968750\n",
      "32          54          T   ACC       73.6      75.720165\n",
      "33          56          T   ACT       23.6      24.279835\n",
      "34          58          V   GTC       56.4      57.085020\n",
      "35          59          V   GTG        8.5       8.603239\n",
      "36          60          V   GTT       33.9      34.311741\n",
      "37          61          W   TGG      100.0     100.000000\n",
      "38          62          Y   TAC       95.1     100.000000\n"
     ]
    }
   ],
   "source": [
    "# Calculate the new frequencies\n",
    "updated_opt_codon_table = calculate_new_frequencies(pd.read_excel(opt_codon_table))\n",
    "\n",
    "# Print the updated DataFrame (with new frequencies)\n",
    "print(updated_opt_codon_table)"
   ]
  },
  {
   "cell_type": "markdown",
   "metadata": {},
   "source": [
    "### 2. Sequence\n"
   ]
  },
  {
   "cell_type": "markdown",
   "metadata": {},
   "source": [
    "Downloaded a random fasta sequence that we will codon optimise."
   ]
  },
  {
   "cell_type": "code",
   "execution_count": 13,
   "metadata": {},
   "outputs": [],
   "source": [
    "my_fasta = r'C:\\Users\\Candela\\OneDrive - Danmarks Tekniske Universitet\\Codopti\\YALI2.txt' "
   ]
  },
  {
   "cell_type": "markdown",
   "metadata": {},
   "source": [
    "Visualise your amino acid fasta sequence:"
   ]
  },
  {
   "cell_type": "code",
   "execution_count": 78,
   "metadata": {},
   "outputs": [
    {
     "name": "stdout",
     "output_type": "stream",
     "text": [
      "YALI0_D05621g\n",
      "592\n",
      "SeqRecord(seq=Seq('MAHDSELELSDEKVVPSINQEKHSFFQRHLDNHPRMAQYNSQLQRFLKWIEVPT...IIS'), id='YALI0_D05621g', name='YALI0_D05621g', description='YALI0_D05621g  | Yarrowia lipolytica CLIB122 | YALI0D05621p | protein | length=592', dbxrefs=[])\n"
     ]
    }
   ],
   "source": [
    "for seq_record in SeqIO.parse(my_fasta, \"fasta\"):\n",
    "    print(seq_record.id)\n",
    "    print(len(seq_record))\n",
    "    print(repr(seq_record))\n",
    "    name = seq_record.id\n",
    "    AA_seq = seq_record.seq"
   ]
  },
  {
   "cell_type": "markdown",
   "metadata": {},
   "source": [
    "Use the updated_opt_codon_table to reverse translate the amino acid sequence:"
   ]
  },
  {
   "cell_type": "code",
   "execution_count": 82,
   "metadata": {},
   "outputs": [
    {
     "name": "stdout",
     "output_type": "stream",
     "text": [
      "MAHDSELELSDEKVVPSINQEKHSFFQRHLDNHPRMAQYNSQLQRFLKWIEVPTKEGEINTFLNNEDLKPVEVARQTWGWKNFVSFWIADSFNINTWEIAATGIQLGLTWWQVWLCVWIGYFFCGVFVVLSGRIGAIYHVSFPVAGRSTFGIFGSIWPVINRVVMACVWYGVQGWLGGQCIQVCLLAIWPSARHMKNGIPGSGTTTFEFLSYFLFWLFSLPFIYIRPHNLRHLFMVKAAIVPVAGISFLVWTCVKAHGIGPIMKQPATVHGSVMGWAFMTAIMNSLSNFATIIVNAPDFTRFAKEPNAIVLSQLIAVPTAFSLTSFIGIIVSSSATVLYDENIWNPLDVLHKFLEGNKSGSRAGVFFLGFAFAVAQLGTNIAANSLSAGTDMTALLPKYINIRRGGFICAGIALCICPWHLLSSSSNFTTYLSAYATFLSAIAGCSFSDYYLVRKGYIYVGDLYNASKGSTYMYRYGVNWRAFAAYFCGIAINVVGFADAVSDGGVNETARKMYQLNFFLGFLVSAISYYGFNWLSPVVGARETWSEDPNASAMYDEITTDELSQDSQSYDPEEWDRKIANDDPVKTTAIIS\n",
      ">reverse_translated_sequence <unknown description>\n",
      "ATGGCCCACGACTCTGAGCTGGAGCTGTCCGACGAGAAGGTTGTTCCTTCTATTAACCAG\n",
      "GAGAAGCACTCTTTCTTCCAGCGACACCTGGATAACCACCCCCGAATGGCTCAGTACAAC\n",
      "TCCCAGCTTCAGCGATTCCTCAAGTGGATCGAGGTCCCCACCAAGGAGGGTGAGATTAAC\n",
      "ACCTTTCTTAACAACGAGGACCTGAAGCCTGTTGAGGTGGCCCGACAGACCTGGGGCTGG\n",
      "AAGAACTTTGTTTCTTTCTGGATCGCCGACTCTTTCAACATCAACACCTGGGAGATCGCC\n",
      "GCCACCGGTATCCAGCTGGGCCTCACTTGGTGGCAGGTCTGGCTCTGCGTGTGGATCGGT\n",
      "TACTTCTTTTGCGGAGTCTTCGTTGTTCTTTCCGGACGAATTGGTGCCATCTACCACGTC\n",
      "TCTTTCCCCGTCGCCGGCCGATCCACCTTCGGTATCTTCGGCTCCATCTGGCCCGTCATC\n",
      "AACCGAGTCGTCATGGCTTGTGTCTGGTACGGTGTTCAGGGTTGGCTCGGTGGCCAGTGT\n",
      "ATCCAGGTCTGCCTTCTCGCCATTTGGCCTTCTGCTCGACATATGAAGAACGGCATCCCC\n",
      "GGCTCCGGAACCACCACCTTTGAGTTCCTTTCTTACTTCCTCTTCTGGCTGTTCTCTCTG\n",
      "CCCTTCATCTACATTCGACCCCATAACCTCCGACACCTTTTCATGGTGAAGGCCGCCATC\n",
      "GTCCCCGTTGCTGGTATTTCCTTCCTCGTCTGGACCTGTGTGAAGGCCCACGGCATCGGT\n",
      "CCCATCATGAAGCAGCCTGCCACCGTCCACGGCTCTGTTATGGGTTGGGCTTTCATGACT\n",
      "GCCATCATGAACTCTCTTTCTAACTTCGCCACCATTATTGTTAACGCCCCTGATTTCACC\n",
      "CGATTCGCCAAGGAGCCTAACGCTATCGTCCTGTCTCAGCTCATCGCCGTCCCCACCGCC\n",
      "TTCTCCCTGACCTCTTTCATTGGCATCATCGTTTCTTCTTCCGCTACCGTCCTGTACGAT\n",
      "GAGAACATCTGGAACCCCCTCGACGTTCTCCACAAGTTCCTCGAGGGTAACAAGTCCGGC\n",
      "TCTCGAGCTGGCGTCTTCTTTCTGGGCTTCGCTTTTGCTGTTGCCCAGCTTGGCACCAAC\n",
      "ATTGCCGCCAACTCCCTGTCCGCCGGAACCGACATGACTGCCCTCCTTCCCAAGTACATC\n",
      "AACATCCGACGAGGTGGTTTCATCTGCGCCGGAATCGCCCTCTGCATCTGCCCCTGGCAC\n",
      "CTTCTTTCCTCTTCCTCTAACTTCACCACCTACCTCTCTGCCTACGCTACCTTTCTCTCT\n",
      "GCCATCGCCGGTTGCTCTTTCTCTGATTACTACCTGGTGCGAAAGGGCTACATCTACGTT\n",
      "GGCGATCTTTACAACGCCTCTAAGGGTTCTACCTACATGTACCGATACGGTGTCAACTGG\n",
      "CGAGCCTTCGCCGCTTACTTTTGCGGTATCGCCATCAACGTTGTTGGATTCGCCGACGCC\n",
      "GTCTCTGATGGAGGTGTTAACGAGACCGCCCGAAAGATGTACCAGCTGAACTTCTTCCTC\n",
      "GGCTTTCTCGTTTCTGCTATCTCTTACTACGGTTTCAACTGGCTTTCCCCCGTCGTTGGT\n",
      "GCCCGAGAGACCTGGTCTGAGGACCCCAACGCCTCCGCTATGTACGATGAGATTACTACT\n",
      "GACGAGCTCTCTCAGGATTCTCAGTCCTACGACCCCGAGGAGTGGGACCGAAAGATCGCC\n",
      "AACGACGACCCTGTTAAGACCACCGCCATTATTTCC\n",
      "\n"
     ]
    }
   ],
   "source": [
    "\n",
    "def reverse_translate_amino_acids_fasta(AA_seq, codon_table):\n",
    "    # Initialize an empty DNA sequence\n",
    "    dna_sequence = Seq(\"\")\n",
    "    \n",
    "    # Remove the header line from the FASTA format\n",
    "    amino_acid_sequence = AA_seq\n",
    "    \n",
    "    print(amino_acid_sequence)\n",
    "\n",
    "    for amino_acid in amino_acid_sequence:\n",
    "        # Filter the codon table for the current amino acid\n",
    "        amino_acid_codons = codon_table[codon_table['Amino Acid'] == amino_acid]\n",
    "\n",
    "        if not amino_acid_codons.empty:\n",
    "            # Assign codon value ranges based on their frequencies\n",
    "            value_ranges = []\n",
    "            lower_bound = 0\n",
    "            for _, row in amino_acid_codons.iterrows():\n",
    "                upper_bound = lower_bound + row['New Frequency']\n",
    "                value_ranges.append((row['Codon'], lower_bound, upper_bound))\n",
    "                lower_bound = upper_bound\n",
    "\n",
    "            # Generate a random value within the specified range\n",
    "            random_value = random.uniform(0, 100)\n",
    "\n",
    "            # Map the random value to the corresponding codon\n",
    "            for codon, lower, upper in value_ranges:\n",
    "                if lower <= random_value <= upper:\n",
    "                    dna_sequence += Seq(codon)\n",
    "                    break\n",
    "\n",
    "    return dna_sequence\n",
    "\n",
    "\n",
    "\n",
    "# Call the function to reverse translate the amino acid sequence\n",
    "reverse_translated_dna = reverse_translate_amino_acids_fasta(AA_seq, updated_opt_codon_table)\n",
    "\n",
    "# Create a SeqRecord object for the DNA sequence\n",
    "dna_record = SeqRecord(reverse_translated_dna, id=\"reverse_translated_sequence\")\n",
    "\n",
    "# Print the SeqRecord or save it to a FASTA file\n",
    "print(dna_record.format(\"fasta\"))\n"
   ]
  },
  {
   "cell_type": "code",
   "execution_count": 80,
   "metadata": {},
   "outputs": [
    {
     "name": "stdout",
     "output_type": "stream",
     "text": [
      "MAHDSELELSDEKVVPSINQEKHSFFQRHLDNHPRMAQYNSQLQRFLKWIEVPTKEGEINTFLNNEDLKPVEVARQTWGWKNFVSFWIADSFNINTWEIAATGIQLGLTWWQVWLCVWIGYFFCGVFVVLSGRIGAIYHVSFPVAGRSTFGIFGSIWPVINRVVMACVWYGVQGWLGGQCIQVCLLAIWPSARHMKNGIPGSGTTTFEFLSYFLFWLFSLPFIYIRPHNLRHLFMVKAAIVPVAGISFLVWTCVKAHGIGPIMKQPATVHGSVMGWAFMTAIMNSLSNFATIIVNAPDFTRFAKEPNAIVLSQLIAVPTAFSLTSFIGIIVSSSATVLYDENIWNPLDVLHKFLEGNKSGSRAGVFFLGFAFAVAQLGTNIAANSLSAGTDMTALLPKYINIRRGGFICAGIALCICPWHLLSSSSNFTTYLSAYATFLSAIAGCSFSDYYLVRKGYIYVGDLYNASKGSTYMYRYGVNWRAFAAYFCGIAINVVGFADAVSDGGVNETARKMYQLNFFLGFLVSAISYYGFNWLSPVVGARETWSEDPNASAMYDEITTDELSQDSQSYDPEEWDRKIANDDPVKTTAIIS\n",
      ">reverse_translated_sequence <unknown description>\n",
      "ATGGCCCACGACTCCGAGCTCGAGCTGTCCGACGAAAAGGTGGTCCCCTCTATCAACCAG\n",
      "GAGAAGCATTCTTTTTTTCAGCGACATCTGGACAACCACCCCCGAATGGCCCAGTACAAC\n",
      "TCCCAGCTGCAGCGATTCCTCAAGTGGATTGAGGTGCCCACCAAGGAGGGTGAGATCAAC\n",
      "ACCTTCCTCAACAACGAGGACCTGAAGCCTGTTGAGGTCGCCCGACAGACCTGGGGCTGG\n",
      "AAGAACTTCGTTTCTTTCTGGATCGCTGATTCTTTCAACATTAACACCTGGGAGATTGCT\n",
      "GCCACCGGCATTCAGCTTGGTCTGACTTGGTGGCAGGTCTGGCTCTGCGTTTGGATCGGA\n",
      "TACTTCTTTTGCGGTGTTTTCGTCGTCCTTTCTGGCCGAATTGGAGCTATTTACCACGTC\n",
      "TCTTTCCCCGTTGCTGGTCGATCCACCTTCGGTATTTTTGGATCCATCTGGCCCGTCATT\n",
      "AACCGAGTTGTCATGGCCTGTGTTTGGTACGGCGTCCAGGGTTGGCTCGGCGGTCAGTGT\n",
      "ATTCAGGTGTGCCTCCTTGCTATCTGGCCCTCCGCCCGACACATGAAGAACGGTATCCCC\n",
      "GGCTCCGGAACCACTACCTTTGAGTTCCTTTCTTACTTCCTCTTCTGGCTGTTTTCCCTT\n",
      "CCCTTCATCTACATCCGACCCCACAACCTCCGACACCTGTTTATGGTTAAGGCCGCCATC\n",
      "GTCCCCGTCGCCGGTATCTCCTTCCTCGTGTGGACCTGTGTCAAGGCTCATGGAATCGGT\n",
      "CCTATCATGAAGCAGCCCGCCACCGTGCACGGTTCTGTCATGGGTTGGGCCTTCATGACT\n",
      "GCTATTATGAACTCCCTCTCCAACTTCGCCACCATCATTGTCAACGCCCCCGACTTCACC\n",
      "CGATTCGCCAAGGAGCCTAACGCTATTGTCCTTTCTCAGCTCATTGCCGTCCCCACCGCT\n",
      "TTCTCCCTCACCTCCTTTATCGGTATTATCGTCTCCTCTTCTGCCACCGTCCTCTACGAC\n",
      "GAGAACATCTGGAACCCCCTGGACGTCCTCCATAAGTTCCTCGAGGGAAACAAGTCCGGC\n",
      "TCCCGAGCCGGTGTCTTCTTTCTTGGCTTTGCCTTCGCTGTCGCCCAGCTGGGTACCAAC\n",
      "ATCGCTGCTAACTCTCTGTCCGCTGGTACTGACATGACCGCCCTCCTTCCCAAGTACATC\n",
      "AACATTCGACGAGGTGGTTTTATCTGTGCTGGTATCGCCCTTTGTATTTGCCCCTGGCAC\n",
      "CTGCTGTCCTCCTCCTCCAACTTCACCACCTACCTCTCCGCCTACGCCACCTTCCTCTCC\n",
      "GCCATCGCCGGCTGCTCTTTCTCCGATTACTACCTCGTGCGAAAGGGTTACATTTACGTC\n",
      "GGCGACCTCTACAACGCCTCCAAGGGATCCACTTACATGTACCGATACGGTGTTAACTGG\n",
      "CGAGCCTTTGCCGCCTACTTCTGCGGTATCGCCATCAACGTCGTTGGTTTCGCTGATGCC\n",
      "GTCTCTGATGGCGGCGTCAACGAGACCGCTCGAAAGATGTACCAGCTCAACTTCTTCCTC\n",
      "GGATTTCTGGTTTCTGCCATCTCTTACTACGGTTTCAACTGGCTCTCTCCCGTTGTTGGT\n",
      "GCCCGAGAGACTTGGTCCGAGGACCCTAACGCCTCTGCTATGTACGACGAAATCACCACC\n",
      "GACGAGCTCTCCCAGGATTCTCAGTCCTACGATCCTGAGGAGTGGGACCGAAAGATTGCC\n",
      "AACGACGATCCCGTCAAGACCACCGCCATTATTTCC\n",
      "\n"
     ]
    }
   ],
   "source": [
    "def reverse_translate_amino_acids_fasta(AA_seq, codon_table):\n",
    "    # Define the forbidden sequences\n",
    "    forbidden_sequences = [\"GCTCTTCN\", \"GCGGCCGC\", \"GGTCTCNNNNN\"]\n",
    "    \n",
    "    # Initialize an empty DNA sequence\n",
    "    dna_sequence = Seq(\"\")\n",
    "    \n",
    "    # Remove the header line from the FASTA format\n",
    "    amino_acid_sequence = AA_seq\n",
    "    \n",
    "    print(amino_acid_sequence)\n",
    "\n",
    "    while True:\n",
    "        # Initialize a list to keep track of added codons\n",
    "        added_codons = []\n",
    "        \n",
    "        for amino_acid in amino_acid_sequence:\n",
    "            # Filter the codon table for the current amino acid\n",
    "            amino_acid_codons = codon_table[codon_table['Amino Acid'] == amino_acid]\n",
    "\n",
    "            if not amino_acid_codons.empty:\n",
    "                # Assign codon value ranges based on their frequencies\n",
    "                value_ranges = []\n",
    "                lower_bound = 0\n",
    "                for _, row in amino_acid_codons.iterrows():\n",
    "                    upper_bound = lower_bound + row['New Frequency']\n",
    "                    value_ranges.append((row['Codon'], lower_bound, upper_bound))\n",
    "                    lower_bound = upper_bound\n",
    "\n",
    "                while True:\n",
    "                    # Generate a random value within the specified range\n",
    "                    random_value = random.uniform(0, 100)\n",
    "\n",
    "                    # Map the random value to the corresponding codon\n",
    "                    selected_codon = None\n",
    "                    for codon, lower, upper in value_ranges:\n",
    "                        if lower <= random_value <= upper:\n",
    "                            selected_codon = codon\n",
    "                            break\n",
    "                    \n",
    "                    # Check if the selected codon contains any forbidden sequences\n",
    "                    contains_forbidden_sequence = any(seq in selected_codon for seq in forbidden_sequences)\n",
    "                    \n",
    "                    if not contains_forbidden_sequence:\n",
    "                        # Add the selected codon to the DNA sequence\n",
    "                        dna_sequence += Seq(selected_codon)\n",
    "                        added_codons.append(selected_codon)\n",
    "                        break\n",
    "        \n",
    "        # Check if the generated sequence contains any forbidden sequences\n",
    "        contains_forbidden_sequence = any(seq in dna_sequence for seq in forbidden_sequences)\n",
    "        \n",
    "        if not contains_forbidden_sequence:\n",
    "            break  # Exit the loop if the sequence is valid\n",
    "    \n",
    "    return dna_sequence\n",
    "\n",
    "# Call the function to reverse translate the amino acid sequence\n",
    "reverse_translated_dna = reverse_translate_amino_acids_fasta(AA_seq, updated_opt_codon_table)\n",
    "\n",
    "# Create a SeqRecord object for the DNA sequence\n",
    "dna_record = SeqRecord(reverse_translated_dna, id=\"reverse_translated_sequence\")\n",
    "\n",
    "# Print the SeqRecord or save it to a FASTA file\n",
    "print(dna_record.format(\"fasta\"))"
   ]
  },
  {
   "cell_type": "markdown",
   "metadata": {},
   "source": [
    "Check that the sequence changes every time you run it:"
   ]
  },
  {
   "cell_type": "code",
   "execution_count": 71,
   "metadata": {},
   "outputs": [
    {
     "name": "stdout",
     "output_type": "stream",
     "text": [
      "TACCGAGCCATGATCAACGCCTGCATCGACTCCGAACAGGAGAACTGCGAG\n"
     ]
    }
   ],
   "source": [
    "print(dna_record.seq)"
   ]
  },
  {
   "cell_type": "code",
   "execution_count": 49,
   "metadata": {},
   "outputs": [
    {
     "name": "stdout",
     "output_type": "stream",
     "text": [
      "ATGGCTCACGACTCCGAGCTGGAGCTGTCCGACGAAAAGGTCGTCCCCTCTATCAACCAGGAGAAGCACTCCTTCTTCCAGCGACACCTGGACAACCACCCCCGAATGGCTCAGTACAACTCTCAGCTCCAGCGATTCCTCAAGTGGATTGAGGTCCCTACTAAGGAGGGAGAGATTAACACCTTCCTTAACAACGAGGATCTGAAGCCCGTCGAGGTTGCCCGACAGACCTGGGGTTGGAAGAACTTCGTCTCCTTCTGGATCGCCGACTCCTTCAACATCAACACCTGGGAGATCGCCGCTACCGGTATTCAGCTTGGCCTTACTTGGTGGCAGGTCTGGCTCTGTGTCTGGATCGGTTACTTCTTCTGCGGTGTCTTCGTCGTTCTGTCCGGTCGAATTGGCGCTATCTACCACGTCTCTTTCCCCGTTGCTGGACGATCCACCTTCGGCATCTTCGGCTCTATTTGGCCCGTTATTAACCGAGTTGTTATGGCTTGCGTTTGGTACGGTGTTCAGGGTTGGCTTGGCGGTCAGTGTATTCAGGTCTGCCTCCTGGCTATTTGGCCCTCTGCTCGACATATGAAGAACGGTATCCCCGGTTCTGGAACTACCACTTTCGAGTTCCTTTCTTACTTCCTCTTCTGGCTCTTCTCCCTGCCCTTCATCTACATCCGACCCCACAACCTTCGACACCTCTTCATGGTTAAGGCCGCTATTGTCCCCGTCGCCGGTATCTCCTTCCTGGTCTGGACCTGCGTCAAGGCCCACGGCATTGGTCCCATCATGAAGCAGCCCGCCACTGTGCACGGTTCCGTCATGGGTTGGGCCTTTATGACCGCTATCATGAACTCCCTGTCTAACTTCGCCACTATTATTGTCAACGCCCCCGACTTCACCCGATTCGCCAAGGAGCCCAACGCCATTGTCCTTTCTCAGCTCATCGCCGTCCCTACCGCTTTTTCCCTCACCTCTTTCATTGGTATCATCGTTTCCTCTTCTGCCACCGTCCTCTACGACGAGAACATTTGGAACCCCCTCGACGTCCTCCACAAGTTCCTGGAGGGAAACAAGTCCGGCTCCCGAGCTGGCGTCTTTTTTCTCGGTTTCGCCTTCGCTGTGGCCCAGCTCGGAACCAACATCGCCGCCAACTCTCTCTCTGCCGGAACCGACATGACCGCCCTGCTTCCTAAGTACATCAACATCCGACGAGGCGGCTTTATCTGTGCTGGTATCGCCCTCTGCATCTGTCCTTGGCACCTCCTTTCTTCCTCCTCCAACTTTACCACCTACCTGTCCGCCTACGCCACCTTCCTGTCCGCTATTGCCGGTTGTTCCTTTTCCGACTACTACCTCGTCCGAAAGGGCTACATCTACGTTGGCGACCTGTACAACGCCTCTAAGGGTTCTACCTACATGTACCGATACGGTGTTAACTGGCGAGCCTTCGCCGCTTACTTTTGTGGTATTGCCATCAACGTCGTTGGTTTCGCCGATGCCGTCTCCGACGGTGGTGTCAACGAGACCGCTCGAAAGATGTACCAGCTTAACTTCTTCCTCGGTTTTCTGGTTTCTGCCATTTCTTACTACGGCTTCAACTGGCTTTCCCCCGTCGTTGGTGCCCGAGAGACCTGGTCTGAGGACCCCAACGCCTCTGCCATGTACGACGAGATCACCACCGATGAGCTCTCCCAGGACTCCCAGTCCTACGACCCCGAGGAGTGGGATCGAAAGATTGCTAACGACGACCCCGTCAAGACCACTGCTATCATCTCC\n"
     ]
    }
   ],
   "source": [
    "print(dna_record.seq)"
   ]
  },
  {
   "cell_type": "markdown",
   "metadata": {},
   "source": [
    "Check for forbidden sequences:\n"
   ]
  },
  {
   "cell_type": "markdown",
   "metadata": {},
   "source": [
    "DIct No sapI (7nt), bsaI, notI, no stretches of the same nucleotide max 8, GC content (check 12 nt every new codon added), also check the reverse"
   ]
  },
  {
   "cell_type": "code",
   "execution_count": 50,
   "metadata": {},
   "outputs": [
    {
     "data": {
      "text/plain": [
       "55.18018018018018"
      ]
     },
     "execution_count": 50,
     "metadata": {},
     "output_type": "execute_result"
    }
   ],
   "source": [
    "from Bio.SeqUtils import GC\n",
    "GC(dna_record.seq)"
   ]
  },
  {
   "cell_type": "markdown",
   "metadata": {},
   "source": [
    "Translate the sequence back:"
   ]
  },
  {
   "cell_type": "code",
   "execution_count": 23,
   "metadata": {},
   "outputs": [
    {
     "name": "stdout",
     "output_type": "stream",
     "text": [
      "ID: <unknown id>\n",
      "Name: <unknown name>\n",
      "Description: <unknown description>\n",
      "Number of features: 0\n",
      "/molecule_type=protein\n",
      "Seq('MAHDSELELSDEKVVPSINQEKHSFFQRHLDNHPRMAQYNSQLQRFLKWIEVPT...IIS')\n"
     ]
    }
   ],
   "source": [
    "dna_record_new = dna_record.translate() \n",
    "print(dna_record_new)"
   ]
  },
  {
   "cell_type": "markdown",
   "metadata": {},
   "source": [
    "Compare two sequences: "
   ]
  },
  {
   "cell_type": "code",
   "execution_count": 24,
   "metadata": {},
   "outputs": [
    {
     "data": {
      "text/plain": [
       "True"
      ]
     },
     "execution_count": 24,
     "metadata": {},
     "output_type": "execute_result"
    }
   ],
   "source": [
    "dna_record_new.seq == AA_seq"
   ]
  },
  {
   "cell_type": "markdown",
   "metadata": {},
   "source": [
    "--------------------------------"
   ]
  },
  {
   "cell_type": "code",
   "execution_count": 25,
   "metadata": {},
   "outputs": [],
   "source": [
    "def reverse_translate_amino_acids(amino_acid_sequence, codon_table):\n",
    "    dna_sequence = Seq(\"\")\n",
    "    for amino_acid in amino_acid_sequence:\n",
    "        # Filter the codon table for the current amino acid\n",
    "        amino_acid_codons = codon_table[codon_table['Amino Acid'] == amino_acid]\n",
    "\n",
    "        if not amino_acid_codons.empty:\n",
    "            # Assign codon value ranges based on their frequencies\n",
    "            value_ranges = []\n",
    "            lower_bound = 0\n",
    "            for _, row in amino_acid_codons.iterrows():\n",
    "                upper_bound = lower_bound + row['New Frequency']\n",
    "                value_ranges.append((row['Codon'], lower_bound, upper_bound))\n",
    "                lower_bound = upper_bound\n",
    "\n",
    "            # Generate a random value within the specified range\n",
    "            random_value = random.uniform(0, 100)\n",
    "\n",
    "            # Map the random value to the corresponding codon\n",
    "            for codon, lower, upper in value_ranges:\n",
    "                if lower <= random_value <= upper:\n",
    "                    dna_sequence += Seq(codon)\n",
    "                    break\n",
    "\n",
    "    # Ensure that the DNA sequence matches the length of the amino acid sequence\n",
    "    while len(dna_sequence) < len(amino_acid_sequence) * 3:\n",
    "        # If it's shorter, add random codons (you can customize this part)\n",
    "        random_codon = random.choice(codon_table['Codon'])\n",
    "        dna_sequence += random_codon\n",
    "\n",
    "    # Trim the sequence to match the desired length\n",
    "    dna_sequence = dna_sequence[:len(amino_acid_sequence) * 3]\n",
    "\n",
    "    return dna_sequence"
   ]
  },
  {
   "cell_type": "markdown",
   "metadata": {},
   "source": [
    "--------------------------------"
   ]
  },
  {
   "cell_type": "code",
   "execution_count": 26,
   "metadata": {},
   "outputs": [],
   "source": [
    "def read_fasta(my_fasta):\n",
    "    sequence = \"\"\n",
    "    \n",
    "    try:\n",
    "        with open(my_fasta, 'r') as file:\n",
    "            lines = file.readlines()\n",
    "            \n",
    "            # Assuming the FASTA format has a header starting with '>'\n",
    "            # followed by one or more lines of sequence data.\n",
    "            for line in lines:\n",
    "                if line.startswith(\">\"):\n",
    "                    # Skip the header line\n",
    "                    continue\n",
    "                sequence += line.strip()\n",
    "    except FileNotFoundError:\n",
    "        print(f\"File not found: {my_fasta}\")\n",
    "    \n",
    "    return sequence"
   ]
  },
  {
   "cell_type": "code",
   "execution_count": 27,
   "metadata": {},
   "outputs": [
    {
     "name": "stdout",
     "output_type": "stream",
     "text": [
      "MAHDSELELSDEKVVPSINQEKHSFFQRHLDNHPRMAQYNSQLQRFLKWIEVPTKEGEINTFLNNEDLKPVEVARQTWGWKNFVSFWIADSFNINTWEIAATGIQLGLTWWQVWLCVWIGYFFCGVFVVLSGRIGAIYHVSFPVAGRSTFGIFGSIWPVINRVVMACVWYGVQGWLGGQCIQVCLLAIWPSARHMKNGIPGSGTTTFEFLSYFLFWLFSLPFIYIRPHNLRHLFMVKAAIVPVAGISFLVWTCVKAHGIGPIMKQPATVHGSVMGWAFMTAIMNSLSNFATIIVNAPDFTRFAKEPNAIVLSQLIAVPTAFSLTSFIGIIVSSSATVLYDENIWNPLDVLHKFLEGNKSGSRAGVFFLGFAFAVAQLGTNIAANSLSAGTDMTALLPKYINIRRGGFICAGIALCICPWHLLSSSSNFTTYLSAYATFLSAIAGCSFSDYYLVRKGYIYVGDLYNASKGSTYMYRYGVNWRAFAAYFCGIAINVVGFADAVSDGGVNETARKMYQLNFFLGFLVSAISYYGFNWLSPVVGARETWSEDPNASAMYDEITTDELSQDSQSYDPEEWDRKIANDDPVKTTAIIS\n"
     ]
    }
   ],
   "source": [
    "my_prot = read_fasta(my_fasta)\n",
    "print(my_prot)"
   ]
  },
  {
   "cell_type": "code",
   "execution_count": 28,
   "metadata": {},
   "outputs": [],
   "source": [
    "def translate_aa_to_dna(aa_sequence):\n",
    "    \"\"\"\n",
    "    Translate an amino acid sequence to a DNA sequence without considering codon preference.\n",
    "\n",
    "    Args:\n",
    "        aa_sequence (str): The input amino acid sequence.\n",
    "\n",
    "    Returns:\n",
    "        str: The corresponding DNA sequence.\n",
    "    \"\"\"\n",
    "    # Define a translation table for amino acids to codons (not taking freq into account)\n",
    "    translation_table = {\n",
    "        'A': 'GCT', 'C': 'TGT', 'D': 'GAC', 'E': 'GAG',\n",
    "        'F': 'TTT', 'G': 'GGC', 'H': 'CAT', 'I': 'ATC',\n",
    "        'K': 'AAG', 'L': 'CTG', 'M': 'ATG', 'N': 'AAC',\n",
    "        'P': 'CCC', 'Q': 'CAG', 'R': 'CGT', 'S': 'TCT',\n",
    "        'T': 'ACC', 'V': 'GTT', 'W': 'TGG', 'Y': 'TAC',\n",
    "        '*': 'TAA',  # Stop codon\n",
    "    }\n",
    "\n",
    "    # Initialize the DNA sequence\n",
    "    dna_sequence = \"\"\n",
    "\n",
    "    # Translate each amino acid to its corresponding codon\n",
    "    for aa in aa_sequence:\n",
    "        codon = translation_table.get(aa)\n",
    "        if codon:\n",
    "            dna_sequence += codon\n",
    "        else:\n",
    "            # Handle unknown amino acids or gaps as needed\n",
    "            raise ValueError(f\"Unknown amino acid: {aa}\")\n",
    "\n",
    "    return dna_sequence\n"
   ]
  },
  {
   "cell_type": "code",
   "execution_count": 29,
   "metadata": {},
   "outputs": [
    {
     "name": "stdout",
     "output_type": "stream",
     "text": [
      "DNA sequence:\n",
      "ATGGCTCATGACTCTGAGCTGGAGCTGTCTGACGAGAAGGTTGTTCCCTCTATCAACCAGGAGAAGCATTCTTTTTTTCAGCGTCATCTGGACAACCATCCCCGTATGGCTCAGTACAACTCTCAGCTGCAGCGTTTTCTGAAGTGGATCGAGGTTCCCACCAAGGAGGGCGAGATCAACACCTTTCTGAACAACGAGGACCTGAAGCCCGTTGAGGTTGCTCGTCAGACCTGGGGCTGGAAGAACTTTGTTTCTTTTTGGATCGCTGACTCTTTTAACATCAACACCTGGGAGATCGCTGCTACCGGCATCCAGCTGGGCCTGACCTGGTGGCAGGTTTGGCTGTGTGTTTGGATCGGCTACTTTTTTTGTGGCGTTTTTGTTGTTCTGTCTGGCCGTATCGGCGCTATCTACCATGTTTCTTTTCCCGTTGCTGGCCGTTCTACCTTTGGCATCTTTGGCTCTATCTGGCCCGTTATCAACCGTGTTGTTATGGCTTGTGTTTGGTACGGCGTTCAGGGCTGGCTGGGCGGCCAGTGTATCCAGGTTTGTCTGCTGGCTATCTGGCCCTCTGCTCGTCATATGAAGAACGGCATCCCCGGCTCTGGCACCACCACCTTTGAGTTTCTGTCTTACTTTCTGTTTTGGCTGTTTTCTCTGCCCTTTATCTACATCCGTCCCCATAACCTGCGTCATCTGTTTATGGTTAAGGCTGCTATCGTTCCCGTTGCTGGCATCTCTTTTCTGGTTTGGACCTGTGTTAAGGCTCATGGCATCGGCCCCATCATGAAGCAGCCCGCTACCGTTCATGGCTCTGTTATGGGCTGGGCTTTTATGACCGCTATCATGAACTCTCTGTCTAACTTTGCTACCATCATCGTTAACGCTCCCGACTTTACCCGTTTTGCTAAGGAGCCCAACGCTATCGTTCTGTCTCAGCTGATCGCTGTTCCCACCGCTTTTTCTCTGACCTCTTTTATCGGCATCATCGTTTCTTCTTCTGCTACCGTTCTGTACGACGAGAACATCTGGAACCCCCTGGACGTTCTGCATAAGTTTCTGGAGGGCAACAAGTCTGGCTCTCGTGCTGGCGTTTTTTTTCTGGGCTTTGCTTTTGCTGTTGCTCAGCTGGGCACCAACATCGCTGCTAACTCTCTGTCTGCTGGCACCGACATGACCGCTCTGCTGCCCAAGTACATCAACATCCGTCGTGGCGGCTTTATCTGTGCTGGCATCGCTCTGTGTATCTGTCCCTGGCATCTGCTGTCTTCTTCTTCTAACTTTACCACCTACCTGTCTGCTTACGCTACCTTTCTGTCTGCTATCGCTGGCTGTTCTTTTTCTGACTACTACCTGGTTCGTAAGGGCTACATCTACGTTGGCGACCTGTACAACGCTTCTAAGGGCTCTACCTACATGTACCGTTACGGCGTTAACTGGCGTGCTTTTGCTGCTTACTTTTGTGGCATCGCTATCAACGTTGTTGGCTTTGCTGACGCTGTTTCTGACGGCGGCGTTAACGAGACCGCTCGTAAGATGTACCAGCTGAACTTTTTTCTGGGCTTTCTGGTTTCTGCTATCTCTTACTACGGCTTTAACTGGCTGTCTCCCGTTGTTGGCGCTCGTGAGACCTGGTCTGAGGACCCCAACGCTTCTGCTATGTACGACGAGATCACCACCGACGAGCTGTCTCAGGACTCTCAGTCTTACGACCCCGAGGAGTGGGACCGTAAGATCGCTAACGACGACCCCGTTAAGACCACCGCTATCATCTCT\n"
     ]
    }
   ],
   "source": [
    "# Example usage:  \n",
    "translated_dna = translate_aa_to_dna(my_prot)\n",
    "print(\"DNA sequence:\")\n",
    "print(translated_dna)"
   ]
  },
  {
   "cell_type": "code",
   "execution_count": 30,
   "metadata": {},
   "outputs": [],
   "source": [
    "verify_dna = r'C:\\Users\\Candela\\OneDrive - Danmarks Tekniske Universitet\\Codopti\\YALI2gene.txt'"
   ]
  },
  {
   "cell_type": "code",
   "execution_count": 31,
   "metadata": {},
   "outputs": [
    {
     "name": "stdout",
     "output_type": "stream",
     "text": [
      "ATGGCCCACGATTCCGAGCTCGAGCTGTCAGACGAAAAAGTCGTGCCTTCTATCAACCAAGAAAAGCACTCCTTTTTCCAACGGCATCTCGACAACCACCCCCGAATGGCCCAATACAACTCGCAACTGCAGCGGTTCCTCAAGTGGATCGAGGTCCCGACCAAGGAAGGAGAGATCAACACATTTCTCAACAACGAGGATCTGAAACCGGTCGAGGTCGCCCGCCAGACCTGGGGATGGAAGAACTTCGTGTCCTTCTGGATCGCAGACTCCTTCAACATCAACACCTGGGAAATTGCCGCCACAGGCATCCAGCTGGGACTCACCTGGTGGCAGGTCTGGCTGTGCGTGTGGATCGGCTACTTCTTCTGCGGAGTCTTTGTGGTCCTGTCTGGACGAATCGGAGCAATCTACCACGTGTCGTTTCCCGTGGCCGGCCGGTCGACATTTGGAATCTTTGGCTCCATCTGGCCCGTTATCAACCGAGTGGTCATGGCCTGCGTGTGGTACGGAGTCCAGGGCTGGCTGGGAGGCCAGTGTATCCAGGTGTGTCTTCTGGCAATCTGGCCTAGTGCTCGACACATGAAAAACGGAATCCCCGGAAGTGGAACCACCACCTTTGAGTTCCTCTCCTACTTTCTGTTCTGGCTCTTCTCCCTGCCCTTCATCTACATCAGACCCCACAACCTGCGGCACCTTTTCATGGTCAAGGCCGCCATCGTGCCTGTCGCAGGCATCTCATTCCTGGTCTGGACCTGTGTCAAGGCCCACGGAATCGGTCCCATCATGAAACAGCCCGCCACCGTTCACGGCTCGGTCATGGGCTGGGCCTTTATGACCGCCATCATGAACTCGCTGTCCAACTTTGCTACCATCATTGTCAACGCCCCGGACTTCACCCGTTTCGCCAAAGAACCTAACGCCATTGTGCTGTCGCAGCTCATTGCCGTGCCCACTGCATTCTCACTGACATCATTCATCGGTATCATTGTGTCATCTTCGGCCACCGTTCTCTACGACGAAAACATCTGGAACCCCCTGGACGTTCTGCACAAGTTCCTGGAAGGAAACAAGTCCGGCAGCCGAGCCGGCGTCTTCTTCCTGGGCTTTGCCTTTGCCGTGGCGCAGTTGGGAACCAACATTGCCGCCAACTCGCTGTCGGCAGGCACAGACATGACCGCGCTGCTGCCCAAGTACATCAATATTCGACGAGGAGGTTTCATCTGCGCAGGCATTGCTCTCTGCATCTGTCCCTGGCACCTGCTCTCTTCCTCCTCAAACTTCACCACCTACCTGTCTGCATACGCCACTTTCCTGTCGGCCATTGCAGGCTGCTCTTTCAGTGACTACTACCTTGTACGAAAGGGCTACATCTACGTCGGCGACCTCTACAACGCCTCTAAGGGCTCCACCTACATGTACCGGTACGGAGTCAACTGGCGGGCATTTGCAGCCTACTTTTGCGGTATCGCAATCAACGTGGTGGGCTTTGCCGACGCTGTGTCCGACGGAGGAGTCAACGAAACCGCCCGAAAGATGTACCAACTCAACTTCTTCCTGGGCTTCCTGGTGTCGGCCATTTCATACTACGGCTTCAACTGGCTATCTCCAGTGGTAGGCGCTCGAGAGACATGGAGCGAGGACCCCAACGCCTCGGCCATGTACGACGAGATCACCACCGACGAGCTTTCTCAAGACTCGCAGTCGTACGACCCCGAGGAATGGGACAGAAAAATTGCCAACGACGACCCTGTCAAGACAACCGCCATTATCTCCTAA\n"
     ]
    }
   ],
   "source": [
    "reference_dna = read_fasta(verify_dna)\n",
    "print(reference_dna)"
   ]
  },
  {
   "cell_type": "code",
   "execution_count": 32,
   "metadata": {},
   "outputs": [],
   "source": [
    "def compare_dna_sequences(seq1, seq2):\n",
    "    \"\"\"\n",
    "    Compare two DNA sequences and identify mismatches.\n",
    "\n",
    "    Args:\n",
    "        seq1 (str): The first DNA sequence.\n",
    "        seq2 (str): The second DNA sequence to compare.\n",
    "\n",
    "    Returns:\n",
    "        list: A list of tuples containing the position and the mismatched nucleotide.\n",
    "    \"\"\"\n",
    "    mismatches = []\n",
    "    min_len = min(len(seq1), len(seq2))\n",
    "\n",
    "    for i in range(min_len):\n",
    "        if seq1[i] != seq2[i]:\n",
    "            mismatches.append((i, seq1[i], seq2[i]))\n",
    "\n",
    "    return mismatches\n",
    "\n",
    "# Ensure you have the 'dna_sequence' variable from the previous script\n",
    "# Replace 'dna_sequence' with the actual DNA sequence you want to compare"
   ]
  },
  {
   "cell_type": "code",
   "execution_count": 33,
   "metadata": {},
   "outputs": [
    {
     "data": {
      "text/plain": [
       "[(5, 'T', 'C'),\n",
       " (8, 'T', 'C'),\n",
       " (11, 'C', 'T'),\n",
       " (14, 'T', 'C'),\n",
       " (20, 'G', 'C'),\n",
       " (29, 'T', 'A'),\n",
       " (35, 'G', 'A'),\n",
       " (38, 'G', 'A'),\n",
       " (41, 'T', 'C'),\n",
       " (44, 'T', 'G'),\n",
       " (47, 'C', 'T'),\n",
       " (59, 'G', 'A'),\n",
       " (62, 'G', 'A'),\n",
       " (68, 'T', 'C'),\n",
       " (71, 'T', 'C'),\n",
       " (77, 'T', 'C'),\n",
       " (80, 'G', 'A'),\n",
       " (83, 'T', 'G'),\n",
       " (89, 'G', 'C'),\n",
       " (98, 'T', 'C'),\n",
       " (104, 'T', 'A'),\n",
       " (110, 'T', 'C'),\n",
       " (113, 'G', 'A'),\n",
       " (122, 'T', 'G'),\n",
       " (125, 'G', 'A'),\n",
       " (134, 'T', 'G'),\n",
       " (137, 'T', 'C'),\n",
       " (140, 'G', 'C'),\n",
       " (155, 'T', 'C'),\n",
       " (158, 'C', 'G'),\n",
       " (167, 'G', 'A'),\n",
       " (170, 'C', 'A'),\n",
       " (182, 'C', 'A'),\n",
       " (188, 'G', 'C'),\n",
       " (200, 'C', 'T'),\n",
       " (206, 'G', 'A'),\n",
       " (209, 'C', 'G'),\n",
       " (212, 'T', 'C'),\n",
       " (218, 'T', 'C'),\n",
       " (221, 'T', 'C'),\n",
       " (224, 'T', 'C'),\n",
       " (236, 'C', 'A'),\n",
       " (248, 'T', 'C'),\n",
       " (251, 'T', 'G'),\n",
       " (254, 'T', 'C'),\n",
       " (257, 'T', 'C'),\n",
       " (266, 'T', 'A'),\n",
       " (272, 'T', 'C'),\n",
       " (275, 'T', 'C'),\n",
       " (293, 'G', 'A'),\n",
       " (296, 'C', 'T'),\n",
       " (299, 'T', 'C'),\n",
       " (302, 'T', 'C'),\n",
       " (305, 'C', 'A'),\n",
       " (320, 'C', 'A'),\n",
       " (323, 'G', 'C'),\n",
       " (338, 'T', 'C'),\n",
       " (347, 'T', 'C'),\n",
       " (350, 'T', 'G'),\n",
       " (365, 'T', 'C'),\n",
       " (368, 'T', 'C'),\n",
       " (371, 'T', 'C'),\n",
       " (374, 'C', 'A'),\n",
       " (377, 'T', 'C'),\n",
       " (383, 'T', 'G'),\n",
       " (386, 'T', 'C'),\n",
       " (395, 'C', 'A'),\n",
       " (398, 'T', 'A'),\n",
       " (404, 'C', 'A'),\n",
       " (407, 'T', 'A'),\n",
       " (416, 'T', 'C'),\n",
       " (419, 'T', 'G'),\n",
       " (422, 'T', 'G'),\n",
       " (431, 'T', 'G'),\n",
       " (434, 'T', 'C'),\n",
       " (440, 'T', 'G'),\n",
       " (443, 'T', 'G'),\n",
       " (446, 'C', 'A'),\n",
       " (452, 'C', 'A'),\n",
       " (464, 'T', 'C'),\n",
       " (485, 'T', 'A'),\n",
       " (488, 'T', 'G'),\n",
       " (491, 'T', 'C'),\n",
       " (497, 'T', 'C'),\n",
       " (500, 'T', 'C'),\n",
       " (503, 'T', 'G'),\n",
       " (512, 'C', 'A'),\n",
       " (515, 'T', 'C'),\n",
       " (530, 'C', 'A'),\n",
       " (548, 'T', 'G'),\n",
       " (554, 'G', 'T'),\n",
       " (560, 'T', 'A'),\n",
       " (569, 'C', 'T'),\n",
       " (570, 'T', 'A'),\n",
       " (571, 'C', 'G'),\n",
       " (578, 'T', 'A'),\n",
       " (581, 'T', 'C'),\n",
       " (587, 'G', 'A'),\n",
       " (593, 'C', 'A'),\n",
       " (602, 'C', 'A'),\n",
       " (603, 'T', 'A'),\n",
       " (604, 'C', 'G'),\n",
       " (608, 'C', 'A'),\n",
       " (626, 'T', 'C'),\n",
       " (629, 'G', 'C'),\n",
       " (632, 'T', 'C'),\n",
       " (644, 'T', 'C'),\n",
       " (650, 'G', 'C'),\n",
       " (653, 'T', 'C'),\n",
       " (656, 'T', 'C'),\n",
       " (665, 'T', 'C'),\n",
       " (675, 'C', 'A'),\n",
       " (677, 'T', 'A'),\n",
       " (683, 'T', 'C'),\n",
       " (692, 'T', 'G'),\n",
       " (695, 'T', 'C'),\n",
       " (698, 'G', 'T'),\n",
       " (701, 'T', 'C'),\n",
       " (707, 'T', 'C'),\n",
       " (713, 'T', 'C'),\n",
       " (716, 'T', 'C'),\n",
       " (722, 'T', 'G'),\n",
       " (725, 'C', 'T'),\n",
       " (728, 'T', 'C'),\n",
       " (731, 'T', 'A'),\n",
       " (740, 'T', 'A'),\n",
       " (743, 'T', 'C'),\n",
       " (749, 'T', 'C'),\n",
       " (761, 'T', 'C'),\n",
       " (767, 'T', 'C'),\n",
       " (770, 'T', 'C'),\n",
       " (773, 'C', 'A'),\n",
       " (779, 'C', 'T'),\n",
       " (791, 'G', 'A'),\n",
       " (800, 'T', 'C'),\n",
       " (809, 'T', 'C'),\n",
       " (815, 'T', 'G'),\n",
       " (818, 'T', 'C'),\n",
       " (830, 'T', 'C'),\n",
       " (842, 'T', 'C'),\n",
       " (854, 'T', 'G'),\n",
       " (860, 'T', 'C'),\n",
       " (878, 'C', 'T'),\n",
       " (881, 'T', 'C'),\n",
       " (887, 'T', 'C'),\n",
       " (890, 'C', 'G'),\n",
       " (896, 'T', 'C'),\n",
       " (905, 'T', 'C'),\n",
       " (908, 'T', 'C'),\n",
       " (911, 'G', 'A'),\n",
       " (914, 'G', 'A'),\n",
       " (917, 'C', 'T'),\n",
       " (923, 'T', 'C'),\n",
       " (926, 'C', 'T'),\n",
       " (929, 'T', 'G'),\n",
       " (935, 'T', 'G'),\n",
       " (941, 'G', 'C'),\n",
       " (944, 'C', 'T'),\n",
       " (947, 'T', 'C'),\n",
       " (950, 'T', 'G'),\n",
       " (956, 'C', 'T'),\n",
       " (959, 'T', 'A'),\n",
       " (962, 'T', 'C'),\n",
       " (965, 'T', 'A'),\n",
       " (971, 'C', 'A'),\n",
       " (974, 'T', 'A'),\n",
       " (977, 'T', 'C'),\n",
       " (983, 'C', 'T'),\n",
       " (989, 'C', 'T'),\n",
       " (992, 'T', 'G'),\n",
       " (995, 'T', 'A'),\n",
       " (1001, 'T', 'G'),\n",
       " (1004, 'T', 'C'),\n",
       " (1013, 'G', 'C'),\n",
       " (1022, 'G', 'A'),\n",
       " (1052, 'T', 'C'),\n",
       " (1058, 'T', 'C'),\n",
       " (1064, 'G', 'A'),\n",
       " (1067, 'C', 'A'),\n",
       " (1076, 'T', 'C'),\n",
       " (1080, 'T', 'A'),\n",
       " (1081, 'C', 'G'),\n",
       " (1082, 'T', 'C'),\n",
       " (1085, 'T', 'A'),\n",
       " (1088, 'T', 'C'),\n",
       " (1094, 'T', 'C'),\n",
       " (1097, 'T', 'C'),\n",
       " (1100, 'T', 'C'),\n",
       " (1112, 'T', 'C'),\n",
       " (1118, 'T', 'C'),\n",
       " (1121, 'T', 'G'),\n",
       " (1124, 'T', 'G'),\n",
       " (1128, 'C', 'T'),\n",
       " (1133, 'C', 'A'),\n",
       " (1142, 'C', 'T'),\n",
       " (1145, 'T', 'C'),\n",
       " (1148, 'T', 'C'),\n",
       " (1154, 'T', 'G'),\n",
       " (1160, 'T', 'G'),\n",
       " (1163, 'T', 'A'),\n",
       " (1169, 'C', 'A'),\n",
       " (1181, 'T', 'G'),\n",
       " (1202, 'C', 'T'),\n",
       " (1205, 'C', 'T'),\n",
       " (1208, 'T', 'A'),\n",
       " (1211, 'T', 'A'),\n",
       " (1214, 'C', 'A'),\n",
       " (1217, 'C', 'T'),\n",
       " (1220, 'T', 'C'),\n",
       " (1226, 'T', 'C'),\n",
       " (1229, 'T', 'A'),\n",
       " (1235, 'C', 'T'),\n",
       " (1241, 'G', 'C'),\n",
       " (1244, 'T', 'C'),\n",
       " (1259, 'T', 'C'),\n",
       " (1265, 'G', 'C'),\n",
       " (1271, 'T', 'C'),\n",
       " (1274, 'T', 'C'),\n",
       " (1277, 'T', 'A'),\n",
       " (1283, 'T', 'C'),\n",
       " (1301, 'T', 'A'),\n",
       " (1307, 'T', 'C'),\n",
       " (1310, 'C', 'T'),\n",
       " (1313, 'T', 'C'),\n",
       " (1319, 'T', 'G'),\n",
       " (1322, 'T', 'C'),\n",
       " (1325, 'C', 'T'),\n",
       " (1328, 'T', 'A'),\n",
       " (1334, 'T', 'C'),\n",
       " (1340, 'T', 'C'),\n",
       " (1341, 'T', 'A'),\n",
       " (1342, 'C', 'G'),\n",
       " (1355, 'G', 'T'),\n",
       " (1358, 'T', 'A'),\n",
       " (1361, 'T', 'A'),\n",
       " (1379, 'T', 'C'),\n",
       " (1388, 'G', 'C'),\n",
       " (1397, 'T', 'C'),\n",
       " (1409, 'T', 'C'),\n",
       " (1424, 'T', 'G'),\n",
       " (1430, 'C', 'A'),\n",
       " (1433, 'T', 'C'),\n",
       " (1442, 'T', 'G'),\n",
       " (1445, 'T', 'A'),\n",
       " (1451, 'T', 'A'),\n",
       " (1454, 'T', 'C'),\n",
       " (1463, 'T', 'C'),\n",
       " (1466, 'C', 'T'),\n",
       " (1472, 'T', 'A'),\n",
       " (1481, 'T', 'G'),\n",
       " (1484, 'T', 'G'),\n",
       " (1493, 'T', 'C'),\n",
       " (1502, 'T', 'G'),\n",
       " (1505, 'T', 'C'),\n",
       " (1511, 'C', 'A'),\n",
       " (1514, 'C', 'A'),\n",
       " (1517, 'T', 'C'),\n",
       " (1523, 'G', 'A'),\n",
       " (1529, 'T', 'C'),\n",
       " (1532, 'T', 'A'),\n",
       " (1544, 'G', 'A'),\n",
       " (1547, 'G', 'C'),\n",
       " (1553, 'T', 'C'),\n",
       " (1556, 'T', 'C'),\n",
       " (1565, 'T', 'C'),\n",
       " (1571, 'T', 'G'),\n",
       " (1574, 'T', 'G'),\n",
       " (1577, 'T', 'C'),\n",
       " (1580, 'C', 'T'),\n",
       " (1583, 'T', 'A'),\n",
       " (1595, 'T', 'C'),\n",
       " (1604, 'G', 'A'),\n",
       " (1610, 'C', 'A'),\n",
       " (1613, 'T', 'G'),\n",
       " (1616, 'T', 'A'),\n",
       " (1625, 'T', 'A'),\n",
       " (1631, 'C', 'A'),\n",
       " (1635, 'T', 'A'),\n",
       " (1636, 'C', 'G'),\n",
       " (1637, 'T', 'C'),\n",
       " (1652, 'T', 'C'),\n",
       " (1655, 'T', 'G'),\n",
       " (1658, 'T', 'C'),\n",
       " (1688, 'G', 'T'),\n",
       " (1694, 'G', 'A'),\n",
       " (1700, 'T', 'G'),\n",
       " (1706, 'T', 'G'),\n",
       " (1721, 'G', 'A'),\n",
       " (1728, 'C', 'A'),\n",
       " (1730, 'T', 'A'),\n",
       " (1733, 'G', 'A'),\n",
       " (1736, 'C', 'T'),\n",
       " (1739, 'T', 'C'),\n",
       " (1751, 'C', 'T'),\n",
       " (1754, 'T', 'C'),\n",
       " (1760, 'C', 'A'),\n",
       " (1766, 'T', 'C'),\n",
       " (1769, 'C', 'T'),\n",
       " (1775, 'T', 'C')]"
      ]
     },
     "execution_count": 33,
     "metadata": {},
     "output_type": "execute_result"
    }
   ],
   "source": [
    "compare_dna_sequences(translated_dna, reference_dna)"
   ]
  },
  {
   "cell_type": "markdown",
   "metadata": {},
   "source": []
  },
  {
   "cell_type": "markdown",
   "metadata": {},
   "source": [
    "once you get the mismatches, you build again the dna sequence using the specific codon table.\n",
    "\n",
    "after that you change the low frequency codons for higher frequency ones."
   ]
  },
  {
   "cell_type": "code",
   "execution_count": 34,
   "metadata": {},
   "outputs": [
    {
     "name": "stdout",
     "output_type": "stream",
     "text": [
      "DNA sequence:\n",
      "ATGGCCCACGACTCCGAGCTCGAGCTCTCCGACGAGAAGGTCGTCCCCTCCATCAACCAGGAGAAGCACTCCTTCTTCCAGCGACACCTCGACAACCACCCCCGAATGGCCCAGTACAACTCCCAGCTCCAGCGATTCCTCAAGTGGATCGAGGTCCCCACCAAGGAGGGTGAGATCAACACCTTCCTCAACAACGAGGACCTCAAGCCCGTCGAGGTCGCCCGACAGACCTGGGGTTGGAAGAACTTCGTCTCCTTCTGGATCGCCGACTCCTTCAACATCAACACCTGGGAGATCGCCGCCACCGGTATCCAGCTCGGTCTCACCTGGTGGCAGGTCTGGCTCTGCGTCTGGATCGGTTACTTCTTCTGCGGTGTCTTCGTCGTCCTCTCCGGTCGAATCGGTGCCATCTACCACGTCTCCTTCCCCGTCGCCGGTCGATCCACCTTCGGTATCTTCGGTTCCATCTGGCCCGTCATCAACCGAGTCGTCATGGCCTGCGTCTGGTACGGTGTCCAGGGTTGGCTCGGTGGTCAGTGCATCCAGGTCTGCCTCCTCGCCATCTGGCCCTCCGCCCGACACATGAAGAACGGTATCCCCGGTTCCGGTACCACCACCTTCGAGTTCCTCTCCTACTTCCTCTTCTGGCTCTTCTCCCTCCCCTTCATCTACATCCGACCCCACAACCTCCGACACCTCTTCATGGTCAAGGCCGCCATCGTCCCCGTCGCCGGTATCTCCTTCCTCGTCTGGACCTGCGTCAAGGCCCACGGTATCGGTCCCATCATGAAGCAGCCCGCCACCGTCCACGGTTCCGTCATGGGTTGGGCCTTCATGACCGCCATCATGAACTCCCTCTCCAACTTCGCCACCATCATCGTCAACGCCCCCGACTTCACCCGATTCGCCAAGGAGCCCAACGCCATCGTCCTCTCCCAGCTCATCGCCGTCCCCACCGCCTTCTCCCTCACCTCCTTCATCGGTATCATCGTCTCCTCCTCCGCCACCGTCCTCTACGACGAGAACATCTGGAACCCCCTCGACGTCCTCCACAAGTTCCTCGAGGGTAACAAGTCCGGTTCCCGAGCCGGTGTCTTCTTCCTCGGTTTCGCCTTCGCCGTCGCCCAGCTCGGTACCAACATCGCCGCCAACTCCCTCTCCGCCGGTACCGACATGACCGCCCTCCTCCCCAAGTACATCAACATCCGACGAGGTGGTTTCATCTGCGCCGGTATCGCCCTCTGCATCTGCCCCTGGCACCTCCTCTCCTCCTCCTCCAACTTCACCACCTACCTCTCCGCCTACGCCACCTTCCTCTCCGCCATCGCCGGTTGCTCCTTCTCCGACTACTACCTCGTCCGAAAGGGTTACATCTACGTCGGTGACCTCTACAACGCCTCCAAGGGTTCCACCTACATGTACCGATACGGTGTCAACTGGCGAGCCTTCGCCGCCTACTTCTGCGGTATCGCCATCAACGTCGTCGGTTTCGCCGACGCCGTCTCCGACGGTGGTGTCAACGAGACCGCCCGAAAGATGTACCAGCTCAACTTCTTCCTCGGTTTCCTCGTCTCCGCCATCTCCTACTACGGTTTCAACTGGCTCTCCCCCGTCGTCGGTGCCCGAGAGACCTGGTCCGAGGACCCCAACGCCTCCGCCATGTACGACGAGATCACCACCGACGAGCTCTCCCAGGACTCCCAGTCCTACGACCCCGAGGAGTGGGACCGAAAGATCGCCAACGACGACCCCGTCAAGACCACCGCCATCATCTCC\n"
     ]
    }
   ],
   "source": [
    "import pandas as pd\n",
    "\n",
    "def translate_with_codon_table(aa_sequence, codon_preference_file):\n",
    "    \"\"\"\n",
    "    Translate an amino acid sequence to a DNA sequence using a codon preference table from an Excel sheet,\n",
    "    considering the highest-frequency codon for each amino acid.\n",
    "\n",
    "    Args:\n",
    "        aa_sequence (str): The input amino acid sequence.\n",
    "        codon_preference_file (str): The path to the Excel file containing the codon preference table.\n",
    "        sheet_name (str): The name of the sheet containing the codon preference data.\n",
    "\n",
    "    Returns:\n",
    "        str: The corresponding DNA sequence.\n",
    "    \"\"\"\n",
    "    # Read the codon preference table from the Excel sheet\n",
    "    codon_preference_df = codon_table\n",
    "    \n",
    "    # Create a dictionary to store the highest-frequency codon for each amino acid\n",
    "    highest_frequency_codon = {}\n",
    "    \n",
    "    # Iterate over the DataFrame to find the highest-frequency codon for each amino acid\n",
    "    for index, row in codon_preference_df.iterrows():\n",
    "        amino_acid = row['Amino Acid']\n",
    "        codon = row['Codon']\n",
    "        frequency = row['Frequency']\n",
    "        \n",
    "        if amino_acid not in highest_frequency_codon or frequency > highest_frequency_codon[amino_acid]['Frequency']:\n",
    "            highest_frequency_codon[amino_acid] = {'Codon': codon, 'Frequency': frequency}\n",
    "\n",
    "    # Initialize the DNA sequence\n",
    "    dna_sequence = \"\"\n",
    "    \n",
    "    # Translate each amino acid to its corresponding highest-frequency codon\n",
    "    for aa in aa_sequence:\n",
    "        codon_info = highest_frequency_codon.get(aa)\n",
    "        if codon_info:\n",
    "            dna_sequence += codon_info['Codon']\n",
    "        else:\n",
    "            # Handle unknown amino acids or gaps as needed\n",
    "            raise ValueError(f\"Unknown amino acid: {aa}\")\n",
    "\n",
    "    return dna_sequence\n",
    "\n",
    "\n",
    "# Example usage:\n",
    "dna_sequence = translate_with_codon_table(my_prot, codon_table)\n",
    "print(\"DNA sequence:\")\n",
    "print(dna_sequence)\n",
    "\n"
   ]
  },
  {
   "cell_type": "code",
   "execution_count": 35,
   "metadata": {},
   "outputs": [
    {
     "data": {
      "text/plain": [
       "[(11, 'C', 'T'),\n",
       " (26, 'C', 'G'),\n",
       " (29, 'C', 'A'),\n",
       " (35, 'G', 'A'),\n",
       " (38, 'G', 'A'),\n",
       " (44, 'C', 'G'),\n",
       " (47, 'C', 'T'),\n",
       " (50, 'C', 'T'),\n",
       " (59, 'G', 'A'),\n",
       " (62, 'G', 'A'),\n",
       " (74, 'C', 'T'),\n",
       " (80, 'G', 'A'),\n",
       " (83, 'A', 'G'),\n",
       " (86, 'C', 'T'),\n",
       " (113, 'G', 'A'),\n",
       " (122, 'C', 'G'),\n",
       " (125, 'G', 'A'),\n",
       " (128, 'C', 'G'),\n",
       " (134, 'A', 'G'),\n",
       " (158, 'C', 'G'),\n",
       " (167, 'G', 'A'),\n",
       " (170, 'T', 'A'),\n",
       " (182, 'C', 'A'),\n",
       " (185, 'C', 'T'),\n",
       " (200, 'C', 'T'),\n",
       " (203, 'C', 'G'),\n",
       " (206, 'G', 'A'),\n",
       " (209, 'C', 'G'),\n",
       " (224, 'A', 'C'),\n",
       " (236, 'T', 'A'),\n",
       " (251, 'C', 'G'),\n",
       " (266, 'C', 'A'),\n",
       " (293, 'G', 'A'),\n",
       " (296, 'C', 'T'),\n",
       " (305, 'C', 'A'),\n",
       " (308, 'T', 'C'),\n",
       " (317, 'C', 'G'),\n",
       " (320, 'T', 'A'),\n",
       " (344, 'C', 'G'),\n",
       " (350, 'C', 'G'),\n",
       " (359, 'T', 'C'),\n",
       " (374, 'T', 'A'),\n",
       " (380, 'C', 'T'),\n",
       " (383, 'C', 'G'),\n",
       " (389, 'C', 'G'),\n",
       " (392, 'C', 'T'),\n",
       " (395, 'T', 'A'),\n",
       " (404, 'T', 'A'),\n",
       " (407, 'C', 'A'),\n",
       " (419, 'C', 'G'),\n",
       " (422, 'C', 'G'),\n",
       " (425, 'C', 'T'),\n",
       " (431, 'C', 'G'),\n",
       " (437, 'T', 'C'),\n",
       " (440, 'A', 'G'),\n",
       " (443, 'C', 'G'),\n",
       " (446, 'C', 'A'),\n",
       " (449, 'C', 'T'),\n",
       " (452, 'T', 'A'),\n",
       " (458, 'C', 'T'),\n",
       " (461, 'T', 'C'),\n",
       " (476, 'C', 'T'),\n",
       " (488, 'C', 'G'),\n",
       " (503, 'C', 'G'),\n",
       " (512, 'T', 'A'),\n",
       " (521, 'T', 'C'),\n",
       " (527, 'C', 'G'),\n",
       " (530, 'T', 'A'),\n",
       " (533, 'T', 'C'),\n",
       " (539, 'C', 'T'),\n",
       " (548, 'C', 'G'),\n",
       " (551, 'C', 'T'),\n",
       " (554, 'C', 'T'),\n",
       " (557, 'C', 'G'),\n",
       " (560, 'C', 'A'),\n",
       " (569, 'C', 'T'),\n",
       " (570, 'T', 'A'),\n",
       " (571, 'C', 'G'),\n",
       " (572, 'C', 'T'),\n",
       " (575, 'C', 'T'),\n",
       " (587, 'G', 'A'),\n",
       " (593, 'T', 'A'),\n",
       " (602, 'T', 'A'),\n",
       " (603, 'T', 'A'),\n",
       " (604, 'C', 'G'),\n",
       " (605, 'C', 'T'),\n",
       " (608, 'T', 'A'),\n",
       " (620, 'C', 'T'),\n",
       " (638, 'C', 'T'),\n",
       " (641, 'C', 'G'),\n",
       " (659, 'C', 'G'),\n",
       " (675, 'C', 'A'),\n",
       " (689, 'C', 'G'),\n",
       " (692, 'A', 'G'),\n",
       " (698, 'C', 'T'),\n",
       " (722, 'C', 'G'),\n",
       " (725, 'C', 'T'),\n",
       " (731, 'C', 'A'),\n",
       " (734, 'T', 'C'),\n",
       " (740, 'C', 'A'),\n",
       " (746, 'C', 'G'),\n",
       " (758, 'C', 'T'),\n",
       " (773, 'T', 'A'),\n",
       " (791, 'G', 'A'),\n",
       " (806, 'C', 'T'),\n",
       " (812, 'T', 'C'),\n",
       " (815, 'C', 'G'),\n",
       " (824, 'T', 'C'),\n",
       " (833, 'C', 'T'),\n",
       " (854, 'C', 'G'),\n",
       " (857, 'C', 'G'),\n",
       " (866, 'C', 'T'),\n",
       " (869, 'C', 'T'),\n",
       " (878, 'C', 'T'),\n",
       " (890, 'C', 'G'),\n",
       " (902, 'A', 'T'),\n",
       " (911, 'G', 'A'),\n",
       " (914, 'G', 'A'),\n",
       " (917, 'C', 'T'),\n",
       " (926, 'C', 'T'),\n",
       " (929, 'C', 'G'),\n",
       " (932, 'C', 'G'),\n",
       " (935, 'C', 'G'),\n",
       " (944, 'C', 'T'),\n",
       " (950, 'C', 'G'),\n",
       " (956, 'C', 'T'),\n",
       " (959, 'C', 'A'),\n",
       " (965, 'C', 'A'),\n",
       " (968, 'C', 'G'),\n",
       " (971, 'C', 'A'),\n",
       " (974, 'C', 'A'),\n",
       " (989, 'C', 'T'),\n",
       " (992, 'C', 'G'),\n",
       " (995, 'C', 'A'),\n",
       " (998, 'C', 'T'),\n",
       " (1001, 'C', 'G'),\n",
       " (1010, 'C', 'T'),\n",
       " (1022, 'G', 'A'),\n",
       " (1040, 'C', 'G'),\n",
       " (1046, 'C', 'T'),\n",
       " (1049, 'C', 'G'),\n",
       " (1061, 'C', 'G'),\n",
       " (1064, 'G', 'A'),\n",
       " (1067, 'T', 'A'),\n",
       " (1079, 'T', 'C'),\n",
       " (1080, 'T', 'A'),\n",
       " (1081, 'C', 'G'),\n",
       " (1091, 'T', 'C'),\n",
       " (1103, 'C', 'G'),\n",
       " (1106, 'T', 'C'),\n",
       " (1109, 'C', 'T'),\n",
       " (1115, 'C', 'T'),\n",
       " (1121, 'C', 'G'),\n",
       " (1124, 'C', 'G'),\n",
       " (1128, 'C', 'T'),\n",
       " (1130, 'C', 'G'),\n",
       " (1133, 'T', 'A'),\n",
       " (1142, 'C', 'T'),\n",
       " (1154, 'C', 'G'),\n",
       " (1157, 'C', 'G'),\n",
       " (1160, 'C', 'G'),\n",
       " (1163, 'C', 'A'),\n",
       " (1166, 'T', 'C'),\n",
       " (1169, 'C', 'A'),\n",
       " (1181, 'C', 'G'),\n",
       " (1184, 'C', 'G'),\n",
       " (1187, 'C', 'G'),\n",
       " (1202, 'C', 'T'),\n",
       " (1205, 'C', 'T'),\n",
       " (1214, 'T', 'A'),\n",
       " (1229, 'C', 'A'),\n",
       " (1232, 'T', 'C'),\n",
       " (1235, 'C', 'T'),\n",
       " (1238, 'C', 'T'),\n",
       " (1250, 'C', 'T'),\n",
       " (1262, 'C', 'G'),\n",
       " (1268, 'C', 'T'),\n",
       " (1277, 'C', 'A'),\n",
       " (1295, 'C', 'G'),\n",
       " (1298, 'C', 'T'),\n",
       " (1301, 'C', 'A'),\n",
       " (1310, 'C', 'T'),\n",
       " (1316, 'C', 'G'),\n",
       " (1319, 'C', 'G'),\n",
       " (1325, 'C', 'T'),\n",
       " (1328, 'C', 'A'),\n",
       " (1331, 'T', 'C'),\n",
       " (1337, 'C', 'T'),\n",
       " (1341, 'T', 'A'),\n",
       " (1342, 'C', 'G'),\n",
       " (1343, 'C', 'T'),\n",
       " (1355, 'C', 'T'),\n",
       " (1358, 'C', 'A'),\n",
       " (1367, 'T', 'C'),\n",
       " (1382, 'T', 'C'),\n",
       " (1400, 'C', 'T'),\n",
       " (1406, 'T', 'C'),\n",
       " (1424, 'A', 'G'),\n",
       " (1430, 'T', 'A'),\n",
       " (1442, 'A', 'G'),\n",
       " (1445, 'C', 'A'),\n",
       " (1448, 'C', 'T'),\n",
       " (1451, 'C', 'A'),\n",
       " (1460, 'C', 'T'),\n",
       " (1472, 'C', 'A'),\n",
       " (1481, 'C', 'G'),\n",
       " (1484, 'C', 'G'),\n",
       " (1487, 'T', 'C'),\n",
       " (1490, 'C', 'T'),\n",
       " (1499, 'C', 'T'),\n",
       " (1502, 'C', 'G'),\n",
       " (1511, 'T', 'A'),\n",
       " (1514, 'T', 'A'),\n",
       " (1523, 'G', 'A'),\n",
       " (1544, 'G', 'A'),\n",
       " (1559, 'C', 'G'),\n",
       " (1562, 'T', 'C'),\n",
       " (1568, 'C', 'G'),\n",
       " (1571, 'C', 'G'),\n",
       " (1574, 'C', 'G'),\n",
       " (1580, 'C', 'T'),\n",
       " (1583, 'C', 'A'),\n",
       " (1592, 'T', 'C'),\n",
       " (1604, 'C', 'A'),\n",
       " (1607, 'C', 'T'),\n",
       " (1610, 'C', 'A'),\n",
       " (1613, 'C', 'G'),\n",
       " (1616, 'C', 'A'),\n",
       " (1619, 'T', 'C'),\n",
       " (1622, 'C', 'T'),\n",
       " (1631, 'C', 'A'),\n",
       " (1635, 'T', 'A'),\n",
       " (1636, 'C', 'G'),\n",
       " (1655, 'C', 'G'),\n",
       " (1688, 'C', 'T'),\n",
       " (1691, 'C', 'T'),\n",
       " (1694, 'G', 'A'),\n",
       " (1700, 'C', 'G'),\n",
       " (1706, 'C', 'G'),\n",
       " (1721, 'G', 'A'),\n",
       " (1728, 'C', 'A'),\n",
       " (1733, 'G', 'A'),\n",
       " (1736, 'C', 'T'),\n",
       " (1751, 'C', 'T'),\n",
       " (1760, 'C', 'A'),\n",
       " (1769, 'C', 'T')]"
      ]
     },
     "execution_count": 35,
     "metadata": {},
     "output_type": "execute_result"
    }
   ],
   "source": [
    "compare_dna_sequences(dna_sequence, reference_dna)"
   ]
  },
  {
   "cell_type": "markdown",
   "metadata": {},
   "source": [
    "DUMB you need to verify it by translating it into amino acids again and comparing the sequences:"
   ]
  },
  {
   "cell_type": "code",
   "execution_count": 36,
   "metadata": {},
   "outputs": [],
   "source": [
    "def translate_dna_to_aa(dna_sequence):\n",
    "    \"\"\"\n",
    "    Translate a DNA sequence to an amino acid sequence.\n",
    "\n",
    "    Args:\n",
    "        dna_sequence (str): The input DNA sequence.\n",
    "\n",
    "    Returns:\n",
    "        str: The corresponding amino acid sequence.\n",
    "    \"\"\"\n",
    "    # Define a translation table for codons to amino acids\n",
    "    translation_table = {\n",
    "        'TTT': 'F', 'TTC': 'F', 'TTA': 'L', 'TTG': 'L',\n",
    "        'TCT': 'S', 'TCC': 'S', 'TCA': 'S', 'TCG': 'S',\n",
    "        'TAT': 'Y', 'TAC': 'Y', 'TAA': '*', 'TAG': '*',\n",
    "        'TGT': 'C', 'TGC': 'C', 'TGA': '*', 'TGG': 'W',\n",
    "        'CTT': 'L', 'CTC': 'L', 'CTA': 'L', 'CTG': 'L',\n",
    "        'CCT': 'P', 'CCC': 'P', 'CCA': 'P', 'CCG': 'P',\n",
    "        'CAT': 'H', 'CAC': 'H', 'CAA': 'Q', 'CAG': 'Q',\n",
    "        'CGT': 'R', 'CGC': 'R', 'CGA': 'R', 'CGG': 'R',\n",
    "        'ATT': 'I', 'ATC': 'I', 'ATA': 'I', 'ATG': 'M',\n",
    "        'ACT': 'T', 'ACC': 'T', 'ACA': 'T', 'ACG': 'T',\n",
    "        'AAT': 'N', 'AAC': 'N', 'AAA': 'K', 'AAG': 'K',\n",
    "        'AGT': 'S', 'AGC': 'S', 'AGA': 'R', 'AGG': 'R',\n",
    "        'GTT': 'V', 'GTC': 'V', 'GTA': 'V', 'GTG': 'V',\n",
    "        'GCT': 'A', 'GCC': 'A', 'GCA': 'A', 'GCG': 'A',\n",
    "        'GAT': 'D', 'GAC': 'D', 'GAA': 'E', 'GAG': 'E',\n",
    "        'GGT': 'G', 'GGC': 'G', 'GGA': 'G', 'GGG': 'G',\n",
    "    }\n",
    "\n",
    "    # Initialize the amino acid sequence\n",
    "    aa_sequence = \"\"\n",
    "    \n",
    "    # Iterate over the DNA sequence in triplets (codons)\n",
    "    for i in range(0, len(dna_sequence), 3):\n",
    "        codon = dna_sequence[i:i+3]\n",
    "        aa = translation_table.get(codon)\n",
    "        if aa:\n",
    "            aa_sequence += aa\n",
    "        else:\n",
    "            # Handle unknown codons or gaps as needed\n",
    "            raise ValueError(f\"Unknown codon: {codon}\")\n",
    "\n",
    "    return aa_sequence"
   ]
  },
  {
   "cell_type": "code",
   "execution_count": 37,
   "metadata": {},
   "outputs": [
    {
     "name": "stdout",
     "output_type": "stream",
     "text": [
      "MAHDSELELSDEKVVPSINQEKHSFFQRHLDNHPRMAQYNSQLQRFLKWIEVPTKEGEINTFLNNEDLKPVEVARQTWGWKNFVSFWIADSFNINTWEIAATGIQLGLTWWQVWLCVWIGYFFCGVFVVLSGRIGAIYHVSFPVAGRSTFGIFGSIWPVINRVVMACVWYGVQGWLGGQCIQVCLLAIWPSARHMKNGIPGSGTTTFEFLSYFLFWLFSLPFIYIRPHNLRHLFMVKAAIVPVAGISFLVWTCVKAHGIGPIMKQPATVHGSVMGWAFMTAIMNSLSNFATIIVNAPDFTRFAKEPNAIVLSQLIAVPTAFSLTSFIGIIVSSSATVLYDENIWNPLDVLHKFLEGNKSGSRAGVFFLGFAFAVAQLGTNIAANSLSAGTDMTALLPKYINIRRGGFICAGIALCICPWHLLSSSSNFTTYLSAYATFLSAIAGCSFSDYYLVRKGYIYVGDLYNASKGSTYMYRYGVNWRAFAAYFCGIAINVVGFADAVSDGGVNETARKMYQLNFFLGFLVSAISYYGFNWLSPVVGARETWSEDPNASAMYDEITTDELSQDSQSYDPEEWDRKIANDDPVKTTAIIS\n"
     ]
    }
   ],
   "source": [
    "verify_sequence = translate_dna_to_aa(dna_sequence)\n",
    "print(verify_sequence) "
   ]
  },
  {
   "cell_type": "markdown",
   "metadata": {},
   "source": [
    "now we compare to see if there are mismatches:"
   ]
  },
  {
   "cell_type": "code",
   "execution_count": 38,
   "metadata": {},
   "outputs": [
    {
     "name": "stdout",
     "output_type": "stream",
     "text": [
      "The two amino acid sequences are identical.\n"
     ]
    }
   ],
   "source": [
    "def compare_aa_sequences(seq1, seq2):\n",
    "    \"\"\"\n",
    "    Compare two amino acid sequences and identify and indicate mismatches.\n",
    "\n",
    "    Args:\n",
    "        seq1 (str): The first amino acid sequence.\n",
    "        seq2 (str): The second amino acid sequence to compare.\n",
    "\n",
    "    Returns:\n",
    "        list: A list of tuples containing the position and the mismatched amino acids.\n",
    "    \"\"\"\n",
    "    mismatches = []\n",
    "    min_len = min(len(seq1), len(seq2))\n",
    "\n",
    "    for i in range(min_len):\n",
    "        if seq1[i] != seq2[i]:\n",
    "            mismatches.append((i, seq1[i], seq2[i]))\n",
    "\n",
    "    return mismatches\n",
    "\n",
    "# Example usage:\n",
    "input_aa_sequence1 = verify_sequence  \n",
    "input_aa_sequence2 =  my_prot  \n",
    "mismatches = compare_aa_sequences(input_aa_sequence1, input_aa_sequence2)\n",
    "\n",
    "if not mismatches:\n",
    "    print(\"The two amino acid sequences are identical.\")\n",
    "else:\n",
    "    print(\"Mismatches found:\")\n",
    "    for pos, aa1, aa2 in mismatches:\n",
    "        print(f\"Position {pos + 1}: {aa1} (expected) != {aa2} (actual)\")"
   ]
  },
  {
   "cell_type": "markdown",
   "metadata": {},
   "source": [
    "WORKS!"
   ]
  },
  {
   "cell_type": "markdown",
   "metadata": {},
   "source": [
    "Now only the highest frequency codons appear, and so have 100% frequency."
   ]
  },
  {
   "cell_type": "markdown",
   "metadata": {},
   "source": [
    "now let's try with the sequence that Jonathan gave me, although it is not in fasta format"
   ]
  },
  {
   "cell_type": "code",
   "execution_count": 39,
   "metadata": {},
   "outputs": [],
   "source": [
    "def calculate_gc_content(dna_sequence):\n",
    "    \"\"\"\n",
    "    Calculate the GC content (percentage of G and C bases) of a DNA sequence.\n",
    "\n",
    "    Args:\n",
    "        dna_sequence (str): The input DNA sequence.\n",
    "\n",
    "    Returns:\n",
    "        float: The GC content as a percentage.\n",
    "    \"\"\"\n",
    "    if len(dna_sequence) == 0:\n",
    "        return 0.0\n",
    "    \n",
    "    gc_count = dna_sequence.count('G') + dna_sequence.count('C')\n",
    "    total_bases = len(dna_sequence)\n",
    "    \n",
    "    gc_content = (gc_count / total_bases) * 100.0\n",
    "    return gc_content"
   ]
  },
  {
   "cell_type": "code",
   "execution_count": 40,
   "metadata": {},
   "outputs": [
    {
     "name": "stdout",
     "output_type": "stream",
     "text": [
      "61.03603603603604\n"
     ]
    }
   ],
   "source": [
    "gc_content = calculate_gc_content(dna_sequence)\n",
    "print(gc_content)"
   ]
  },
  {
   "cell_type": "code",
   "execution_count": 41,
   "metadata": {},
   "outputs": [
    {
     "name": "stdout",
     "output_type": "stream",
     "text": [
      "DNA sequence 2:\n",
      "ATGGCTCATGATTCTGAACTGGAACTGTCTGATGAAAAAGTTGTTCCTTCTATTAATCAAGAAAAACATTCTTTTTTTCAACGTCATCTGGATAATCATCCTCGTATGGCTCAATATAATTCTCAACTGCAACGTTTTCTGAAATGGATTGAAGTTCCTACTAAAGAAGGCGAAATTAATACTTTTCTGAATAATGAAGATCTGAAACCTGTTGAAGTTGCTCGTCAAACTTGGGGCTGGAAAAATTTTGTTTCTTTTTGGATTGCTGATTCTTTTAATATTAATACTTGGGAAATTGCTGCTACTGGCATTCAACTGGGCCTGACTTGGTGGCAAGTTTGGCTGTGTGTTTGGATTGGCTATTTTTTTTGTGGCGTTTTTGTTGTTCTGTCTGGCCGTATTGGCGCTATTTATCATGTTTCTTTTCCTGTTGCTGGCCGTTCTACTTTTGGCATTTTTGGCTCTATTTGGCCTGTTATTAATCGTGTTGTTATGGCTTGTGTTTGGTATGGCGTTCAAGGCTGGCTGGGCGGCCAATGTATTCAAGTTTGTCTGCTGGCTATTTGGCCTTCTGCTCGTCATATGAAAAATGGCATTCCTGGCTCTGGCACTACTACTTTTGAATTTCTGTCTTATTTTCTGTTTTGGCTGTTTTCTCTGCCTTTTATTTATATTCGTCCTCATAATCTGCGTCATCTGTTTATGGTTAAAGCTGCTATTGTTCCTGTTGCTGGCATTTCTTTTCTGGTTTGGACTTGTGTTAAAGCTCATGGCATTGGCCCTATTATGAAACAACCTGCTACTGTTCATGGCTCTGTTATGGGCTGGGCTTTTATGACTGCTATTATGAATTCTCTGTCTAATTTTGCTACTATTATTGTTAATGCTCCTGATTTTACTCGTTTTGCTAAAGAACCTAATGCTATTGTTCTGTCTCAACTGATTGCTGTTCCTACTGCTTTTTCTCTGACTTCTTTTATTGGCATTATTGTTTCTTCTTCTGCTACTGTTCTGTATGATGAAAATATTTGGAATCCTCTGGATGTTCTGCATAAATTTCTGGAAGGCAATAAATCTGGCTCTCGTGCTGGCGTTTTTTTTCTGGGCTTTGCTTTTGCTGTTGCTCAACTGGGCACTAATATTGCTGCTAATTCTCTGTCTGCTGGCACTGATATGACTGCTCTGCTGCCTAAATATATTAATATTCGTCGTGGCGGCTTTATTTGTGCTGGCATTGCTCTGTGTATTTGTCCTTGGCATCTGCTGTCTTCTTCTTCTAATTTTACTACTTATCTGTCTGCTTATGCTACTTTTCTGTCTGCTATTGCTGGCTGTTCTTTTTCTGATTATTATCTGGTTCGTAAAGGCTATATTTATGTTGGCGATCTGTATAATGCTTCTAAAGGCTCTACTTATATGTATCGTTATGGCGTTAATTGGCGTGCTTTTGCTGCTTATTTTTGTGGCATTGCTATTAATGTTGTTGGCTTTGCTGATGCTGTTTCTGATGGCGGCGTTAATGAAACTGCTCGTAAAATGTATCAACTGAATTTTTTTCTGGGCTTTCTGGTTTCTGCTATTTCTTATTATGGCTTTAATTGGCTGTCTCCTGTTGTTGGCGCTCGTGAAACTTGGTCTGAAGATCCTAATGCTTCTGCTATGTATGATGAAATTACTACTGATGAACTGTCTCAAGATTCTCAATCTTATGATCCTGAAGAATGGGATCGTAAAATTGCTAATGATGATCCTGTTAAAACTACTGCTATTATTTCT\n"
     ]
    }
   ],
   "source": [
    "import pandas as pd\n",
    "\n",
    "def translate_with_codon_table_restricted(aa_sequence, codon_table, forbidden_sequence):\n",
    "    \"\"\"\n",
    "    Translate an amino acid sequence to a DNA sequence using a codon preference table from an Excel sheet,\n",
    "    considering the highest-frequency codon for each amino acid, and using the second highest if the highest is forbidden.\n",
    "\n",
    "    Args:\n",
    "        aa_sequence (str): The input amino acid sequence.\n",
    "        codon_table (DataFrame): The DataFrame containing the codon preference table.\n",
    "        forbidden_sequence (str): The sequence that needs to be avoided.\n",
    "\n",
    "    Returns:\n",
    "        str: The corresponding DNA sequence.\n",
    "    \"\"\"\n",
    "    # Create a dictionary to store the highest and second highest frequency codons for each amino acid\n",
    "    codon_info = {}\n",
    "    \n",
    "    # Iterate over the DataFrame to find the highest and second highest frequency codons for each amino acid\n",
    "    for index, row in codon_table.iterrows():\n",
    "        amino_acid = row['Amino Acid']\n",
    "        codon = row['Codon']\n",
    "        frequency = row['Frequency']\n",
    "        \n",
    "        if amino_acid not in codon_info:\n",
    "            codon_info[amino_acid] = {'Highest': codon, 'Highest_Frequency': frequency, 'Second_Highest': None}\n",
    "        else:\n",
    "            if frequency > codon_info[amino_acid]['Highest_Frequency']:\n",
    "                codon_info[amino_acid]['Second_Highest'] = codon_info[amino_acid]['Highest']\n",
    "                codon_info[amino_acid]['Second_Highest_Frequency'] = codon_info[amino_acid]['Highest_Frequency']\n",
    "                codon_info[amino_acid]['Highest'] = codon\n",
    "                codon_info[amino_acid]['Highest_Frequency'] = frequency\n",
    "            elif codon_info[amino_acid]['Second_Highest'] is None or frequency > codon_info[amino_acid]['Second_Highest_Frequency']:\n",
    "                codon_info[amino_acid]['Second_Highest'] = codon\n",
    "                codon_info[amino_acid]['Second_Highest_Frequency'] = frequency\n",
    "\n",
    "    # Initialize the DNA sequence\n",
    "    dna_sequence = \"\"\n",
    "    \n",
    "    # Translate each amino acid to its corresponding highest-frequency codon, and if it's forbidden, use the second highest\n",
    "    for aa in aa_sequence:\n",
    "        highest_codon = codon_info[aa]['Highest']\n",
    "        second_highest_codon = codon_info[aa]['Second_Highest'] if codon_info[aa]['Second_Highest'] is not None else codon_info[aa]['Highest']\n",
    "        \n",
    "        if aa_sequence.startswith(highest_codon) and not dna_sequence.endswith(forbidden_sequence):\n",
    "            dna_sequence += highest_codon\n",
    "        else:\n",
    "            dna_sequence += second_highest_codon\n",
    "\n",
    "    return dna_sequence\n",
    "\n",
    "# Example usage:\n",
    "forbidden_seq = \"AGCTAA\"  # Replace with your forbidden sequence\n",
    "dna_sequence_2 = translate_with_codon_table_restricted(my_prot, codon_table, forbidden_seq)\n",
    "print(\"DNA sequence 2:\")\n",
    "print(dna_sequence_2)\n"
   ]
  },
  {
   "cell_type": "code",
   "execution_count": 42,
   "metadata": {},
   "outputs": [
    {
     "name": "stdout",
     "output_type": "stream",
     "text": [
      "38.457207207207205\n"
     ]
    }
   ],
   "source": [
    "gc_content = calculate_gc_content(dna_sequence_2)\n",
    "print(gc_content)"
   ]
  },
  {
   "cell_type": "code",
   "execution_count": 43,
   "metadata": {},
   "outputs": [
    {
     "name": "stdout",
     "output_type": "stream",
     "text": [
      "[(5, 'C', 'T'), (8, 'C', 'T'), (11, 'C', 'T'), (14, 'C', 'T'), (17, 'G', 'A'), (20, 'C', 'G'), (23, 'G', 'A'), (26, 'C', 'G'), (29, 'C', 'T'), (32, 'C', 'T'), (35, 'G', 'A'), (38, 'G', 'A'), (41, 'C', 'T'), (44, 'C', 'T'), (47, 'C', 'T'), (50, 'C', 'T'), (53, 'C', 'T'), (56, 'C', 'T'), (59, 'G', 'A'), (62, 'G', 'A'), (65, 'G', 'A'), (68, 'C', 'T'), (71, 'C', 'T'), (74, 'C', 'T'), (77, 'C', 'T'), (80, 'G', 'A'), (83, 'A', 'T'), (86, 'C', 'T'), (89, 'C', 'G'), (92, 'C', 'T'), (95, 'C', 'T'), (98, 'C', 'T'), (101, 'C', 'T'), (104, 'A', 'T'), (110, 'C', 'T'), (113, 'G', 'A'), (116, 'C', 'T'), (119, 'C', 'T'), (122, 'C', 'T'), (125, 'G', 'A'), (128, 'C', 'G'), (131, 'G', 'A'), (134, 'A', 'T'), (137, 'C', 'T'), (140, 'C', 'G'), (143, 'G', 'A'), (149, 'C', 'T'), (152, 'G', 'A'), (155, 'C', 'T'), (158, 'C', 'T'), (161, 'C', 'T'), (164, 'G', 'A'), (167, 'G', 'A'), (170, 'T', 'C'), (173, 'G', 'A'), (176, 'C', 'T'), (179, 'C', 'T'), (182, 'C', 'T'), (185, 'C', 'T'), (188, 'C', 'G'), (191, 'C', 'T'), (194, 'C', 'T'), (197, 'G', 'A'), (200, 'C', 'T'), (203, 'C', 'G'), (206, 'G', 'A'), (209, 'C', 'T'), (212, 'C', 'T'), (215, 'G', 'A'), (218, 'C', 'T'), (221, 'C', 'T'), (224, 'A', 'T'), (227, 'G', 'A'), (230, 'C', 'T'), (236, 'T', 'C'), (242, 'G', 'A'), (245, 'C', 'T'), (248, 'C', 'T'), (251, 'C', 'T'), (254, 'C', 'T'), (257, 'C', 'T'), (263, 'C', 'T'), (266, 'C', 'T'), (269, 'C', 'T'), (272, 'C', 'T'), (275, 'C', 'T'), (278, 'C', 'T'), (281, 'C', 'T'), (284, 'C', 'T'), (287, 'C', 'T'), (293, 'G', 'A'), (296, 'C', 'T'), (299, 'C', 'T'), (302, 'C', 'T'), (305, 'C', 'T'), (308, 'T', 'C'), (311, 'C', 'T'), (314, 'G', 'A'), (317, 'C', 'G'), (320, 'T', 'C'), (323, 'C', 'G'), (326, 'C', 'T'), (335, 'G', 'A'), (338, 'C', 'T'), (344, 'C', 'G'), (347, 'C', 'T'), (350, 'C', 'T'), (356, 'C', 'T'), (359, 'T', 'C'), (362, 'C', 'T'), (365, 'C', 'T'), (368, 'C', 'T'), (371, 'C', 'T'), (374, 'T', 'C'), (377, 'C', 'T'), (380, 'C', 'T'), (383, 'C', 'T'), (386, 'C', 'T'), (389, 'C', 'G'), (392, 'C', 'T'), (395, 'T', 'C'), (398, 'A', 'T'), (401, 'C', 'T'), (404, 'T', 'C'), (407, 'C', 'T'), (410, 'C', 'T'), (413, 'C', 'T'), (416, 'C', 'T'), (419, 'C', 'T'), (422, 'C', 'T'), (425, 'C', 'T'), (428, 'C', 'T'), (431, 'C', 'T'), (434, 'C', 'T'), (437, 'T', 'C'), (440, 'A', 'T'), (443, 'C', 'T'), (446, 'C', 'T'), (449, 'C', 'T'), (452, 'T', 'C'), (455, 'C', 'T'), (458, 'C', 'T'), (461, 'T', 'C'), (464, 'C', 'T'), (467, 'C', 'T'), (473, 'C', 'T'), (476, 'C', 'T'), (479, 'C', 'T'), (482, 'C', 'T'), (485, 'A', 'T'), (488, 'C', 'T'), (491, 'C', 'T'), (497, 'C', 'T'), (500, 'C', 'T'), (503, 'C', 'T'), (509, 'C', 'T'), (512, 'T', 'C'), (515, 'C', 'T'), (518, 'G', 'A'), (521, 'T', 'C'), (527, 'C', 'G'), (530, 'T', 'C'), (533, 'T', 'C'), (536, 'G', 'A'), (539, 'C', 'T'), (542, 'C', 'T'), (545, 'G', 'A'), (548, 'C', 'T'), (551, 'C', 'T'), (554, 'C', 'G'), (557, 'C', 'G'), (560, 'C', 'T'), (563, 'C', 'T'), (569, 'C', 'T'), (572, 'C', 'T'), (575, 'C', 'T'), (578, 'A', 'T'), (581, 'C', 'T'), (587, 'G', 'A'), (590, 'C', 'T'), (593, 'T', 'C'), (596, 'C', 'T'), (599, 'C', 'T'), (602, 'T', 'C'), (605, 'C', 'T'), (608, 'T', 'C'), (611, 'C', 'T'), (614, 'C', 'T'), (617, 'C', 'T'), (620, 'C', 'T'), (623, 'G', 'A'), (626, 'C', 'T'), (629, 'C', 'G'), (632, 'C', 'T'), (635, 'C', 'T'), (638, 'C', 'T'), (641, 'C', 'G'), (644, 'C', 'T'), (650, 'C', 'G'), (653, 'C', 'T'), (656, 'C', 'T'), (659, 'C', 'G'), (662, 'C', 'T'), (665, 'C', 'T'), (668, 'C', 'T'), (671, 'C', 'T'), (674, 'C', 'T'), (677, 'A', 'T'), (680, 'C', 'T'), (683, 'C', 'T'), (686, 'C', 'T'), (689, 'C', 'G'), (692, 'A', 'T'), (695, 'C', 'T'), (698, 'C', 'G'), (701, 'C', 'T'), (707, 'C', 'T'), (710, 'G', 'A'), (713, 'C', 'T'), (716, 'C', 'T'), (719, 'C', 'T'), (722, 'C', 'T'), (725, 'C', 'T'), (728, 'C', 'T'), (731, 'C', 'T'), (734, 'T', 'C'), (737, 'C', 'T'), (740, 'C', 'T'), (743, 'C', 'T'), (746, 'C', 'G'), (749, 'C', 'T'), (755, 'C', 'T'), (758, 'C', 'T'), (761, 'C', 'T'), (764, 'G', 'A'), (767, 'C', 'T'), (770, 'C', 'T'), (773, 'T', 'C'), (776, 'C', 'T'), (779, 'T', 'C'), (782, 'C', 'T'), (785, 'C', 'T'), (791, 'G', 'A'), (794, 'G', 'A'), (797, 'C', 'T'), (800, 'C', 'T'), (803, 'C', 'T'), (806, 'C', 'T'), (809, 'C', 'T'), (812, 'T', 'C'), (815, 'C', 'T'), (818, 'C', 'T'), (824, 'T', 'C'), (830, 'C', 'T'), (833, 'C', 'T'), (839, 'C', 'T'), (842, 'C', 'T'), (845, 'C', 'T'), (851, 'C', 'T'), (854, 'C', 'T'), (857, 'C', 'G'), (860, 'C', 'T'), (863, 'C', 'T'), (866, 'C', 'T'), (869, 'C', 'T'), (872, 'C', 'T'), (875, 'C', 'T'), (878, 'C', 'T'), (881, 'C', 'T'), (884, 'C', 'T'), (887, 'C', 'T'), (890, 'C', 'T'), (893, 'C', 'T'), (896, 'C', 'T'), (899, 'C', 'T'), (902, 'A', 'T'), (905, 'C', 'T'), (908, 'C', 'T'), (911, 'G', 'A'), (914, 'G', 'A'), (917, 'C', 'T'), (920, 'C', 'T'), (923, 'C', 'T'), (926, 'C', 'T'), (929, 'C', 'T'), (932, 'C', 'G'), (935, 'C', 'T'), (938, 'G', 'A'), (941, 'C', 'G'), (944, 'C', 'T'), (947, 'C', 'T'), (950, 'C', 'T'), (953, 'C', 'T'), (956, 'C', 'T'), (959, 'C', 'T'), (962, 'C', 'T'), (965, 'C', 'T'), (968, 'C', 'G'), (971, 'C', 'T'), (974, 'C', 'T'), (977, 'C', 'T'), (980, 'C', 'T'), (983, 'T', 'C'), (986, 'C', 'T'), (989, 'C', 'T'), (992, 'C', 'T'), (995, 'C', 'T'), (998, 'C', 'T'), (1001, 'C', 'T'), (1004, 'C', 'T'), (1007, 'C', 'T'), (1010, 'C', 'T'), (1013, 'C', 'G'), (1016, 'C', 'T'), (1019, 'C', 'T'), (1022, 'G', 'A'), (1025, 'C', 'T'), (1028, 'C', 'T'), (1034, 'C', 'T'), (1037, 'C', 'T'), (1040, 'C', 'G'), (1043, 'C', 'T'), (1046, 'C', 'T'), (1049, 'C', 'G'), (1052, 'C', 'T'), (1055, 'G', 'A'), (1058, 'C', 'T'), (1061, 'C', 'G'), (1064, 'G', 'A'), (1067, 'T', 'C'), (1070, 'C', 'T'), (1073, 'G', 'A'), (1076, 'C', 'T'), (1079, 'T', 'C'), (1082, 'C', 'T'), (1085, 'A', 'T'), (1088, 'C', 'T'), (1091, 'T', 'C'), (1094, 'C', 'T'), (1097, 'C', 'T'), (1100, 'C', 'T'), (1103, 'C', 'G'), (1106, 'T', 'C'), (1109, 'C', 'T'), (1112, 'C', 'T'), (1115, 'C', 'T'), (1118, 'C', 'T'), (1121, 'C', 'T'), (1124, 'C', 'T'), (1127, 'G', 'A'), (1130, 'C', 'G'), (1133, 'T', 'C'), (1136, 'C', 'T'), (1139, 'C', 'T'), (1142, 'C', 'T'), (1145, 'C', 'T'), (1148, 'C', 'T'), (1151, 'C', 'T'), (1154, 'C', 'T'), (1157, 'C', 'G'), (1160, 'C', 'T'), (1163, 'C', 'T'), (1166, 'T', 'C'), (1169, 'C', 'T'), (1172, 'C', 'T'), (1178, 'C', 'T'), (1181, 'C', 'T'), (1184, 'C', 'G'), (1187, 'C', 'G'), (1190, 'C', 'T'), (1193, 'G', 'A'), (1196, 'C', 'T'), (1199, 'C', 'T'), (1202, 'C', 'T'), (1205, 'C', 'T'), (1208, 'A', 'T'), (1211, 'A', 'T'), (1214, 'T', 'C'), (1217, 'T', 'C'), (1220, 'C', 'T'), (1223, 'C', 'T'), (1226, 'C', 'T'), (1229, 'C', 'T'), (1232, 'T', 'C'), (1235, 'C', 'T'), (1238, 'C', 'T'), (1241, 'C', 'G'), (1244, 'C', 'T'), (1247, 'C', 'T'), (1250, 'C', 'T'), (1253, 'C', 'T'), (1259, 'C', 'T'), (1262, 'C', 'G'), (1265, 'C', 'G'), (1268, 'C', 'T'), (1271, 'C', 'T'), (1274, 'C', 'T'), (1277, 'C', 'T'), (1280, 'C', 'T'), (1283, 'C', 'T'), (1286, 'C', 'T'), (1289, 'C', 'T'), (1292, 'C', 'T'), (1295, 'C', 'G'), (1298, 'C', 'T'), (1301, 'C', 'T'), (1304, 'C', 'T'), (1307, 'C', 'T'), (1310, 'C', 'T'), (1313, 'C', 'T'), (1316, 'C', 'G'), (1319, 'C', 'T'), (1322, 'C', 'T'), (1325, 'C', 'T'), (1328, 'C', 'T'), (1331, 'T', 'C'), (1334, 'C', 'T'), (1337, 'C', 'T'), (1340, 'C', 'T'), (1343, 'C', 'T'), (1346, 'C', 'T'), (1349, 'C', 'T'), (1352, 'C', 'T'), (1355, 'C', 'G'), (1358, 'C', 'T'), (1361, 'A', 'T'), (1364, 'G', 'A'), (1367, 'T', 'C'), (1370, 'C', 'T'), (1373, 'C', 'T'), (1376, 'C', 'T'), (1379, 'C', 'T'), (1382, 'T', 'C'), (1385, 'C', 'T'), (1388, 'C', 'G'), (1391, 'C', 'T'), (1394, 'C', 'T'), (1397, 'C', 'T'), (1400, 'C', 'T'), (1403, 'G', 'A'), (1406, 'T', 'C'), (1409, 'C', 'T'), (1412, 'C', 'T'), (1415, 'C', 'T'), (1421, 'C', 'T'), (1424, 'A', 'T'), (1427, 'C', 'T'), (1430, 'T', 'C'), (1433, 'C', 'T'), (1436, 'C', 'T'), (1442, 'A', 'T'), (1445, 'C', 'T'), (1448, 'C', 'T'), (1451, 'C', 'T'), (1454, 'C', 'T'), (1457, 'C', 'T'), (1460, 'C', 'T'), (1463, 'C', 'T'), (1466, 'T', 'C'), (1469, 'C', 'T'), (1472, 'C', 'T'), (1475, 'C', 'T'), (1478, 'C', 'T'), (1481, 'C', 'T'), (1484, 'C', 'T'), (1487, 'T', 'C'), (1490, 'C', 'T'), (1493, 'C', 'T'), (1496, 'C', 'T'), (1499, 'C', 'T'), (1502, 'C', 'T'), (1505, 'C', 'T'), (1508, 'C', 'T'), (1511, 'T', 'C'), (1514, 'T', 'C'), (1517, 'C', 'T'), (1520, 'C', 'T'), (1523, 'G', 'A'), (1526, 'C', 'T'), (1529, 'C', 'T'), (1532, 'A', 'T'), (1535, 'G', 'A'), (1541, 'C', 'T'), (1544, 'G', 'A'), (1547, 'C', 'G'), (1550, 'C', 'T'), (1553, 'C', 'T'), (1556, 'C', 'T'), (1559, 'C', 'G'), (1562, 'T', 'C'), (1565, 'C', 'T'), (1568, 'C', 'G'), (1571, 'C', 'T'), (1574, 'C', 'T'), (1577, 'C', 'T'), (1580, 'C', 'T'), (1583, 'C', 'T'), (1586, 'C', 'T'), (1589, 'C', 'T'), (1592, 'T', 'C'), (1595, 'C', 'T'), (1598, 'C', 'T'), (1604, 'C', 'G'), (1607, 'C', 'T'), (1610, 'C', 'T'), (1613, 'C', 'T'), (1616, 'C', 'T'), (1619, 'T', 'C'), (1622, 'C', 'T'), (1625, 'A', 'T'), (1628, 'G', 'A'), (1631, 'C', 'T'), (1637, 'C', 'T'), (1640, 'G', 'A'), (1643, 'C', 'T'), (1646, 'C', 'T'), (1649, 'C', 'T'), (1652, 'C', 'T'), (1655, 'C', 'T'), (1658, 'C', 'T'), (1664, 'C', 'T'), (1667, 'C', 'T'), (1670, 'G', 'A'), (1673, 'C', 'T'), (1676, 'C', 'T'), (1679, 'C', 'T'), (1682, 'C', 'T'), (1685, 'G', 'A'), (1688, 'C', 'G'), (1691, 'C', 'T'), (1694, 'G', 'A'), (1697, 'C', 'T'), (1700, 'C', 'T'), (1703, 'G', 'A'), (1706, 'C', 'T'), (1709, 'C', 'T'), (1712, 'C', 'T'), (1715, 'C', 'T'), (1718, 'G', 'A'), (1721, 'G', 'A'), (1727, 'C', 'T'), (1730, 'A', 'T'), (1733, 'G', 'A'), (1736, 'C', 'T'), (1739, 'C', 'T'), (1742, 'C', 'T'), (1745, 'C', 'T'), (1748, 'C', 'T'), (1751, 'C', 'T'), (1754, 'C', 'T'), (1757, 'G', 'A'), (1760, 'C', 'T'), (1763, 'C', 'T'), (1766, 'C', 'T'), (1769, 'C', 'T'), (1772, 'C', 'T'), (1775, 'C', 'T')]\n"
     ]
    }
   ],
   "source": [
    "mismatches = compare_aa_sequences(dna_sequence, dna_sequence_2)\n",
    "print(mismatches)"
   ]
  },
  {
   "cell_type": "code",
   "execution_count": 44,
   "metadata": {},
   "outputs": [
    {
     "name": "stdout",
     "output_type": "stream",
     "text": [
      "Amino Acid: M\n",
      "  Codon: ATG, Frequency Percentage: 100.00%\n",
      "Amino Acid: A\n",
      "  Codon: GCT, Frequency Percentage: 100.00%\n",
      "Amino Acid: H\n",
      "  Codon: CAT, Frequency Percentage: 100.00%\n",
      "Amino Acid: D\n",
      "  Codon: GAT, Frequency Percentage: 100.00%\n",
      "Amino Acid: S\n",
      "  Codon: TCT, Frequency Percentage: 100.00%\n",
      "Amino Acid: E\n",
      "  Codon: GAA, Frequency Percentage: 100.00%\n",
      "Amino Acid: L\n",
      "  Codon: CTG, Frequency Percentage: 100.00%\n",
      "Amino Acid: K\n",
      "  Codon: AAA, Frequency Percentage: 100.00%\n",
      "Amino Acid: V\n",
      "  Codon: GTT, Frequency Percentage: 100.00%\n",
      "Amino Acid: P\n",
      "  Codon: CCT, Frequency Percentage: 100.00%\n",
      "Amino Acid: I\n",
      "  Codon: ATT, Frequency Percentage: 100.00%\n",
      "Amino Acid: N\n",
      "  Codon: AAT, Frequency Percentage: 100.00%\n",
      "Amino Acid: Q\n",
      "  Codon: CAA, Frequency Percentage: 100.00%\n",
      "Amino Acid: F\n",
      "  Codon: TTT, Frequency Percentage: 100.00%\n",
      "Amino Acid: R\n",
      "  Codon: CGT, Frequency Percentage: 100.00%\n",
      "Amino Acid: Y\n",
      "  Codon: TAT, Frequency Percentage: 100.00%\n",
      "Amino Acid: W\n",
      "  Codon: TGG, Frequency Percentage: 100.00%\n",
      "Amino Acid: T\n",
      "  Codon: ACT, Frequency Percentage: 100.00%\n",
      "Amino Acid: G\n",
      "  Codon: GGC, Frequency Percentage: 100.00%\n",
      "Amino Acid: C\n",
      "  Codon: TGT, Frequency Percentage: 100.00%\n"
     ]
    }
   ],
   "source": [
    "import pandas as pd\n",
    "from collections import defaultdict\n",
    "\n",
    "def calculate_codon_frequencies_as_percentages(dna_sequence, codon_table):\n",
    "    \"\"\"\n",
    "    Calculate the frequency of each codon used in a DNA sequence for each amino acid as percentages relative to the total frequency.\n",
    "\n",
    "    Args:\n",
    "        dna_sequence (str): The DNA sequence.\n",
    "        codon_table (DataFrame): The DataFrame containing the codon preference table.\n",
    "\n",
    "    Returns:\n",
    "        dict: A dictionary where keys are amino acids and values are dictionaries containing codon frequencies as percentages.\n",
    "    \"\"\"\n",
    "    # Create a dictionary to store codon frequencies for each amino acid\n",
    "    codon_frequencies = defaultdict(dict)\n",
    "    \n",
    "    # Create a dictionary to store the total frequency for each amino acid\n",
    "    total_frequencies = defaultdict(int)\n",
    "    \n",
    "    # Iterate over the DNA sequence in steps of 3 to extract codons\n",
    "    for i in range(0, len(dna_sequence), 3):\n",
    "        codon = dna_sequence[i:i+3]\n",
    "        \n",
    "        # Find the corresponding amino acid for the codon in the codon table\n",
    "        amino_acid = codon_table[codon_table['Codon'] == codon]['Amino Acid'].values[0]\n",
    "        \n",
    "        # Update the codon frequencies for the amino acid\n",
    "        if amino_acid in codon_frequencies:\n",
    "            if codon in codon_frequencies[amino_acid]:\n",
    "                codon_frequencies[amino_acid][codon] += 1\n",
    "            else:\n",
    "                codon_frequencies[amino_acid][codon] = 1\n",
    "        else:\n",
    "            codon_frequencies[amino_acid] = {codon: 1}\n",
    "        \n",
    "        # Update the total frequency for the amino acid\n",
    "        total_frequencies[amino_acid] += 1\n",
    "    \n",
    "    # Calculate frequencies as percentages\n",
    "    codon_frequencies_percentages = {}\n",
    "    for amino_acid, frequencies in codon_frequencies.items():\n",
    "        total_frequency = total_frequencies[amino_acid]\n",
    "        percentages = {codon: (count / total_frequency) * 100 for codon, count in frequencies.items()}\n",
    "        codon_frequencies_percentages[amino_acid] = percentages\n",
    "    \n",
    "    return codon_frequencies_percentages\n",
    "\n",
    "# Example usage:\n",
    "\n",
    "codon_frequencies_percentages = calculate_codon_frequencies_as_percentages(dna_sequence_2, codon_table)\n",
    "\n",
    "# Print codon frequencies as percentages for each amino acid\n",
    "for amino_acid, percentages in codon_frequencies_percentages.items():\n",
    "    print(f\"Amino Acid: {amino_acid}\")\n",
    "    for codon, percentage in percentages.items():\n",
    "        print(f\"  Codon: {codon}, Frequency Percentage: {percentage:.2f}%\")\n"
   ]
  },
  {
   "attachments": {},
   "cell_type": "markdown",
   "metadata": {},
   "source": [
    "\n",
    "The table contains three columns:\n",
    "\n",
    "Amino acid: The amino acid encoded by a given codon (“-“ is for stop codon)\n",
    "\n",
    "Codon: The codon in question\n",
    "\n",
    "Frequency: The frequency of a given codon when a specific AA in encoded. \n",
    "\n",
    "(If the following is too confusing/complicated then just get started with the other things first, and then get back to this later.)\n",
    "\n",
    "For example alanine (A), can be encoded by 4 codons (GCA, GCC, GCG, GCT). GCC and GCT occur frequently (59% and 38%), whereas GCA and GCG are very rarely used (2% and 1%). So we can see that Yarrowia has a preference GCC and GCT in regards to alanine.\n",
    "Biologically speaking this also correlates with the number of tRNA genes Yarrowia has for a given codon.\n",
    "\n",
    "When doing codon optimization, we don’t want to use the rare codons at all, and we would like to frequent codons to be selected according to their occurrence by using a random number generator.\n",
    "\n",
    "I would remove the rare codons, and recalculate the frequency for the common codons. You can then proceed in slightly different ways, but you could assign the codons values from 0-100 based on their frequency.\n",
    "\n",
    "In the case of alanine it might look like this:\n",
    "After removing the rare codons, the new frequency is:\n",
    "            GCC = 60.9 %\n",
    "\n",
    "GCT = 39.1 %\n",
    "\n",
    "So lets assign GCC the values 0-60.9, and GCT 61.0-100.\n",
    "\n",
    "We input the sequence AAA, and iterate through it, randomizing a number from 0-100 each time.\n",
    "\n",
    "We might get the numbers 12, 89, and 35. This would then correspond to the sequence GCC + GCT + GCC."
   ]
  },
  {
   "cell_type": "code",
   "execution_count": 45,
   "metadata": {},
   "outputs": [],
   "source": [
    "def find_second_highest_codon(codon_table):\n",
    "    \"\"\"\n",
    "    Find the second-highest frequency codon for each amino acid in the codon preference table.\n",
    "\n",
    "    Args:\n",
    "        codon_table (DataFrame): The DataFrame containing the codon preference table.\n",
    "\n",
    "    Returns:\n",
    "        dict: A dictionary where keys are amino acids and values are the second-highest frequency codons.\n",
    "    \"\"\"\n",
    "    second_highest_codons = {}\n",
    "\n",
    "    # Group the codon table by amino acid and sort within each group by frequency\n",
    "    grouped = codon_table.groupby('Amino Acid')\n",
    "    \n",
    "    for amino_acid, group in grouped:\n",
    "        sorted_group = group.sort_values(by='Frequency', ascending=False)\n",
    "        codons = sorted_group['Codon'].values\n",
    "        if len(codons) >= 2:\n",
    "            second_highest_codons[amino_acid] = codons[1]\n",
    "        else:\n",
    "            second_highest_codons[amino_acid] = \"This amino acid is only encoded by one codon\"\n",
    "\n",
    "    return second_highest_codons"
   ]
  },
  {
   "cell_type": "code",
   "execution_count": 46,
   "metadata": {},
   "outputs": [
    {
     "name": "stdout",
     "output_type": "stream",
     "text": [
      "{'-': 'TAG', 'A': 'GCT', 'C': 'TGT', 'D': 'GAT', 'E': 'GAA', 'F': 'TTT', 'G': 'GGC', 'H': 'CAT', 'I': 'ATT', 'K': 'AAA', 'L': 'CTG', 'M': 'This amino acid is only encoded by one codon', 'N': 'AAT', 'P': 'CCT', 'Q': 'CAA', 'R': 'CGT', 'S': 'TCT', 'T': 'ACT', 'V': 'GTT', 'W': 'This amino acid is only encoded by one codon', 'Y': 'TAT'}\n"
     ]
    }
   ],
   "source": [
    "second_highest_codons = find_second_highest_codon(codon_table)\n",
    "print(second_highest_codons)"
   ]
  },
  {
   "cell_type": "code",
   "execution_count": 47,
   "metadata": {},
   "outputs": [
    {
     "ename": "NameError",
     "evalue": "name 'sheet2' is not defined",
     "output_type": "error",
     "traceback": [
      "\u001b[1;31m---------------------------------------------------------------------------\u001b[0m",
      "\u001b[1;31mNameError\u001b[0m                                 Traceback (most recent call last)",
      "\u001b[1;32m~\\AppData\\Local\\Temp\\ipykernel_8060\\1742305843.py\u001b[0m in \u001b[0;36m<module>\u001b[1;34m\u001b[0m\n\u001b[0;32m      1\u001b[0m \u001b[0mCodon\u001b[0m \u001b[1;33m=\u001b[0m \u001b[1;34m\"Codon\"\u001b[0m\u001b[1;33m\u001b[0m\u001b[1;33m\u001b[0m\u001b[0m\n\u001b[1;32m----> 2\u001b[1;33m \u001b[0mprint\u001b[0m\u001b[1;33m(\u001b[0m\u001b[0msheet2\u001b[0m\u001b[1;33m[\u001b[0m\u001b[0mCodon\u001b[0m\u001b[1;33m]\u001b[0m\u001b[1;33m)\u001b[0m\u001b[1;33m\u001b[0m\u001b[1;33m\u001b[0m\u001b[0m\n\u001b[0m\u001b[0;32m      3\u001b[0m \u001b[1;33m\u001b[0m\u001b[0m\n\u001b[0;32m      4\u001b[0m \u001b[0mcodons\u001b[0m \u001b[1;33m=\u001b[0m \u001b[0msheet2\u001b[0m\u001b[1;33m[\u001b[0m\u001b[0mCodon\u001b[0m\u001b[1;33m]\u001b[0m\u001b[1;33m\u001b[0m\u001b[1;33m\u001b[0m\u001b[0m\n\u001b[0;32m      5\u001b[0m \u001b[0mprint\u001b[0m\u001b[1;33m(\u001b[0m\u001b[0mcodons\u001b[0m\u001b[1;33m)\u001b[0m\u001b[1;33m\u001b[0m\u001b[1;33m\u001b[0m\u001b[0m\n",
      "\u001b[1;31mNameError\u001b[0m: name 'sheet2' is not defined"
     ]
    }
   ],
   "source": [
    "Codon = \"Codon\"\n",
    "print(sheet2[Codon])\n",
    "\n",
    "codons = sheet2[Codon]\n",
    "print(codons)\n",
    "\n",
    "codon_sequence = ''.join(codons)\n",
    "print(codon_sequence)\n"
   ]
  },
  {
   "cell_type": "code",
   "execution_count": null,
   "metadata": {},
   "outputs": [],
   "source": [
    "def substitute_rare_codons(dna_sequence, codon_table):\n",
    "\n",
    "    # Calculate the threshold frequency for rare codons (e.g., 10%)\n",
    "    threshold_frequency = 0.10\n",
    "\n",
    "    # Create a dictionary to map rare codons to \"-\"\n",
    "    rare_codon_mapping = {\n",
    "        codon: \"-\" if frequency < threshold_frequency else codon\n",
    "        for codon, frequency in zip(codon_table['Codon'], codon_table['Frequency'])\n",
    "    }\n",
    "\n",
    "    # Substitute rare codons in the DNA sequence\n",
    "    substituted_sequence = ''.join([rare_codon_mapping.get(codon, codon) for codon in dna_sequence])\n",
    "\n",
    "    return substituted_sequence"
   ]
  },
  {
   "cell_type": "code",
   "execution_count": null,
   "metadata": {},
   "outputs": [
    {
     "name": "stdout",
     "output_type": "stream",
     "text": [
      "AAAAACAAGAATACAACCACGACTAGAAGCAGGAGTATAATCATGATTCAACACCAGCATCCACCCCCGCCTCGACGCCGGCGTCTACTCCTGCTTGAAGACGAGGATGCAGCCGCGGCTGGAGGCGGGGGTGTAGTCGTGGTTTAATACTAGTATTCATCCTCGTCTTGATGCTGGTGTTTATTCTTGTTT\n"
     ]
    }
   ],
   "source": [
    "rare_codon_sequence = substitute_rare_codons(codon_sequence, codon_table)\n",
    "print(rare_codon_sequence)"
   ]
  },
  {
   "cell_type": "markdown",
   "metadata": {},
   "source": [
    "- use biopython functions\n",
    "- rare codons <5%\n",
    "- in rare cases you might need rare codons - if restriction site is present in code - let it proceed but flag - say that it needs to be changed by hand\n",
    "- delete rare codons from codon_table"
   ]
  },
  {
   "cell_type": "markdown",
   "metadata": {},
   "source": [
    "- safranal try / acetoin\n",
    "- assemble and transform parts for heat sensitivity\n",
    "- recombination decide "
   ]
  },
  {
   "cell_type": "markdown",
   "metadata": {},
   "source": [
    "-----------------------------"
   ]
  }
 ],
 "metadata": {
  "kernelspec": {
   "display_name": "base",
   "language": "python",
   "name": "python3"
  },
  "language_info": {
   "codemirror_mode": {
    "name": "ipython",
    "version": 3
   },
   "file_extension": ".py",
   "mimetype": "text/x-python",
   "name": "python",
   "nbconvert_exporter": "python",
   "pygments_lexer": "ipython3",
   "version": "3.9.13"
  },
  "orig_nbformat": 4
 },
 "nbformat": 4,
 "nbformat_minor": 2
}
